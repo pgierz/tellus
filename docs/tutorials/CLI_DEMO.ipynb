{
 "cells": [
  {
   "cell_type": "markdown",
   "metadata": {},
   "source": [
    "# 🌊 Tellus CLI Demo: Traditional Workflow\n",
    "\n",
    "*A hands-on walkthrough of the Tellus command-line interface*\n",
    "\n",
    "## 🎯 What You'll Learn\n",
    "In 10 minutes, you'll create simulations, set up storage locations, and explore the core Tellus CLI workflows.\n",
    "\n",
    "---"
   ]
  },
  {
   "cell_type": "markdown",
   "metadata": {},
   "source": [
    "## 🚀 **Setup**\n",
    "\n",
    "First, let's make sure we're in the right environment and have everything set up:"
   ]
  },
  {
   "cell_type": "code",
   "execution_count": 1,
   "metadata": {
    "execution": {
     "iopub.execute_input": "2025-09-09T07:34:40.379625Z",
     "iopub.status.busy": "2025-09-09T07:34:40.378629Z",
     "iopub.status.idle": "2025-09-09T07:34:40.917934Z",
     "shell.execute_reply": "2025-09-09T07:34:40.917416Z"
    }
   },
   "outputs": [
    {
     "name": "stdout",
     "output_type": "stream",
     "text": [
      "/Users/pgierz/Code/worktree-checkouts/github.com/pgierz/tellus/rest/docs/tutorials\r\n"
     ]
    },
    {
     "name": "stdout",
     "output_type": "stream",
     "text": [
      "total 344\r\n",
      "drwxr-xr-x@  8 pgierz  DMAWI\\KLI06    256 Sep  9 09:12 \u001b[1m\u001b[36m.\u001b[m\u001b[m\r\n",
      "drwxr-xr-x@ 24 pgierz  DMAWI\\KLI06    768 Sep  5 07:29 \u001b[1m\u001b[36m..\u001b[m\u001b[m\r\n",
      "-rw-r--r--@  1 pgierz  DMAWI\\KLI06  11927 Sep  5 07:29 01-quickstart.md\r\n",
      "-rw-r--r--@  1 pgierz  DMAWI\\KLI06  25887 Sep  5 07:29 02-storage-setup.md\r\n"
     ]
    }
   ],
   "source": [
    "# Check we're in the right directory\n",
    "!pwd\n",
    "!ls -la | head -5"
   ]
  },
  {
   "cell_type": "code",
   "execution_count": 2,
   "metadata": {
    "execution": {
     "iopub.execute_input": "2025-09-09T07:34:40.920400Z",
     "iopub.status.busy": "2025-09-09T07:34:40.920225Z",
     "iopub.status.idle": "2025-09-09T07:34:41.181761Z",
     "shell.execute_reply": "2025-09-09T07:34:41.181223Z"
    }
   },
   "outputs": [
    {
     "name": "stdout",
     "output_type": "stream",
     "text": [
      "✅ Clean slate ready!\n"
     ]
    }
   ],
   "source": [
    "# Clean up any previous test data for a fresh start\n",
    "!rm -f simulations.json locations.json\n",
    "print(\"✅ Clean slate ready!\")"
   ]
  },
  {
   "cell_type": "markdown",
   "metadata": {},
   "source": [
    "## 🧪 **Core CLI Workflow**"
   ]
  },
  {
   "cell_type": "markdown",
   "metadata": {},
   "source": [
    "### Step 1: Create Your First Simulation"
   ]
  },
  {
   "cell_type": "code",
   "execution_count": 3,
   "metadata": {
    "execution": {
     "iopub.execute_input": "2025-09-09T07:34:41.184486Z",
     "iopub.status.busy": "2025-09-09T07:34:41.184292Z",
     "iopub.status.idle": "2025-09-09T07:34:42.417176Z",
     "shell.execute_reply": "2025-09-09T07:34:42.416627Z"
    }
   },
   "outputs": [
    {
     "name": "stdout",
     "output_type": "stream",
     "text": [
      "✨ \u001b[1mPixi task (\u001b[0m\u001b[32m\u001b[1mtellus\u001b[0m in \u001b[35mdefault\u001b[0m\u001b[1m): \u001b[0m\u001b[34m\u001b[1mpython -m tellus\u001b[0m \u001b[34msimulation create my-fesom-run --model-id FESOM2\u001b[0m\u001b[33m\u001b[0m                                                             \u001b[32m⠁\u001b[0m                                                                               \r",
      "\u001b[2K\u001b[32m⠁\u001b[0m updating pypi packages in '\u001b[35mdefault\u001b[0m'                                           \r",
      "\u001b[2K\u001b[32m⠁\u001b[0m updating pypi packages in '\u001b[35mdefault\u001b[0m'                                           \r",
      "\u001b[2K\u001b[32m⠁\u001b[0m                                                                               \r",
      "\u001b[2K\u001b[32m⠁\u001b[0m activating environment                                                        \r",
      "\u001b[2K\u001b[32m⠁\u001b[0m activating environment                                                        "
     ]
    },
    {
     "name": "stdout",
     "output_type": "stream",
     "text": [
      "\r",
      "\u001b[2K"
     ]
    },
    {
     "name": "stdout",
     "output_type": "stream",
     "text": [
      "\u001b[?12l\u001b[?25h\u001b[33mWarning: Interactive selection failed \u001b[0m\u001b[1;33m(\u001b[0m\u001b[33m'VSplit'\u001b[0m\u001b[33m object has no attribute \u001b[0m\r\n",
      "\u001b[33m'content'\u001b[0m\u001b[1;33m)\u001b[0m\u001b[33m, skipping location\u001b[0m\r\n",
      "Unexpected error creating simulation: Simulation with identifier 'my-fesom-run' already exists\r\n",
      "\u001b[31mError:\u001b[0m Simulation with identifier \u001b[32m'my-fesom-run'\u001b[0m already exists\r\n"
     ]
    },
    {
     "name": "stdout",
     "output_type": "stream",
     "text": [
      "\n",
      "✅ Created: my-fesom-run simulation\n"
     ]
    }
   ],
   "source": [
    "# Create a new FESOM ocean model simulation\n",
    "!pixi run tellus simulation create my-fesom-run --model-id FESOM2\n",
    "print(\"\\n✅ Created: my-fesom-run simulation\")"
   ]
  },
  {
   "cell_type": "markdown",
   "metadata": {},
   "source": [
    "### Step 2: Add Storage Locations\n",
    "\n",
    "Create storage locations where your simulation data can live:"
   ]
  },
  {
   "cell_type": "code",
   "execution_count": 4,
   "metadata": {
    "execution": {
     "iopub.execute_input": "2025-09-09T07:34:42.419447Z",
     "iopub.status.busy": "2025-09-09T07:34:42.419281Z",
     "iopub.status.idle": "2025-09-09T07:34:42.675826Z",
     "shell.execute_reply": "2025-09-09T07:34:42.675206Z"
    }
   },
   "outputs": [
    {
     "name": "stdout",
     "output_type": "stream",
     "text": [
      "📁 Created temp storage directory\n"
     ]
    }
   ],
   "source": [
    "# Create temp directory first\n",
    "!mkdir -p /tmp/dev-storage\n",
    "print(\"📁 Created temp storage directory\")"
   ]
  },
  {
   "cell_type": "code",
   "execution_count": 5,
   "metadata": {
    "execution": {
     "iopub.execute_input": "2025-09-09T07:34:42.678422Z",
     "iopub.status.busy": "2025-09-09T07:34:42.678208Z",
     "iopub.status.idle": "2025-09-09T07:34:43.642402Z",
     "shell.execute_reply": "2025-09-09T07:34:43.641896Z"
    }
   },
   "outputs": [
    {
     "name": "stdout",
     "output_type": "stream",
     "text": [
      "✨ \u001b[1mPixi task (\u001b[0m\u001b[32m\u001b[1mtellus\u001b[0m in \u001b[35mdefault\u001b[0m\u001b[1m): \u001b[0m\u001b[34m\u001b[1mpython -m tellus\u001b[0m \u001b[34mlocation create dev-local --protocol=file --kind=disk --path=/tmp/dev-storage\u001b[0m\u001b[33m\u001b[0m                                "
     ]
    },
    {
     "name": "stdout",
     "output_type": "stream",
     "text": [
      "\u001b[32m⠁\u001b[0m                                                                               \r",
      "\u001b[2K\u001b[32m⠁\u001b[0m updating pypi packages in '\u001b[35mdefault\u001b[0m'                                           \r",
      "\u001b[2K\u001b[32m⠁\u001b[0m updating pypi packages in '\u001b[35mdefault\u001b[0m'                                           \r",
      "\u001b[2K\u001b[32m⠁\u001b[0m                                                                               \r",
      "\u001b[2K\u001b[32m⠁\u001b[0m activating environment                                                        \r",
      "\u001b[2K\u001b[32m⠁\u001b[0m activating environment                                                        \r",
      "\u001b[2K"
     ]
    },
    {
     "name": "stdout",
     "output_type": "stream",
     "text": [
      "Unexpected error creating location: Location with identifier 'dev-local' already exists\r\n",
      "\u001b[31mError:\u001b[0m Location with identifier \u001b[32m'dev-local'\u001b[0m already exists\r\n"
     ]
    },
    {
     "name": "stdout",
     "output_type": "stream",
     "text": [
      "\n",
      "✅ Created dev-local location\n"
     ]
    }
   ],
   "source": [
    "# Add a local development location\n",
    "!pixi run tellus location create dev-local --protocol=file --kind=disk --path=/tmp/dev-storage\n",
    "print(\"\\n✅ Created dev-local location\")"
   ]
  },
  {
   "cell_type": "code",
   "execution_count": 6,
   "metadata": {
    "execution": {
     "iopub.execute_input": "2025-09-09T07:34:43.644661Z",
     "iopub.status.busy": "2025-09-09T07:34:43.644480Z",
     "iopub.status.idle": "2025-09-09T07:34:44.610126Z",
     "shell.execute_reply": "2025-09-09T07:34:44.609529Z"
    }
   },
   "outputs": [
    {
     "name": "stdout",
     "output_type": "stream",
     "text": [
      "✨ \u001b[1mPixi task (\u001b[0m\u001b[32m\u001b[1mtellus\u001b[0m in \u001b[35mdefault\u001b[0m\u001b[1m): \u001b[0m\u001b[34m\u001b[1mpython -m tellus\u001b[0m \u001b[34mlocation create hpc-cluster --protocol=ssh --kind=compute --host=login.hpc.example.com --path=/work/username/simulations\u001b[0m\u001b[33m\u001b[0m                                                                     "
     ]
    },
    {
     "name": "stdout",
     "output_type": "stream",
     "text": [
      "\u001b[32m⠁\u001b[0m                                                                               \r",
      "\u001b[2K\u001b[32m⠁\u001b[0m updating pypi packages in '\u001b[35mdefault\u001b[0m'                                           \r",
      "\u001b[2K\u001b[32m⠁\u001b[0m updating pypi packages in '\u001b[35mdefault\u001b[0m'                                           \r",
      "\u001b[2K\u001b[32m⠁\u001b[0m                                                                               \r",
      "\u001b[2K\u001b[32m⠁\u001b[0m activating environment                                                        \r",
      "\u001b[2K\u001b[32m⠁\u001b[0m activating environment                                                        \r",
      "\u001b[2K"
     ]
    },
    {
     "name": "stdout",
     "output_type": "stream",
     "text": [
      "Unexpected error creating location: Location with identifier 'hpc-cluster' already exists\r\n"
     ]
    },
    {
     "name": "stdout",
     "output_type": "stream",
     "text": [
      "\u001b[31mError:\u001b[0m Location with identifier \u001b[32m'hpc-cluster'\u001b[0m already exists\r\n"
     ]
    },
    {
     "name": "stdout",
     "output_type": "stream",
     "text": [
      "\n",
      "✅ Created hpc-cluster location\n"
     ]
    }
   ],
   "source": [
    "# Add an HPC cluster location  \n",
    "!pixi run tellus location create hpc-cluster --protocol=ssh --kind=compute --host=login.hpc.example.com --path=/work/username/simulations\n",
    "print(\"\\n✅ Created hpc-cluster location\")"
   ]
  },
  {
   "cell_type": "markdown",
   "metadata": {},
   "source": [
    "### Step 3: Connect Simulation to Locations"
   ]
  },
  {
   "cell_type": "code",
   "execution_count": 7,
   "metadata": {
    "execution": {
     "iopub.execute_input": "2025-09-09T07:34:44.612663Z",
     "iopub.status.busy": "2025-09-09T07:34:44.612472Z",
     "iopub.status.idle": "2025-09-09T07:34:45.574157Z",
     "shell.execute_reply": "2025-09-09T07:34:45.573552Z"
    }
   },
   "outputs": [
    {
     "name": "stdout",
     "output_type": "stream",
     "text": [
      "✨ \u001b[1mPixi task (\u001b[0m\u001b[32m\u001b[1mtellus\u001b[0m in \u001b[35mdefault\u001b[0m\u001b[1m): \u001b[0m\u001b[34m\u001b[1mpython -m tellus\u001b[0m \u001b[34msimulation location add my-fesom-run dev-local\u001b[0m\u001b[33m\u001b[0m                                                               "
     ]
    },
    {
     "name": "stdout",
     "output_type": "stream",
     "text": [
      "\u001b[32m⠁\u001b[0m                                                                               \r",
      "\u001b[2K\u001b[32m⠁\u001b[0m updating pypi packages in '\u001b[35mdefault\u001b[0m'                                           \r",
      "\u001b[2K\u001b[32m⠁\u001b[0m updating pypi packages in '\u001b[35mdefault\u001b[0m'                                           \r",
      "\u001b[2K\u001b[32m⠁\u001b[0m                                                                               \r",
      "\u001b[2K\u001b[32m⠁\u001b[0m activating environment                                                        \r",
      "\u001b[2K\u001b[32m⠁\u001b[0m activating environment                                                        \r",
      "\u001b[2K"
     ]
    },
    {
     "name": "stdout",
     "output_type": "stream",
     "text": [
      "\u001b[32m✓\u001b[0m Associated location \u001b[32m'dev-local'\u001b[0m with simulation \u001b[32m'my-fesom-run'\u001b[0m\r\n"
     ]
    },
    {
     "name": "stdout",
     "output_type": "stream",
     "text": [
      "\n",
      "✅ Associated dev-local with my-fesom-run\n"
     ]
    }
   ],
   "source": [
    "# Associate your simulation with storage locations\n",
    "!pixi run tellus simulation location add my-fesom-run dev-local\n",
    "print(\"\\n✅ Associated dev-local with my-fesom-run\")"
   ]
  },
  {
   "cell_type": "code",
   "execution_count": 8,
   "metadata": {
    "execution": {
     "iopub.execute_input": "2025-09-09T07:34:45.576783Z",
     "iopub.status.busy": "2025-09-09T07:34:45.576563Z",
     "iopub.status.idle": "2025-09-09T07:34:46.531516Z",
     "shell.execute_reply": "2025-09-09T07:34:46.530986Z"
    }
   },
   "outputs": [
    {
     "name": "stdout",
     "output_type": "stream",
     "text": [
      "✨ \u001b[1mPixi task (\u001b[0m\u001b[32m\u001b[1mtellus\u001b[0m in \u001b[35mdefault\u001b[0m\u001b[1m): \u001b[0m\u001b[34m\u001b[1mpython -m tellus\u001b[0m \u001b[34msimulation location add my-fesom-run hpc-cluster\u001b[0m\u001b[33m\u001b[0m                                                             "
     ]
    },
    {
     "name": "stdout",
     "output_type": "stream",
     "text": [
      "\u001b[32m⠁\u001b[0m                                                                               \r",
      "\u001b[2K\u001b[32m⠁\u001b[0m updating pypi packages in '\u001b[35mdefault\u001b[0m'                                           \r",
      "\u001b[2K\u001b[32m⠁\u001b[0m updating pypi packages in '\u001b[35mdefault\u001b[0m'                                           \r",
      "\u001b[2K\u001b[32m⠁\u001b[0m                                                                               \r",
      "\u001b[2K\u001b[32m⠁\u001b[0m activating environment                                                        \r",
      "\u001b[2K\u001b[32m⠁\u001b[0m activating environment                                                        \r",
      "\u001b[2K"
     ]
    },
    {
     "name": "stdout",
     "output_type": "stream",
     "text": [
      "\u001b[32m✓\u001b[0m Associated location \u001b[32m'hpc-cluster'\u001b[0m with simulation \u001b[32m'my-fesom-run'\u001b[0m\r\n"
     ]
    },
    {
     "name": "stdout",
     "output_type": "stream",
     "text": [
      "\n",
      "✅ Associated hpc-cluster with my-fesom-run\n"
     ]
    }
   ],
   "source": [
    "!pixi run tellus simulation location add my-fesom-run hpc-cluster\n",
    "print(\"\\n✅ Associated hpc-cluster with my-fesom-run\")"
   ]
  },
  {
   "cell_type": "markdown",
   "metadata": {},
   "source": [
    "### Step 4: Explore Your Setup"
   ]
  },
  {
   "cell_type": "code",
   "execution_count": 9,
   "metadata": {
    "execution": {
     "iopub.execute_input": "2025-09-09T07:34:46.533765Z",
     "iopub.status.busy": "2025-09-09T07:34:46.533591Z",
     "iopub.status.idle": "2025-09-09T07:34:47.488798Z",
     "shell.execute_reply": "2025-09-09T07:34:47.488225Z"
    }
   },
   "outputs": [
    {
     "name": "stdout",
     "output_type": "stream",
     "text": [
      "✨ \u001b[1mPixi task (\u001b[0m\u001b[32m\u001b[1mtellus\u001b[0m in \u001b[35mdefault\u001b[0m\u001b[1m): \u001b[0m\u001b[34m\u001b[1mpython -m tellus\u001b[0m \u001b[34msimulation list\u001b[0m\u001b[33m\u001b[0m              "
     ]
    },
    {
     "name": "stdout",
     "output_type": "stream",
     "text": [
      "\u001b[32m⠁\u001b[0m                                                                               \r",
      "\u001b[2K\u001b[32m⠁\u001b[0m updating pypi packages in '\u001b[35mdefault\u001b[0m'                                           \r",
      "\u001b[2K\u001b[32m⠁\u001b[0m updating pypi packages in '\u001b[35mdefault\u001b[0m'                                           \r",
      "\u001b[2K\u001b[32m⠁\u001b[0m                                                                               \r",
      "\u001b[2K\u001b[32m⠁\u001b[0m activating environment                                                        \r",
      "\u001b[2K\u001b[32m⠁\u001b[0m activating environment                                                        \r",
      "\u001b[2K"
     ]
    },
    {
     "name": "stdout",
     "output_type": "stream",
     "text": [
      "╭───────────────────────────────────────────────────────────────────────────╮\r\n",
      "│ \u001b[3m                          Available Simulations                          \u001b[0m │\r\n",
      "│ ┏━━━━━━━━━━━━━━━━━━┳━━━━━━━━━━━━━┳━━━━━━━━━━━━━━┳━━━━━━━━━━━━━┳━━━━━━━━━┓ │\r\n",
      "│ ┃\u001b[1;35m \u001b[0m\u001b[1;35mID              \u001b[0m\u001b[1;35m \u001b[0m┃\u001b[1;35m \u001b[0m\u001b[1;35m# Locations\u001b[0m\u001b[1;35m \u001b[0m┃\u001b[1;35m \u001b[0m\u001b[1;35m# Attributes\u001b[0m\u001b[1;35m \u001b[0m┃\u001b[1;35m \u001b[0m\u001b[1;35m# Workflows\u001b[0m\u001b[1;35m \u001b[0m┃\u001b[1;35m \u001b[0m\u001b[1;35m# Files\u001b[0m\u001b[1;35m \u001b[0m┃ │\r\n",
      "│ ┡━━━━━━━━━━━━━━━━━━╇━━━━━━━━━━━━━╇━━━━━━━━━━━━━━╇━━━━━━━━━━━━━╇━━━━━━━━━┩ │\r\n",
      "│ │\u001b[36m \u001b[0m\u001b[36manother-test-sim\u001b[0m\u001b[36m \u001b[0m│\u001b[34m \u001b[0m\u001b[34m0          \u001b[0m\u001b[34m \u001b[0m│\u001b[33m \u001b[0m\u001b[33m0           \u001b[0m\u001b[33m \u001b[0m│\u001b[32m \u001b[0m\u001b[32m0          \u001b[0m\u001b[32m \u001b[0m│\u001b[31m \u001b[0m\u001b[31m0      \u001b[0m\u001b[31m \u001b[0m│ │\r\n",
      "│ │\u001b[36m \u001b[0m\u001b[36mmy-fesom-run    \u001b[0m\u001b[36m \u001b[0m│\u001b[34m \u001b[0m\u001b[34m2          \u001b[0m\u001b[34m \u001b[0m│\u001b[33m \u001b[0m\u001b[33m0           \u001b[0m\u001b[33m \u001b[0m│\u001b[32m \u001b[0m\u001b[32m0          \u001b[0m\u001b[32m \u001b[0m│\u001b[31m \u001b[0m\u001b[31m0      \u001b[0m\u001b[31m \u001b[0m│ │\r\n",
      "│ │\u001b[36m \u001b[0m\u001b[36mrest-api-test   \u001b[0m\u001b[36m \u001b[0m│\u001b[34m \u001b[0m\u001b[34m0          \u001b[0m\u001b[34m \u001b[0m│\u001b[33m \u001b[0m\u001b[33m0           \u001b[0m\u001b[33m \u001b[0m│\u001b[32m \u001b[0m\u001b[32m0          \u001b[0m\u001b[32m \u001b[0m│\u001b[31m \u001b[0m\u001b[31m0      \u001b[0m\u001b[31m \u001b[0m│ │\r\n",
      "│ │\u001b[36m \u001b[0m\u001b[36mtest-sim        \u001b[0m\u001b[36m \u001b[0m│\u001b[34m \u001b[0m\u001b[34m0          \u001b[0m\u001b[34m \u001b[0m│\u001b[33m \u001b[0m\u001b[33m0           \u001b[0m\u001b[33m \u001b[0m│\u001b[32m \u001b[0m\u001b[32m0          \u001b[0m\u001b[32m \u001b[0m│\u001b[31m \u001b[0m\u001b[31m0      \u001b[0m\u001b[31m \u001b[0m│ │\r\n",
      "│ └──────────────────┴─────────────┴──────────────┴─────────────┴─────────┘ │\r\n",
      "╰───────────────────────────────────────────────────────────────────────────╯\r\n"
     ]
    }
   ],
   "source": [
    "# List all simulations\n",
    "!pixi run tellus simulation list"
   ]
  },
  {
   "cell_type": "code",
   "execution_count": 10,
   "metadata": {
    "execution": {
     "iopub.execute_input": "2025-09-09T07:34:47.491781Z",
     "iopub.status.busy": "2025-09-09T07:34:47.491570Z",
     "iopub.status.idle": "2025-09-09T07:34:48.519033Z",
     "shell.execute_reply": "2025-09-09T07:34:48.518573Z"
    }
   },
   "outputs": [
    {
     "name": "stdout",
     "output_type": "stream",
     "text": [
      "✨ \u001b[1mPixi task (\u001b[0m\u001b[32m\u001b[1mtellus\u001b[0m in \u001b[35mdefault\u001b[0m\u001b[1m): \u001b[0m\u001b[34m\u001b[1mpython -m tellus\u001b[0m \u001b[34msimulation show my-fesom-run\u001b[0m\u001b[33m\u001b[0m "
     ]
    },
    {
     "name": "stdout",
     "output_type": "stream",
     "text": [
      "\u001b[32m⠁\u001b[0m                                                                               \r",
      "\u001b[2K\u001b[32m⠁\u001b[0m updating pypi packages in '\u001b[35mdefault\u001b[0m'                                           \r",
      "\u001b[2K\u001b[32m⠁\u001b[0m updating pypi packages in '\u001b[35mdefault\u001b[0m'                                           \r",
      "\u001b[2K\u001b[32m⠁\u001b[0m                                                                               \r",
      "\u001b[2K\u001b[32m⠁\u001b[0m activating environment                                                        \r",
      "\u001b[2K\u001b[32m⠁\u001b[0m activating environment                                                        "
     ]
    },
    {
     "name": "stdout",
     "output_type": "stream",
     "text": [
      "\r",
      "\u001b[2K"
     ]
    },
    {
     "name": "stdout",
     "output_type": "stream",
     "text": [
      "╭─────────────────────────────────────────╮\r\n",
      "│ \u001b[3m       Simulation: my-fesom-run        \u001b[0m │\r\n",
      "│ ┏━━━━━━━━━━━━┳━━━━━━━━━━━━━━━━━━━━━━━━┓ │\r\n",
      "│ ┃\u001b[1m \u001b[0m\u001b[1mProperty  \u001b[0m\u001b[1m \u001b[0m┃\u001b[1m \u001b[0m\u001b[1mValue                 \u001b[0m\u001b[1m \u001b[0m┃ │\r\n",
      "│ ┡━━━━━━━━━━━━╇━━━━━━━━━━━━━━━━━━━━━━━━┩ │\r\n",
      "│ │\u001b[36m \u001b[0m\u001b[36mID        \u001b[0m\u001b[36m \u001b[0m│\u001b[32m \u001b[0m\u001b[32mmy-fesom-run          \u001b[0m\u001b[32m \u001b[0m│ │\r\n",
      "│ │\u001b[36m \u001b[0m\u001b[36mLocations \u001b[0m\u001b[36m \u001b[0m│\u001b[32m \u001b[0m\u001b[32mdev-local, hpc-cluster\u001b[0m\u001b[32m \u001b[0m│ │\r\n",
      "│ │\u001b[36m \u001b[0m\u001b[36mAttributes\u001b[0m\u001b[36m \u001b[0m│\u001b[32m \u001b[0m\u001b[32m-                     \u001b[0m\u001b[32m \u001b[0m│ │\r\n",
      "│ └────────────┴────────────────────────┘ │\r\n",
      "╰───────�"
     ]
    },
    {
     "name": "stdout",
     "output_type": "stream",
     "text": [
      "��─────────────────────────────────╯\r\n"
     ]
    }
   ],
   "source": [
    "# View simulation details\n",
    "!pixi run tellus simulation show my-fesom-run"
   ]
  },
  {
   "cell_type": "code",
   "execution_count": 11,
   "metadata": {
    "execution": {
     "iopub.execute_input": "2025-09-09T07:34:48.521582Z",
     "iopub.status.busy": "2025-09-09T07:34:48.521311Z",
     "iopub.status.idle": "2025-09-09T07:34:49.547468Z",
     "shell.execute_reply": "2025-09-09T07:34:49.546829Z"
    }
   },
   "outputs": [
    {
     "name": "stdout",
     "output_type": "stream",
     "text": [
      "✨ \u001b[1mPixi task (\u001b[0m\u001b[32m\u001b[1mtellus\u001b[0m in \u001b[35mdefault\u001b[0m\u001b[1m): \u001b[0m\u001b[34m\u001b[1mpython -m tellus\u001b[0m \u001b[34mlocation list\u001b[0m\u001b[33m\u001b[0m                "
     ]
    },
    {
     "name": "stdout",
     "output_type": "stream",
     "text": [
      "\u001b[32m⠁\u001b[0m                                                                               \r",
      "\u001b[2K\u001b[32m⠁\u001b[0m updating pypi packages in '\u001b[35mdefault\u001b[0m'                                           \r",
      "\u001b[2K\u001b[32m⠁\u001b[0m updating pypi packages in '\u001b[35mdefault\u001b[0m'                                           \r",
      "\u001b[2K\u001b[32m⠁\u001b[0m                                                                               \r",
      "\u001b[2K\u001b[32m⠁\u001b[0m activating environment                                                        \r",
      "\u001b[2K\u001b[32m⠁\u001b[0m activating environment                                                        \r",
      "\u001b[2K"
     ]
    },
    {
     "name": "stdout",
     "output_type": "stream",
     "text": [
      "╭─────────────────────────────────────────────────────────────────────────╮\r\n",
      "│ \u001b[3m                          Available Locations                          \u001b[0m │\r\n",
      "│ ┏━━━━━━━━━━━━━━━━━━┳━━━━━━━━━━━━━━━┳━━━━━━━━━━┳━━━━━━━━━━━━━━━━━━━━━━━┓ │\r\n",
      "│ ┃\u001b[1;35m \u001b[0m\u001b[1;35mName            \u001b[0m\u001b[1;35m \u001b[0m┃\u001b[1;35m \u001b[0m\u001b[1;35mKind         \u001b[0m\u001b[1;35m \u001b[0m┃\u001b[1;35m \u001b[0m\u001b[1;35mProtocol\u001b[0m\u001b[1;35m \u001b[0m┃\u001b[1;35m \u001b[0m\u001b[1;35mHost                 \u001b[0m\u001b[1;35m \u001b[0m┃ │\r\n",
      "│ ┡━━━━━━━━━━━━━━━━━━╇━━━━━━━━━━━━━━━╇━━━━━━━━━━╇━━━━━━━━━━━━━━━━━━━━━━━┩ │\r\n",
      "│ │\u001b[36m \u001b[0m\u001b[36malbedo0.dmawi.de\u001b[0m\u001b[36m \u001b[0m│\u001b[32m \u001b[0m\u001b[32mcompute, disk\u001b[0m\u001b[32m \u001b[0m│\u001b[34m \u001b[0m\u001b[34mssh     \u001b[0m\u001b[34m \u001b[0m│\u001b[33m \u001b[0m\u001b[33malbedo0.dmawi.de     \u001b[0m\u001b[33m \u001b[0m│ │\r\n",
      "│ │\u001b[36m \u001b[0m\u001b[36mdev-local       \u001b[0m\u001b[36m \u001b[0m│\u001b[32m \u001b[0m\u001b[32mdisk         \u001b[0m\u001b[32m \u001b[0m│\u001b[34m \u001b[0m\u001b[34mfile    \u001b[0m\u001b[34m \u001b[0m│\u001b[33m \u001b[0m\u001b[33m-                    \u001b[0m\u001b[33m \u001b[0m│ │\r\n",
      "│ │\u001b[36m \u001b[0m\u001b[36mhpc-cluster     \u001b[0m\u001b[36m \u001b[0m│\u001b[32m \u001b[0m\u001b[32mcompute      \u001b[0m\u001b[32m \u001b[0m│\u001b[34m \u001b[0m\u001b[34mssh     \u001b[0m\u001b[34m \u001b[0m│\u001b[33m \u001b[0m\u001b[33mlogin.hpc.example.com\u001b[0m\u001b[33m \u001b[0m│ │\r\n",
      "│ │\u001b[36m \u001b[0m\u001b[36mhsm.dmawi.de    \u001b[0m\u001b[36m \u001b[0m│\u001b[32m \u001b[0m\u001b[32mtape         \u001b[0m\u001b[32m \u001b[0m│\u001b[34m \u001b[0m\u001b[34mscoutfs \u001b[0m\u001b[34m \u001b[0m│\u001b[33m \u001b[0m\u001b[33mhsm.dmawi.de         \u001b[0m\u001b[33m \u001b[0m│ │\r\n",
      "│ │\u001b[36m \u001b[0m\u001b[36misibhv          \u001b[0m\u001b[36m \u001b[0m│\u001b[32m \u001b[0m\u001b[32mdisk         \u001b[0m\u001b[32m \u001b[0m│\u001b[34m \u001b[0m\u001b[34msftp    \u001b[0m\u001b[34m \u001b[0m│\u001b[33m \u001b[0m\u001b[33malbedo0.dmawi.de     \u001b[0m\u001b[33m \u001b[0m│ │\r\n",
      "│ │\u001b[36m \u001b[0m\u001b[36mtellus_hsm      \u001b[0m\u001b[36m \u001b[0m│\u001b[32m \u001b[0m\u001b[32mtape         \u001b[0m\u001b[32m \u001b[0m│\u001b[34m \u001b[0m\u001b[34mscoutfs \u001b[0m\u001b[34m \u001b[0m│\u001b[33m \u001b[0m\u001b[33mhsm.dmawi.de         \u001b[0m\u001b[33m \u001b[0m│ │\r\n",
      "│ │\u001b[36m \u001b[0m\u001b[36mtellus_localhost\u001b[0m\u001b[36m \u001b[0m│\u001b[32m \u001b[0m\u001b[32mcompute, disk\u001b[0m\u001b[32m \u001b[0m│\u001b[34m \u001b[0m\u001b[34mfile    \u001b[0m\u001b[34m \u001b[0m│\u001b[33m \u001b[0m\u001b[33m-                    \u001b[0m\u001b[33m \u001b[0m│ │\r\n",
      "│ │\u001b[36m \u001b[0m\u001b[36mtest-source     \u001b[0m\u001b[36m \u001b[0m│\u001b[32m \u001b[0m\u001b[32mdisk         \u001b[0m\u001b[32m \u001b[0m│\u001b[34m \u001b[0m\u001b[34mfile    \u001b[0m\u001b[34m \u001b[0m│\u001b[33m \u001b[0m\u001b[33m-                    \u001b[0m\u001b[33m \u001b[0m│ │\r\n",
      "│ │\u001b[36m \u001b[0m\u001b[36mtest-structured \u001b[0m\u001b[36m \u001b[0m│\u001b[32m \u001b[0m\u001b[32mdisk         \u001b[0m\u001b[32m \u001b[0m│\u001b[34m \u001b[0m\u001b[34mfile    \u001b[0m\u001b[34m \u001b[0m│\u001b[33m \u001b[0m\u001b[33m-                    \u001b[0m\u001b[33m \u001b[0m│ │\r\n",
      "│ │\u001b[36m \u001b[0m\u001b[36mtmp             \u001b[0m\u001b[36m \u001b[0m│\u001b[32m \u001b[0m\u001b[32mdisk         \u001b[0m\u001b[32m \u001b[0m│\u001b[34m \u001b[0m\u001b[34mfile    \u001b[0m\u001b[34m \u001b[0m│\u001b[33m \u001b[0m\u001b[33m-                    \u001b[0m\u001b[33m \u001b[0m│ │\r\n",
      "│ └──────────────────┴───────────────┴──────────┴───────────────────────┘ │\r\n",
      "╰─────────────────────────────────────────────────────────────────────────╯\r\n"
     ]
    }
   ],
   "source": [
    "# List available storage locations\n",
    "!pixi run tellus location list"
   ]
  },
  {
   "cell_type": "code",
   "execution_count": 12,
   "metadata": {
    "execution": {
     "iopub.execute_input": "2025-09-09T07:34:49.550476Z",
     "iopub.status.busy": "2025-09-09T07:34:49.550291Z",
     "iopub.status.idle": "2025-09-09T07:34:50.547212Z",
     "shell.execute_reply": "2025-09-09T07:34:50.546556Z"
    }
   },
   "outputs": [
    {
     "name": "stdout",
     "output_type": "stream",
     "text": [
      "✨ \u001b[1mPixi task (\u001b[0m\u001b[32m\u001b[1mtellus\u001b[0m in \u001b[35mdefault\u001b[0m\u001b[1m): \u001b[0m\u001b[34m\u001b[1mpython -m tellus\u001b[0m \u001b[34mlocation test dev-local\u001b[0m\u001b[33m\u001b[0m      "
     ]
    },
    {
     "name": "stdout",
     "output_type": "stream",
     "text": [
      "\u001b[32m⠁\u001b[0m                                                                               \r",
      "\u001b[2K\u001b[32m⠁\u001b[0m updating pypi packages in '\u001b[35mdefault\u001b[0m'                                           \r",
      "\u001b[2K\u001b[32m⠁\u001b[0m updating pypi packages in '\u001b[35mdefault\u001b[0m'                                           \r",
      "\u001b[2K\u001b[32m⠁\u001b[0m                                                                               \r",
      "\u001b[2K\u001b[32m⠁\u001b[0m activating environment                                                        \r",
      "\u001b[2K\u001b[32m⠁\u001b[0m activating environment                                                        \r",
      "\u001b[2K"
     ]
    },
    {
     "name": "stdout",
     "output_type": "stream",
     "text": [
      "\r\n",
      "\u001b[2mTesting connection to \u001b[0m\u001b[2;32m'dev-local'\u001b[0m\u001b[2;33m...\u001b[0m\r\n",
      "\u001b[32m✓\u001b[0m Connection to \u001b[32m'dev-local'\u001b[0m successful\r\n",
      "\u001b[2mResponse time: \u001b[0m\u001b[1;2;36m0.\u001b[0m\u001b[2m1ms\u001b[0m\r\n",
      "\u001b[2mAvailable space: \u001b[0m\u001b[1;2;36m113.\u001b[0m\u001b[2m0GB\u001b[0m\r\n",
      "\u001b[2mpath_exists: \u001b[0m\u001b[2;3;92mTrue\u001b[0m\r\n",
      "\u001b[2mis_directory: \u001b[0m\u001b[2;3;92mTrue\u001b[0m\r\n"
     ]
    }
   ],
   "source": [
    "# Test location connectivity\n",
    "!pixi run tellus location test dev-local"
   ]
  },
  {
   "cell_type": "code",
   "execution_count": 13,
   "metadata": {
    "execution": {
     "iopub.execute_input": "2025-09-09T07:34:50.550184Z",
     "iopub.status.busy": "2025-09-09T07:34:50.550006Z",
     "iopub.status.idle": "2025-09-09T07:34:51.523871Z",
     "shell.execute_reply": "2025-09-09T07:34:51.523479Z"
    }
   },
   "outputs": [
    {
     "name": "stdout",
     "output_type": "stream",
     "text": [
      "✨ \u001b[1mPixi task (\u001b[0m\u001b[32m\u001b[1mtellus\u001b[0m in \u001b[35mdefault\u001b[0m\u001b[1m): \u001b[0m\u001b[34m\u001b[1mpython -m tellus\u001b[0m \u001b[34msimulation location list my-fesom-run\u001b[0m\u001b[33m\u001b[0m                                                                        "
     ]
    },
    {
     "name": "stdout",
     "output_type": "stream",
     "text": [
      "\u001b[32m⠁\u001b[0m                                                                               \r",
      "\u001b[2K\u001b[32m⠁\u001b[0m updating pypi packages in '\u001b[35mdefault\u001b[0m'                                           \r",
      "\u001b[2K\u001b[32m⠁\u001b[0m updating pypi packages in '\u001b[35mdefault\u001b[0m'                                           \r",
      "\u001b[2K\u001b[32m⠁\u001b[0m                                                                               \r",
      "\u001b[2K\u001b[32m⠁\u001b[0m activating environment                                                        \r",
      "\u001b[2K\u001b[32m⠁\u001b[0m activating environment                                                        \r",
      "\u001b[2K"
     ]
    },
    {
     "name": "stdout",
     "output_type": "stream",
     "text": [
      "╭────────────────────────────────────────────────────────────────────────╮\r\n",
      "│ \u001b[3m                Locations for Simulation: my-fesom-run                \u001b[0m │\r\n",
      "│ ┏━━━━━━━━━━━━━┳━━━━━━━━━━━━━━━━━━━━━━━━━━━━━━━━━━━━━━━━━━━━━━━━━━━━━━┓ │\r\n",
      "│ ┃\u001b[1m \u001b[0m\u001b[1mLocation   \u001b[0m\u001b[1m \u001b[0m┃\u001b[1m \u001b[0m\u001b[1mContext                                             \u001b[0m\u001b[1m \u001b[0m┃ │\r\n",
      "│ ┡━━━━━━━━━━━━━╇━━━━━━━━━━━━━━━━━━━━━━━━━━━━━━━━━━━━━━━━━━━━━━━━━━━━━━┩ │\r\n",
      "│ │\u001b[36m \u001b[0m\u001b[36mdev-local  \u001b[0m\u001b[36m \u001b[0m│\u001b[32m \u001b[0m\u001b[32m{'path_prefix': '', 'overrides': {}, 'metadata': {}}\u001b[0m\u001b[32m \u001b[0m│ │\r\n",
      "│ │\u001b[36m \u001b[0m\u001b[36mhpc-cluster\u001b[0m\u001b[36m \u001b[0m│\u001b[32m \u001b[0m\u001b[32m{'path_prefix': '', 'overrides': {}, 'metadata': {}}\u001b[0m\u001b[32m \u001b[0m│ │\r\n",
      "│ └─────────────┴──────────────────────────────────────────────────────┘ │\r\n",
      "╰────────────────────────────────────────────────────────────────────────╯\r\n"
     ]
    }
   ],
   "source": [
    "# List simulation-location associations\n",
    "!pixi run tellus simulation location list my-fesom-run"
   ]
  },
  {
   "cell_type": "markdown",
   "metadata": {},
   "source": [
    "### Step 5: Work with Simulation Data"
   ]
  },
  {
   "cell_type": "code",
   "execution_count": 14,
   "metadata": {
    "execution": {
     "iopub.execute_input": "2025-09-09T07:34:51.525786Z",
     "iopub.status.busy": "2025-09-09T07:34:51.525657Z",
     "iopub.status.idle": "2025-09-09T07:34:52.562942Z",
     "shell.execute_reply": "2025-09-09T07:34:52.562435Z"
    }
   },
   "outputs": [
    {
     "name": "stdout",
     "output_type": "stream",
     "text": [
      "✨ \u001b[1mPixi task (\u001b[0m\u001b[32m\u001b[1mtellus\u001b[0m in \u001b[35mdefault\u001b[0m\u001b[1m): \u001b[0m\u001b[34m\u001b[1mpython -m tellus\u001b[0m \u001b[34msimulation location ls my-fesom-run dev-local\u001b[0m\u001b[33m\u001b[0m                                                                "
     ]
    },
    {
     "name": "stdout",
     "output_type": "stream",
     "text": [
      "\u001b[32m⠁\u001b[0m                                                                               \r",
      "\u001b[2K\u001b[32m⠁\u001b[0m updating pypi packages in '\u001b[35mdefault\u001b[0m'                                           \r",
      "\u001b[2K\u001b[32m⠁\u001b[0m updating pypi packages in '\u001b[35mdefault\u001b[0m'                                           \r",
      "\u001b[2K\u001b[32m⠁\u001b[0m                                                                               \r",
      "\u001b[2K\u001b[32m⠁\u001b[0m activating environment                                                        \r",
      "\u001b[2K\u001b[32m⠁\u001b[0m activating environment                                                        \r",
      "\u001b[2K"
     ]
    },
    {
     "name": "stdout",
     "output_type": "stream",
     "text": [
      "\u001b[2mListing: dev-local:\u001b[0m\u001b[2;35m/tmp/\u001b[0m\u001b[2;95mdev-storage\u001b[0m\r\n",
      "\u001b[1;2;92m09:34:52\u001b[0m 🔍 Accessing path: \r\n",
      "\u001b[2mEmpty directory\u001b[0m\r\n",
      "\r\n"
     ]
    }
   ],
   "source": [
    "# List contents at a simulation location\n",
    "!pixi run tellus simulation location ls my-fesom-run dev-local"
   ]
  },
  {
   "cell_type": "code",
   "execution_count": 15,
   "metadata": {
    "execution": {
     "iopub.execute_input": "2025-09-09T07:34:52.565578Z",
     "iopub.status.busy": "2025-09-09T07:34:52.565416Z",
     "iopub.status.idle": "2025-09-09T07:34:52.820899Z",
     "shell.execute_reply": "2025-09-09T07:34:52.820181Z"
    }
   },
   "outputs": [
    {
     "name": "stdout",
     "output_type": "stream",
     "text": [
      "📝 Created sample data file\n"
     ]
    }
   ],
   "source": [
    "# Create a sample data file and upload it\n",
    "!echo \"Sample simulation output data\" > /tmp/sample_output.txt\n",
    "print(\"📝 Created sample data file\")"
   ]
  },
  {
   "cell_type": "code",
   "execution_count": 16,
   "metadata": {
    "execution": {
     "iopub.execute_input": "2025-09-09T07:34:52.823128Z",
     "iopub.status.busy": "2025-09-09T07:34:52.822951Z",
     "iopub.status.idle": "2025-09-09T07:34:53.856906Z",
     "shell.execute_reply": "2025-09-09T07:34:53.856222Z"
    }
   },
   "outputs": [
    {
     "name": "stdout",
     "output_type": "stream",
     "text": [
      "✨ \u001b[1mPixi task (\u001b[0m\u001b[32m\u001b[1mtellus\u001b[0m in \u001b[35mdefault\u001b[0m\u001b[1m): \u001b[0m\u001b[34m\u001b[1mpython -m tellus\u001b[0m \u001b[34msimulation location put my-fesom-run dev-local /tmp/sample_output.txt\u001b[0m\u001b[33m\u001b[0m                                        \u001b[32m⠁\u001b[0m                                                                               \r",
      "\u001b[2K\u001b[32m⠁\u001b[0m updating pypi packages in '\u001b[35mdefault\u001b[0m'                                           \r",
      "\u001b[2K\u001b[32m⠁\u001b[0m updating pypi packages in '\u001b[35mdefault\u001b[0m'                                           "
     ]
    },
    {
     "name": "stdout",
     "output_type": "stream",
     "text": [
      "\r",
      "\u001b[2K\u001b[32m⠁\u001b[0m                                                                               \r",
      "\u001b[2K\u001b[32m⠁\u001b[0m activating environment                                                        \r",
      "\u001b[2K\u001b[32m⠁\u001b[0m activating environment                                                        \r",
      "\u001b[2K"
     ]
    },
    {
     "name": "stdout",
     "output_type": "stream",
     "text": [
      "\u001b[2mUploading \u001b[0m\u001b[1;2;36m1\u001b[0m\u001b[2m \u001b[0m\u001b[1;2;35mfile\u001b[0m\u001b[1;2m(\u001b[0m\u001b[2ms\u001b[0m\u001b[1;2m)\u001b[0m\u001b[2m to dev-local\u001b[0m\r\n",
      "\u001b[?25l\r",
      "\u001b[2K\u001b[32m⠋\u001b[0m Uploading sample_output.txt \u001b[38;5;237m━━━━━━━━━━━━━━━━━━━━━━━━━━━━━━━━━━━━━\u001b[0m \u001b[32m0/30 bytes\u001b[0m \u001b[31m?\u001b[0m\r",
      "\u001b[2K  Uploading sample_output.txt \u001b[38;2;114;156;31m━━━━━━━━━━━━━━━━━━━━━━━━━━━━━━━━━━━━━━\u001b[0m \u001b[32m1/1 bytes\u001b[0m \u001b[31m?\u001b[0m\r\n",
      "\u001b[?25h\u001b[32m✓\u001b[0m Uploaded \u001b[32m'/tmp/sample_output.txt'\u001b[0m → \u001b[32m'/sample_output.txt'\u001b[0m\r\n",
      "\u001b[32mUpload completed\u001b[0m\r\n"
     ]
    },
    {
     "name": "stdout",
     "output_type": "stream",
     "text": [
      "\n",
      "✅ Uploaded sample data to dev-local\n"
     ]
    }
   ],
   "source": [
    "# Upload the file to the simulation location\n",
    "!pixi run tellus simulation location put my-fesom-run dev-local /tmp/sample_output.txt\n",
    "print(\"\\n✅ Uploaded sample data to dev-local\")"
   ]
  },
  {
   "cell_type": "code",
   "execution_count": 17,
   "metadata": {
    "execution": {
     "iopub.execute_input": "2025-09-09T07:34:53.858898Z",
     "iopub.status.busy": "2025-09-09T07:34:53.858711Z",
     "iopub.status.idle": "2025-09-09T07:34:54.902427Z",
     "shell.execute_reply": "2025-09-09T07:34:54.901922Z"
    }
   },
   "outputs": [
    {
     "name": "stdout",
     "output_type": "stream",
     "text": [
      "✨ \u001b[1mPixi task (\u001b[0m\u001b[32m\u001b[1mtellus\u001b[0m in \u001b[35mdefault\u001b[0m\u001b[1m): \u001b[0m\u001b[34m\u001b[1mpython -m tellus\u001b[0m \u001b[34msimulation location ls my-fesom-run dev-local\u001b[0m\u001b[33m\u001b[0m                                                                \u001b[32m⠁\u001b[0m                                                                               \r",
      "\u001b[2K\u001b[32m⠁\u001b[0m updating pypi packages in '\u001b[35mdefault\u001b[0m'                                           \r",
      "\u001b[2K\u001b[32m⠁\u001b[0m updating pypi packages in '\u001b[35mdefault\u001b[0m'                                           "
     ]
    },
    {
     "name": "stdout",
     "output_type": "stream",
     "text": [
      "\r",
      "\u001b[2K\u001b[32m⠁\u001b[0m                                                                               \r",
      "\u001b[2K\u001b[32m⠁\u001b[0m activating environment                                                        \r",
      "\u001b[2K\u001b[32m⠁\u001b[0m activating environment                                                        \r",
      "\u001b[2K"
     ]
    },
    {
     "name": "stdout",
     "output_type": "stream",
     "text": [
      "\u001b[2mListing: dev-local:\u001b[0m\u001b[2;35m/tmp/\u001b[0m\u001b[2;95mdev-storage\u001b[0m\r\n",
      "\u001b[1;2;92m09:34:54\u001b[0m 🔍 Accessing path: \r\n",
      "sample_output.txt\r\n",
      "\r\n"
     ]
    }
   ],
   "source": [
    "# List contents again to see our uploaded file\n",
    "!pixi run tellus simulation location ls my-fesom-run dev-local"
   ]
  },
  {
   "cell_type": "markdown",
   "metadata": {},
   "source": [
    "---\n",
    "\n",
    "## 📊 **What You Just Built**\n",
    "\n",
    "### **Your Data Architecture:**\n",
    "```\n",
    "📁 Simulations\n",
    "└── 🌊 my-fesom-run (FESOM2)\n",
    "    ├── 💻 dev-local (associated)\n",
    "    └── 🖥️ hpc-cluster (associated)\n",
    "\n",
    "📍 Locations\n",
    "├── dev-local (local development) - ✅ Working\n",
    "└── hpc-cluster (HPC compute) - ⚠️ Remote (requires SSH access)\n",
    "```"
   ]
  },
  {
   "cell_type": "markdown",
   "metadata": {},
   "source": [
    "---\n",
    "\n",
    "## 🔍 **Advanced Features**"
   ]
  },
  {
   "cell_type": "code",
   "execution_count": 18,
   "metadata": {
    "execution": {
     "iopub.execute_input": "2025-09-09T07:34:54.904879Z",
     "iopub.status.busy": "2025-09-09T07:34:54.904692Z",
     "iopub.status.idle": "2025-09-09T07:34:55.934730Z",
     "shell.execute_reply": "2025-09-09T07:34:55.934183Z"
    }
   },
   "outputs": [
    {
     "name": "stdout",
     "output_type": "stream",
     "text": [
      "✨ \u001b[1mPixi task (\u001b[0m\u001b[32m\u001b[1mtellus\u001b[0m in \u001b[35mdefault\u001b[0m\u001b[1m): \u001b[0m\u001b[34m\u001b[1mpython -m tellus\u001b[0m \u001b[34msimulation attrs my-fesom-run\u001b[0m\u001b[33m\u001b[0m\u001b[32m⠁\u001b[0m                                                                               \r",
      "\u001b[2K\u001b[32m⠁\u001b[0m updating pypi packages in '\u001b[35mdefault\u001b[0m'                                           \r",
      "\u001b[2K\u001b[32m⠁\u001b[0m updating pypi packages in '\u001b[35mdefault\u001b[0m'                                           "
     ]
    },
    {
     "name": "stdout",
     "output_type": "stream",
     "text": [
      "\r",
      "\u001b[2K\u001b[32m⠁\u001b[0m                                                                               \r",
      "\u001b[2K\u001b[32m⠁\u001b[0m activating environment                                                        \r",
      "\u001b[2K\u001b[32m⠁\u001b[0m activating environment                                                        \r",
      "\u001b[2K"
     ]
    },
    {
     "name": "stdout",
     "output_type": "stream",
     "text": [
      "No attributes set for simulation \u001b[32m'my-fesom-run'\u001b[0m\r\n"
     ]
    }
   ],
   "source": [
    "# Manage simulation attributes\n",
    "!pixi run tellus simulation attrs my-fesom-run"
   ]
  },
  {
   "cell_type": "code",
   "execution_count": 19,
   "metadata": {
    "execution": {
     "iopub.execute_input": "2025-09-09T07:34:55.937101Z",
     "iopub.status.busy": "2025-09-09T07:34:55.936886Z",
     "iopub.status.idle": "2025-09-09T07:34:57.025438Z",
     "shell.execute_reply": "2025-09-09T07:34:57.024876Z"
    }
   },
   "outputs": [
    {
     "name": "stdout",
     "output_type": "stream",
     "text": [
      "✨ \u001b[1mPixi task (\u001b[0m\u001b[32m\u001b[1mtellus\u001b[0m in \u001b[35mdefault\u001b[0m\u001b[1m): \u001b[0m\u001b[34m\u001b[1mpython -m tellus\u001b[0m \u001b[34msimulation files --help\u001b[0m\u001b[33m\u001b[0m      "
     ]
    },
    {
     "name": "stdout",
     "output_type": "stream",
     "text": [
      "\u001b[32m⠁\u001b[0m                                                                               \r",
      "\u001b[2K\u001b[32m⠁\u001b[0m updating pypi packages in '\u001b[35mdefault\u001b[0m'                                           \r",
      "\u001b[2K\u001b[32m⠁\u001b[0m updating pypi packages in '\u001b[35mdefault\u001b[0m'                                           \r",
      "\u001b[2K\u001b[32m⠁\u001b[0m                                                                               \r",
      "\u001b[2K\u001b[32m⠁\u001b[0m activating environment                                                        \r",
      "\u001b[2K\u001b[32m⠁\u001b[0m activating environment                                                        \r",
      "\u001b[2K"
     ]
    },
    {
     "name": "stdout",
     "output_type": "stream",
     "text": [
      "                                                                                \r\n",
      " \u001b[33mUsage:\u001b[0m \u001b[1mpython -m tellus simulation files\u001b[0m [\u001b[1;36mOPTIONS\u001b[0m] \u001b[1;36mCOMMAND\u001b[0m [\u001b[1;36mARGS\u001b[0m]...           \r\n",
      "                                                                                \r\n"
     ]
    },
    {
     "name": "stdout",
     "output_type": "stream",
     "text": [
      " Manage simulation files.                                                       \r\n",
      "                                                                                \r\n",
      "\u001b[2m╭─\u001b[0m\u001b[2m Options \u001b[0m\u001b[2m───────────────────────────────────────────────────────────────────\u001b[0m\u001b[2m─╮\u001b[0m\r\n",
      "\u001b[2m│\u001b[0m \u001b[1;36m--help\u001b[0m      Show this message and exit.                                      \u001b[2m│\u001b[0m\r\n",
      "\u001b[2m╰──────────────────────────────────────────────────────────────────────────────╯\u001b[0m\r\n",
      "\u001b[2m╭─\u001b[0m\u001b[2m Commands \u001b[0m\u001b[2m──────────────────────────────────────────────────────────────────\u001b[0m\u001b[2m─╮\u001b[0m\r\n",
      "\u001b[2m│\u001b[0m \u001b[1;36madd     \u001b[0m\u001b[1;36m \u001b[0m Add (register) files from an archive to this simulation.           \u001b[2m│\u001b[0m\r\n",
      "\u001b[2m│\u001b[0m \u001b[1;36mlist    \u001b[0m\u001b[1;36m \u001b[0m List files associated with a simulation.                           \u001b[2m│\u001b[0m\r\n",
      "\u001b[2m│\u001b[0m \u001b[1;36mrm      \u001b[0m\u001b[1;36m \u001b[0m Remove (unregister) files from this simulation.                    \u001b[2m│\u001b[0m\r\n",
      "\u001b[2m│\u001b[0m \u001b[1;36mstatus  \u001b[0m\u001b[1;36m \u001b[0m Show file status and archive associations.                         \u001b[2m│\u001b[0m\r\n",
      "\u001b[2m╰──────────────────────────────────────────────────────────────────────────────╯\u001b[0m\r\n",
      "\r\n"
     ]
    }
   ],
   "source": [
    "# View help for file operations\n",
    "!pixi run tellus simulation files --help"
   ]
  },
  {
   "cell_type": "markdown",
   "metadata": {},
   "source": [
    "---\n",
    "\n",
    "## 🎉 **Congratulations!**\n",
    "\n",
    "You've successfully mastered the **Tellus CLI** fundamentals:\n",
    "\n",
    "- ✅ **Simulation Management**: Created and configured simulations\n",
    "- ✅ **Location Management**: Set up local and remote storage\n",
    "- ✅ **Location Associations**: Connected simulations to storage locations\n",
    "- ✅ **File Operations**: Uploaded and listed simulation data\n",
    "- ✅ **Data Architecture**: Built a working multi-location setup\n",
    "\n",
    "### **Key Commands Learned:**\n",
    "- `tellus simulation create/list/show`\n",
    "- `tellus location create/list/test`\n",
    "- `tellus simulation location add/list/ls/put`\n",
    "\n",
    "### **Next Steps:**\n",
    "- Try the [REST API Demo](REST_API_DEMO.ipynb) for modern web-based workflows\n",
    "- Upload actual simulation data using `put` commands\n",
    "- Set up real remote locations with SSH keys\n",
    "- Explore workflow automation features\n",
    "\n",
    "**Welcome to efficient climate model data management!** 🌊✨"
   ]
  },
  {
   "cell_type": "code",
   "execution_count": 20,
   "metadata": {
    "execution": {
     "iopub.execute_input": "2025-09-09T07:34:57.027893Z",
     "iopub.status.busy": "2025-09-09T07:34:57.027741Z",
     "iopub.status.idle": "2025-09-09T07:34:57.285041Z",
     "shell.execute_reply": "2025-09-09T07:34:57.284523Z"
    }
   },
   "outputs": [
    {
     "name": "stdout",
     "output_type": "stream",
     "text": [
      "✅ CLI Demo completed successfully!\n",
      "🧹 Cleaned up temporary files\n"
     ]
    }
   ],
   "source": [
    "# Final cleanup\n",
    "!rm -f /tmp/sample_output.txt\n",
    "print(\"✅ CLI Demo completed successfully!\")\n",
    "print(\"🧹 Cleaned up temporary files\")"
   ]
  }
 ],
 "metadata": {
  "kernelspec": {
   "display_name": "Python 3",
   "language": "python",
   "name": "python3"
  },
  "language_info": {
   "codemirror_mode": {
    "name": "ipython",
    "version": 3
   },
   "file_extension": ".py",
   "mimetype": "text/x-python",
   "name": "python",
   "nbconvert_exporter": "python",
   "pygments_lexer": "ipython3",
   "version": "3.9.16"
  }
 },
 "nbformat": 4,
 "nbformat_minor": 4
}
