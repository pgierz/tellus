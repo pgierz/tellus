{
 "cells": [
  {
   "cell_type": "markdown",
   "id": "8a7b9c2f-4e5d-4f6e-9a8c-1b2c3d4e5f60",
   "metadata": {},
   "source": [
    "# CMIP6 Multi-Model Ensemble Analysis with Tellus\n",
    "\n",
    "**Duration: 45-60 minutes**\n",
    "\n",
    "This notebook demonstrates advanced Earth science workflows using Tellus for multi-model CMIP6 ensemble analysis. We'll analyze temperature projections from 5 CMIP6 models, demonstrating:\n",
    "\n",
    "- Template-based data organization following CMIP6 standards\n",
    "- Multi-location data management (ESGF, local cache, workspace) \n",
    "- Ensemble statistics and uncertainty quantification\n",
    "- Climate change signal analysis with statistical significance\n",
    "- Publication-quality visualizations with cartopy\n",
    "\n",
    "## Models and Configuration\n",
    "\n",
    "We analyze surface temperature (tas) from 5 CMIP6 models:\n",
    "- **CESM2** (NCAR) - Community Earth System Model\n",
    "- **MPI-ESM1.2-HR** (MPI-M) - Max Planck Institute Earth System Model\n",
    "- **UKESM1-0-LL** (MOHC) - UK Earth System Model \n",
    "- **GFDL-ESM4** (NOAA-GFDL) - Geophysical Fluid Dynamics Laboratory\n",
    "- **CanESM5** (CCCma) - Canadian Earth System Model\n",
    "\n",
    "**Data Structure**: `{institution_id}/{source_id}/{experiment_id}/{variant_label}/{table_id}/{variable_id}/`"
   ]
  },
  {
   "cell_type": "code",
   "execution_count": 1,
   "id": "setup-imports",
   "metadata": {},
   "outputs": [
    {
     "data": {
      "text/html": [
       "<pre style=\"white-space:pre;overflow-x:auto;line-height:normal;font-family:Menlo,'DejaVu Sans Mono',consolas,'Courier New',monospace\"><span style=\"color: #008000; text-decoration-color: #008000; font-weight: bold\">CMIP6 Ensemble Analysis Environment Ready</span>\n",
       "</pre>\n"
      ],
      "text/plain": [
       "\u001b[1;32mCMIP6 Ensemble Analysis Environment Ready\u001b[0m\n"
      ]
     },
     "metadata": {},
     "output_type": "display_data"
    },
    {
     "data": {
      "text/html": [
       "<pre style=\"white-space:pre;overflow-x:auto;line-height:normal;font-family:Menlo,'DejaVu Sans Mono',consolas,'Courier New',monospace\"><span style=\"color: #000080; text-decoration-color: #000080\">Using Tellus version: development</span>\n",
       "</pre>\n"
      ],
      "text/plain": [
       "\u001b[34mUsing Tellus version: development\u001b[0m\n"
      ]
     },
     "metadata": {},
     "output_type": "display_data"
    }
   ],
   "source": [
    "# Core scientific computing imports\n",
    "import numpy as np\n",
    "import xarray as xr\n",
    "import pandas as pd\n",
    "from pathlib import Path\n",
    "import warnings\n",
    "warnings.filterwarnings('ignore', category=FutureWarning)\n",
    "\n",
    "# Tellus imports\n",
    "import tellus\n",
    "from tellus import Location, Simulation\n",
    "from tellus.location.location import LocationKind\n",
    "from tellus.simulation.context import LocationContext\n",
    "from tellus.progress import get_default_progress\n",
    "\n",
    "# Visualization imports\n",
    "import matplotlib.pyplot as plt\n",
    "import matplotlib.colors as colors\n",
    "import cartopy.crs as ccrs\n",
    "import cartopy.feature as cfeature\n",
    "from cartopy.util import add_cyclic_point\n",
    "\n",
    "# Statistical analysis\n",
    "from scipy import stats\n",
    "import seaborn as sns\n",
    "\n",
    "# CF time handling\n",
    "import cftime\n",
    "\n",
    "# Rich console output\n",
    "from rich.console import Console\n",
    "from rich.table import Table\n",
    "from rich.panel import Panel\n",
    "from rich.progress import Progress\n",
    "\n",
    "console = Console()\n",
    "console.print(\"[bold green]CMIP6 Ensemble Analysis Environment Ready[/bold green]\")\n",
    "console.print(f\"[blue]Using Tellus version: {getattr(tellus, '__version__', 'development')}[/blue]\")"
   ]
  },
  {
   "cell_type": "markdown",
   "id": "model-setup",
   "metadata": {},
   "source": [
    "## 1. Model Configuration and Data Templates\n",
    "\n",
    "First, we define the CMIP6 models and set up template-based path organization following ESGF conventions."
   ]
  },
  {
   "cell_type": "code",
   "execution_count": 2,
   "id": "cmip6-config",
   "metadata": {},
   "outputs": [
    {
     "data": {
      "text/html": [
       "<pre style=\"white-space:pre;overflow-x:auto;line-height:normal;font-family:Menlo,'DejaVu Sans Mono',consolas,'Courier New',monospace\"><span style=\"font-style: italic\">                                   CMIP6 Model Configuration                                    </span>\n",
       "┏━━━━━━━━━━━━━━┳━━━━━━━━━━━━━┳━━━━━━━━━━━━━━━━━━━━━━━┳━━━━━━━━━━━━━━━━━━━━━━━━━━━━━━━━━━━━━━━━━┓\n",
       "┃<span style=\"color: #800080; text-decoration-color: #800080; font-weight: bold\"> Model        </span>┃<span style=\"color: #800080; text-decoration-color: #800080; font-weight: bold\"> Institution </span>┃<span style=\"color: #800080; text-decoration-color: #800080; font-weight: bold\"> Resolution            </span>┃<span style=\"color: #800080; text-decoration-color: #800080; font-weight: bold\"> Description                             </span>┃\n",
       "┡━━━━━━━━━━━━━━╇━━━━━━━━━━━━━╇━━━━━━━━━━━━━━━━━━━━━━━╇━━━━━━━━━━━━━━━━━━━━━━━━━━━━━━━━━━━━━━━━━┩\n",
       "│<span style=\"color: #008080; text-decoration-color: #008080\"> CESM2        </span>│<span style=\"color: #008000; text-decoration-color: #008000\"> NCAR        </span>│<span style=\"color: #808000; text-decoration-color: #808000\"> 0.9x1.25 degrees      </span>│<span style=\"color: #000080; text-decoration-color: #000080\"> Community Earth System Model version 2  </span>│\n",
       "│<span style=\"color: #008080; text-decoration-color: #008080\"> MPI-ESM1-2-… </span>│<span style=\"color: #008000; text-decoration-color: #008000\"> MPI-M       </span>│<span style=\"color: #808000; text-decoration-color: #808000\"> 0.9375x0.9375 degrees </span>│<span style=\"color: #000080; text-decoration-color: #000080\"> Max Planck Institute Earth System Model </span>│\n",
       "│<span style=\"color: #008080; text-decoration-color: #008080\"> UKESM1-0-LL  </span>│<span style=\"color: #008000; text-decoration-color: #008000\"> MOHC        </span>│<span style=\"color: #808000; text-decoration-color: #808000\"> 1.875x1.25 degrees    </span>│<span style=\"color: #000080; text-decoration-color: #000080\"> UK Earth System Model                   </span>│\n",
       "│<span style=\"color: #008080; text-decoration-color: #008080\"> GFDL-ESM4    </span>│<span style=\"color: #008000; text-decoration-color: #008000\"> NOAA-GFDL   </span>│<span style=\"color: #808000; text-decoration-color: #808000\"> 1.0x1.25 degrees      </span>│<span style=\"color: #000080; text-decoration-color: #000080\"> Geophysical Fluid Dynamics Laboratory   </span>│\n",
       "│<span style=\"color: #008080; text-decoration-color: #008080\"> CanESM5      </span>│<span style=\"color: #008000; text-decoration-color: #008000\"> CCCma       </span>│<span style=\"color: #808000; text-decoration-color: #808000\"> 2.8x2.8 degrees       </span>│<span style=\"color: #000080; text-decoration-color: #000080\"> Canadian Earth System Model version 5   </span>│\n",
       "└──────────────┴─────────────┴───────────────────────┴─────────────────────────────────────────┘\n",
       "</pre>\n"
      ],
      "text/plain": [
       "\u001b[3m                                   CMIP6 Model Configuration                                    \u001b[0m\n",
       "┏━━━━━━━━━━━━━━┳━━━━━━━━━━━━━┳━━━━━━━━━━━━━━━━━━━━━━━┳━━━━━━━━━━━━━━━━━━━━━━━━━━━━━━━━━━━━━━━━━┓\n",
       "┃\u001b[1;35m \u001b[0m\u001b[1;35mModel       \u001b[0m\u001b[1;35m \u001b[0m┃\u001b[1;35m \u001b[0m\u001b[1;35mInstitution\u001b[0m\u001b[1;35m \u001b[0m┃\u001b[1;35m \u001b[0m\u001b[1;35mResolution           \u001b[0m\u001b[1;35m \u001b[0m┃\u001b[1;35m \u001b[0m\u001b[1;35mDescription                            \u001b[0m\u001b[1;35m \u001b[0m┃\n",
       "┡━━━━━━━━━━━━━━╇━━━━━━━━━━━━━╇━━━━━━━━━━━━━━━━━━━━━━━╇━━━━━━━━━━━━━━━━━━━━━━━━━━━━━━━━━━━━━━━━━┩\n",
       "│\u001b[36m \u001b[0m\u001b[36mCESM2       \u001b[0m\u001b[36m \u001b[0m│\u001b[32m \u001b[0m\u001b[32mNCAR       \u001b[0m\u001b[32m \u001b[0m│\u001b[33m \u001b[0m\u001b[33m0.9x1.25 degrees     \u001b[0m\u001b[33m \u001b[0m│\u001b[34m \u001b[0m\u001b[34mCommunity Earth System Model version 2 \u001b[0m\u001b[34m \u001b[0m│\n",
       "│\u001b[36m \u001b[0m\u001b[36mMPI-ESM1-2-…\u001b[0m\u001b[36m \u001b[0m│\u001b[32m \u001b[0m\u001b[32mMPI-M      \u001b[0m\u001b[32m \u001b[0m│\u001b[33m \u001b[0m\u001b[33m0.9375x0.9375 degrees\u001b[0m\u001b[33m \u001b[0m│\u001b[34m \u001b[0m\u001b[34mMax Planck Institute Earth System Model\u001b[0m\u001b[34m \u001b[0m│\n",
       "│\u001b[36m \u001b[0m\u001b[36mUKESM1-0-LL \u001b[0m\u001b[36m \u001b[0m│\u001b[32m \u001b[0m\u001b[32mMOHC       \u001b[0m\u001b[32m \u001b[0m│\u001b[33m \u001b[0m\u001b[33m1.875x1.25 degrees   \u001b[0m\u001b[33m \u001b[0m│\u001b[34m \u001b[0m\u001b[34mUK Earth System Model                  \u001b[0m\u001b[34m \u001b[0m│\n",
       "│\u001b[36m \u001b[0m\u001b[36mGFDL-ESM4   \u001b[0m\u001b[36m \u001b[0m│\u001b[32m \u001b[0m\u001b[32mNOAA-GFDL  \u001b[0m\u001b[32m \u001b[0m│\u001b[33m \u001b[0m\u001b[33m1.0x1.25 degrees     \u001b[0m\u001b[33m \u001b[0m│\u001b[34m \u001b[0m\u001b[34mGeophysical Fluid Dynamics Laboratory  \u001b[0m\u001b[34m \u001b[0m│\n",
       "│\u001b[36m \u001b[0m\u001b[36mCanESM5     \u001b[0m\u001b[36m \u001b[0m│\u001b[32m \u001b[0m\u001b[32mCCCma      \u001b[0m\u001b[32m \u001b[0m│\u001b[33m \u001b[0m\u001b[33m2.8x2.8 degrees      \u001b[0m\u001b[33m \u001b[0m│\u001b[34m \u001b[0m\u001b[34mCanadian Earth System Model version 5  \u001b[0m\u001b[34m \u001b[0m│\n",
       "└──────────────┴─────────────┴───────────────────────┴─────────────────────────────────────────┘\n"
      ]
     },
     "metadata": {},
     "output_type": "display_data"
    }
   ],
   "source": [
    "# CMIP6 model configuration following official specifications\n",
    "CMIP6_MODELS = {\n",
    "    'CESM2': {\n",
    "        'institution_id': 'NCAR',\n",
    "        'source_id': 'CESM2', \n",
    "        'variant_label': 'r1i1p1f1',\n",
    "        'grid_label': 'gn',\n",
    "        'description': 'Community Earth System Model version 2',\n",
    "        'resolution': '0.9x1.25 degrees',\n",
    "        'physics': 'CAM6 atmosphere, POP2 ocean'\n",
    "    },\n",
    "    'MPI-ESM1-2-HR': {\n",
    "        'institution_id': 'MPI-M',\n",
    "        'source_id': 'MPI-ESM1-2-HR',\n",
    "        'variant_label': 'r1i1p1f1', \n",
    "        'grid_label': 'gn',\n",
    "        'description': 'Max Planck Institute Earth System Model',\n",
    "        'resolution': '0.9375x0.9375 degrees',\n",
    "        'physics': 'ECHAM6.3 atmosphere, MPIOM1.6 ocean'\n",
    "    },\n",
    "    'UKESM1-0-LL': {\n",
    "        'institution_id': 'MOHC',\n",
    "        'source_id': 'UKESM1-0-LL',\n",
    "        'variant_label': 'r1i1p1f2',\n",
    "        'grid_label': 'gn', \n",
    "        'description': 'UK Earth System Model',\n",
    "        'resolution': '1.875x1.25 degrees',\n",
    "        'physics': 'MetUM atmosphere, NEMO ocean'\n",
    "    },\n",
    "    'GFDL-ESM4': {\n",
    "        'institution_id': 'NOAA-GFDL',\n",
    "        'source_id': 'GFDL-ESM4',\n",
    "        'variant_label': 'r1i1p1f1',\n",
    "        'grid_label': 'gr1',\n",
    "        'description': 'Geophysical Fluid Dynamics Laboratory',\n",
    "        'resolution': '1.0x1.25 degrees', \n",
    "        'physics': 'AM4 atmosphere, MOM6 ocean'\n",
    "    },\n",
    "    'CanESM5': {\n",
    "        'institution_id': 'CCCma',\n",
    "        'source_id': 'CanESM5',\n",
    "        'variant_label': 'r1i1p1f1',\n",
    "        'grid_label': 'gn',\n",
    "        'description': 'Canadian Earth System Model version 5',\n",
    "        'resolution': '2.8x2.8 degrees',\n",
    "        'physics': 'CanAM5 atmosphere, NEMO ocean'\n",
    "    }\n",
    "}\n",
    "\n",
    "# CMIP6 experiment configuration\n",
    "EXPERIMENTS = {\n",
    "    'historical': {\n",
    "        'description': 'Historical climate simulation (1850-2014)',\n",
    "        'time_range': ('1850-01-01', '2014-12-31'),\n",
    "        'activity_id': 'CMIP'\n",
    "    },\n",
    "    'ssp585': {\n",
    "        'description': 'Shared Socioeconomic Pathway 5-8.5 (2015-2100)',\n",
    "        'time_range': ('2015-01-01', '2100-12-31'),\n",
    "        'activity_id': 'ScenarioMIP'\n",
    "    }\n",
    "}\n",
    "\n",
    "# Variable metadata\n",
    "VARIABLES = {\n",
    "    'tas': {\n",
    "        'table_id': 'Amon',\n",
    "        'standard_name': 'air_temperature',\n",
    "        'long_name': 'Near-Surface Air Temperature',\n",
    "        'units': 'K',\n",
    "        'cell_methods': 'time: mean'\n",
    "    }\n",
    "}\n",
    "\n",
    "# Display model configuration\n",
    "table = Table(title=\"CMIP6 Model Configuration\", show_header=True, header_style=\"bold magenta\")\n",
    "table.add_column(\"Model\", style=\"cyan\", width=12)\n",
    "table.add_column(\"Institution\", style=\"green\")\n",
    "table.add_column(\"Resolution\", style=\"yellow\")\n",
    "table.add_column(\"Description\", style=\"blue\")\n",
    "\n",
    "for model, config in CMIP6_MODELS.items():\n",
    "    table.add_row(\n",
    "        model,\n",
    "        config['institution_id'], \n",
    "        config['resolution'],\n",
    "        config['description']\n",
    "    )\n",
    "\n",
    "console.print(table)"
   ]
  },
  {
   "cell_type": "markdown",
   "id": "location-setup",
   "metadata": {},
   "source": [
    "## 2. Multi-Location Setup with Template Paths\n",
    "\n",
    "We'll configure three storage locations following typical Earth science workflows:\n",
    "- **ESGF Node**: Remote CMIP6 data access\n",
    "- **Local Cache**: Fast local storage for downloaded data \n",
    "- **Workspace**: Analysis output and processed results"
   ]
  },
  {
   "cell_type": "code",
   "execution_count": 3,
   "id": "setup-locations",
   "metadata": {},
   "outputs": [
    {
     "data": {
      "text/html": [
       "<pre style=\"white-space:pre;overflow-x:auto;line-height:normal;font-family:Menlo,'DejaVu Sans Mono',consolas,'Courier New',monospace\"><span style=\"color: #808000; text-decoration-color: #808000\">Using existing ESGF location: esgf_cmip6</span>\n",
       "</pre>\n"
      ],
      "text/plain": [
       "\u001b[33mUsing existing ESGF location: esgf_cmip6\u001b[0m\n"
      ]
     },
     "metadata": {},
     "output_type": "display_data"
    },
    {
     "data": {
      "text/html": [
       "<pre style=\"white-space:pre;overflow-x:auto;line-height:normal;font-family:Menlo,'DejaVu Sans Mono',consolas,'Courier New',monospace\"><span style=\"color: #808000; text-decoration-color: #808000\">Using existing cache location: local_cache</span>\n",
       "</pre>\n"
      ],
      "text/plain": [
       "\u001b[33mUsing existing cache location: local_cache\u001b[0m\n"
      ]
     },
     "metadata": {},
     "output_type": "display_data"
    },
    {
     "data": {
      "text/html": [
       "<pre style=\"white-space:pre;overflow-x:auto;line-height:normal;font-family:Menlo,'DejaVu Sans Mono',consolas,'Courier New',monospace\"><span style=\"color: #808000; text-decoration-color: #808000\">Using existing workspace location: analysis_workspace</span>\n",
       "</pre>\n"
      ],
      "text/plain": [
       "\u001b[33mUsing existing workspace location: analysis_workspace\u001b[0m\n"
      ]
     },
     "metadata": {},
     "output_type": "display_data"
    },
    {
     "data": {
      "text/html": [
       "<pre style=\"white-space:pre;overflow-x:auto;line-height:normal;font-family:Menlo,'DejaVu Sans Mono',consolas,'Courier New',monospace\">\n",
       "<span style=\"color: #000080; text-decoration-color: #000080; font-weight: bold\">Working directory: /Users/pgierz/tellus_cmip6_analysis</span>\n",
       "</pre>\n"
      ],
      "text/plain": [
       "\n",
       "\u001b[1;34mWorking directory: \u001b[0m\u001b[1;34m/Users/pgierz/\u001b[0m\u001b[1;34mtellus_cmip6_analysis\u001b[0m\n"
      ]
     },
     "metadata": {},
     "output_type": "display_data"
    }
   ],
   "source": [
    "# Set up working directories\n",
    "base_dir = Path.home() / \"tellus_cmip6_analysis\"\n",
    "base_dir.mkdir(exist_ok=True)\n",
    "\n",
    "esgf_dir = base_dir / \"esgf_mirror\"\n",
    "cache_dir = base_dir / \"cache\" \n",
    "workspace_dir = base_dir / \"workspace\"\n",
    "\n",
    "for d in [esgf_dir, cache_dir, workspace_dir]:\n",
    "    d.mkdir(exist_ok=True)\n",
    "\n",
    "# Load existing locations\n",
    "Location.load_locations()\n",
    "\n",
    "# ESGF-like data location with CMIP6 template structure\n",
    "esgf_location_name = \"esgf_cmip6\"\n",
    "if esgf_location_name not in [loc.name for loc in Location.list_locations()]:\n",
    "    esgf_location = Location(\n",
    "        name=esgf_location_name,\n",
    "        kinds=[LocationKind.FILESERVER],\n",
    "        config={\n",
    "            \"protocol\": \"file\",\n",
    "            \"storage_options\": {\n",
    "                \"path\": str(esgf_dir)\n",
    "            }\n",
    "        },\n",
    "        optional=False\n",
    "    )\n",
    "    console.print(f\"[green]✅ Created ESGF location: {esgf_location_name}[/green]\")\n",
    "else:\n",
    "    esgf_location = Location.get_location(esgf_location_name)\n",
    "    console.print(f\"[yellow]Using existing ESGF location: {esgf_location_name}[/yellow]\")\n",
    "\n",
    "# Local cache location\n",
    "cache_location_name = \"local_cache\"\n",
    "if cache_location_name not in [loc.name for loc in Location.list_locations()]:\n",
    "    cache_location = Location(\n",
    "        name=cache_location_name,\n",
    "        kinds=[LocationKind.DISK],\n",
    "        config={\n",
    "            \"protocol\": \"file\",\n",
    "            \"storage_options\": {\n",
    "                \"path\": str(cache_dir)\n",
    "            }\n",
    "        },\n",
    "        optional=False\n",
    "    )\n",
    "    console.print(f\"[green]✅ Created cache location: {cache_location_name}[/green]\")\n",
    "else:\n",
    "    cache_location = Location.get_location(cache_location_name)\n",
    "    console.print(f\"[yellow]Using existing cache location: {cache_location_name}[/yellow]\")\n",
    "\n",
    "# Workspace location for analysis output\n",
    "workspace_location_name = \"analysis_workspace\"\n",
    "if workspace_location_name not in [loc.name for loc in Location.list_locations()]:\n",
    "    workspace_location = Location(\n",
    "        name=workspace_location_name,\n",
    "        kinds=[LocationKind.DISK],\n",
    "        config={\n",
    "            \"protocol\": \"file\", \n",
    "            \"storage_options\": {\n",
    "                \"path\": str(workspace_dir)\n",
    "            }\n",
    "        },\n",
    "        optional=False\n",
    "    )\n",
    "    console.print(f\"[green]✅ Created workspace location: {workspace_location_name}[/green]\")\n",
    "else:\n",
    "    workspace_location = Location.get_location(workspace_location_name)\n",
    "    console.print(f\"[yellow]Using existing workspace location: {workspace_location_name}[/yellow]\")\n",
    "\n",
    "console.print(f\"\\n[bold blue]Working directory: {base_dir}[/bold blue]\")"
   ]
  },
  {
   "cell_type": "markdown",
   "id": "simulation-setup",
   "metadata": {},
   "source": [
    "## 3. Simulation Setup with Template-Based Organization\n",
    "\n",
    "Create simulation objects for each model with location contexts using CMIP6 directory templates."
   ]
  },
  {
   "cell_type": "code",
   "execution_count": 4,
   "id": "create-simulations",
   "metadata": {},
   "outputs": [
    {
     "data": {
      "text/html": [
       "<pre style=\"white-space:pre;overflow-x:auto;line-height:normal;font-family:Menlo,'DejaVu Sans Mono',consolas,'Courier New',monospace\"><span style=\"color: #808000; text-decoration-color: #808000\">Using existing simulation: cmip6_cesm2_ensemble</span>\n",
       "</pre>\n"
      ],
      "text/plain": [
       "\u001b[33mUsing existing simulation: cmip6_cesm2_ensemble\u001b[0m\n"
      ]
     },
     "metadata": {},
     "output_type": "display_data"
    },
    {
     "data": {
      "text/html": [
       "<pre style=\"white-space:pre;overflow-x:auto;line-height:normal;font-family:Menlo,'DejaVu Sans Mono',consolas,'Courier New',monospace\"><span style=\"color: #808000; text-decoration-color: #808000\">Using existing simulation: cmip6_mpi-esm1-</span><span style=\"color: #808000; text-decoration-color: #808000; font-weight: bold\">2</span><span style=\"color: #808000; text-decoration-color: #808000\">-hr_ensemble</span>\n",
       "</pre>\n"
      ],
      "text/plain": [
       "\u001b[33mUsing existing simulation: cmip6_mpi-esm1-\u001b[0m\u001b[1;33m2\u001b[0m\u001b[33m-hr_ensemble\u001b[0m\n"
      ]
     },
     "metadata": {},
     "output_type": "display_data"
    },
    {
     "data": {
      "text/html": [
       "<pre style=\"white-space:pre;overflow-x:auto;line-height:normal;font-family:Menlo,'DejaVu Sans Mono',consolas,'Courier New',monospace\"><span style=\"color: #808000; text-decoration-color: #808000\">Using existing simulation: cmip6_ukesm1-</span><span style=\"color: #808000; text-decoration-color: #808000; font-weight: bold\">0</span><span style=\"color: #808000; text-decoration-color: #808000\">-ll_ensemble</span>\n",
       "</pre>\n"
      ],
      "text/plain": [
       "\u001b[33mUsing existing simulation: cmip6_ukesm1-\u001b[0m\u001b[1;33m0\u001b[0m\u001b[33m-ll_ensemble\u001b[0m\n"
      ]
     },
     "metadata": {},
     "output_type": "display_data"
    },
    {
     "data": {
      "text/html": [
       "<pre style=\"white-space:pre;overflow-x:auto;line-height:normal;font-family:Menlo,'DejaVu Sans Mono',consolas,'Courier New',monospace\"><span style=\"color: #808000; text-decoration-color: #808000\">Using existing simulation: cmip6_gfdl-esm4_ensemble</span>\n",
       "</pre>\n"
      ],
      "text/plain": [
       "\u001b[33mUsing existing simulation: cmip6_gfdl-esm4_ensemble\u001b[0m\n"
      ]
     },
     "metadata": {},
     "output_type": "display_data"
    },
    {
     "data": {
      "text/html": [
       "<pre style=\"white-space:pre;overflow-x:auto;line-height:normal;font-family:Menlo,'DejaVu Sans Mono',consolas,'Courier New',monospace\"><span style=\"color: #808000; text-decoration-color: #808000\">Using existing simulation: cmip6_canesm5_ensemble</span>\n",
       "</pre>\n"
      ],
      "text/plain": [
       "\u001b[33mUsing existing simulation: cmip6_canesm5_ensemble\u001b[0m\n"
      ]
     },
     "metadata": {},
     "output_type": "display_data"
    },
    {
     "data": {
      "text/html": [
       "<pre style=\"white-space:pre;overflow-x:auto;line-height:normal;font-family:Menlo,'DejaVu Sans Mono',consolas,'Courier New',monospace\">\n",
       "<span style=\"color: #008000; text-decoration-color: #008000; font-weight: bold\">🎯 Created </span><span style=\"color: #008000; text-decoration-color: #008000; font-weight: bold\">5</span><span style=\"color: #008000; text-decoration-color: #008000; font-weight: bold\"> CMIP6 model simulations</span>\n",
       "</pre>\n"
      ],
      "text/plain": [
       "\n",
       "\u001b[1;32m🎯 Created \u001b[0m\u001b[1;32m5\u001b[0m\u001b[1;32m CMIP6 model simulations\u001b[0m\n"
      ]
     },
     "metadata": {},
     "output_type": "display_data"
    }
   ],
   "source": [
    "# Load existing simulations\n",
    "Simulation.load_simulations()\n",
    "\n",
    "# CMIP6 path template following ESGF conventions\n",
    "CMIP6_PATH_TEMPLATE = \"{institution_id}/{source_id}/{experiment_id}/{variant_label}/{table_id}/{variable_id}/{grid_label}\"\n",
    "\n",
    "simulations = {}\n",
    "\n",
    "for model_name, model_config in CMIP6_MODELS.items():\n",
    "    sim_id = f\"cmip6_{model_name.lower()}_ensemble\"\n",
    "    \n",
    "    # Check if simulation already exists\n",
    "    existing_sim = Simulation.get_simulation(sim_id)\n",
    "    if existing_sim:\n",
    "        console.print(f\"[yellow]Using existing simulation: {sim_id}[/yellow]\")\n",
    "        simulations[model_name] = existing_sim\n",
    "        continue\n",
    "    \n",
    "    # Create new simulation\n",
    "    sim = Simulation(\n",
    "        simulation_id=sim_id,\n",
    "        model_id=model_config['source_id']\n",
    "    )\n",
    "    \n",
    "    # Add model metadata to simulation attributes\n",
    "    sim.attrs.update({\n",
    "        'institution_id': model_config['institution_id'],\n",
    "        'source_id': model_config['source_id'],\n",
    "        'variant_label': model_config['variant_label'],\n",
    "        'grid_label': model_config['grid_label'],\n",
    "        'description': model_config['description'],\n",
    "        'resolution': model_config['resolution'],\n",
    "        'physics': model_config['physics'],\n",
    "        'variable_id': 'tas',\n",
    "        'table_id': 'Amon'\n",
    "    })\n",
    "    \n",
    "    # Create location contexts with CMIP6 templates for different experiments\n",
    "    for exp_name in ['historical', 'ssp585']:\n",
    "        # Template variables for path resolution\n",
    "        template_vars = {\n",
    "            'institution_id': model_config['institution_id'],\n",
    "            'source_id': model_config['source_id'],\n",
    "            'experiment_id': exp_name,\n",
    "            'variant_label': model_config['variant_label'],\n",
    "            'table_id': 'Amon',\n",
    "            'variable_id': 'tas',\n",
    "            'grid_label': model_config['grid_label']\n",
    "        }\n",
    "        \n",
    "        # Format the template path\n",
    "        path_prefix = CMIP6_PATH_TEMPLATE.format(**template_vars)\n",
    "        \n",
    "        # ESGF location context\n",
    "        esgf_context = LocationContext(\n",
    "            path_prefix=path_prefix,\n",
    "            overrides={'experiment': exp_name},\n",
    "            metadata={\n",
    "                'data_source': 'ESGF',\n",
    "                'experiment': exp_name,\n",
    "                'frequency': 'monthly'\n",
    "            }\n",
    "        )\n",
    "        \n",
    "        # Cache location context (flatter structure)\n",
    "        cache_context = LocationContext(\n",
    "            path_prefix=f\"{model_name}/{exp_name}\",\n",
    "            overrides={'experiment': exp_name},\n",
    "            metadata={\n",
    "                'data_source': 'cache',\n",
    "                'experiment': exp_name\n",
    "            }\n",
    "        )\n",
    "        \n",
    "        # Workspace location context\n",
    "        workspace_context = LocationContext(\n",
    "            path_prefix=f\"analysis/{model_name}/{exp_name}\",\n",
    "            overrides={'experiment': exp_name},\n",
    "            metadata={\n",
    "                'data_source': 'analysis',\n",
    "                'experiment': exp_name\n",
    "            }\n",
    "        )\n",
    "        \n",
    "        # Add locations with contexts to simulation\n",
    "        sim.add_location(\n",
    "            esgf_location,\n",
    "            name=f\"esgf_{exp_name}\",\n",
    "            context=esgf_context\n",
    "        )\n",
    "        sim.add_location(\n",
    "            cache_location,\n",
    "            name=f\"cache_{exp_name}\", \n",
    "            context=cache_context\n",
    "        )\n",
    "        sim.add_location(\n",
    "            workspace_location,\n",
    "            name=f\"workspace_{exp_name}\",\n",
    "            context=workspace_context\n",
    "        )\n",
    "    \n",
    "    simulations[model_name] = sim\n",
    "    console.print(f\"[green]✅ Created simulation for {model_name}[/green]\")\n",
    "\n",
    "# Save all simulations\n",
    "Simulation.save_simulations()\n",
    "\n",
    "console.print(f\"\\n[bold green]🎯 Created {len(simulations)} CMIP6 model simulations[/bold green]\")"
   ]
  },
  {
   "cell_type": "markdown",
   "id": "data-generation",
   "metadata": {},
   "source": [
    "## 4. Generate Realistic CMIP6-like Sample Data\n",
    "\n",
    "Create scientifically realistic sample datasets for each model with proper CF conventions, realistic climate patterns, and inter-model variability."
   ]
  },
  {
   "cell_type": "code",
   "execution_count": 5,
   "id": "generate-sample-data",
   "metadata": {},
   "outputs": [
    {
     "data": {
      "text/html": [
       "<pre style=\"white-space:pre;overflow-x:auto;line-height:normal;font-family:Menlo,'DejaVu Sans Mono',consolas,'Courier New',monospace\">Generating datasets... <span style=\"color: #f92672; text-decoration-color: #f92672\">━━━━━━━━━━━━━━━━━━━━━━━━━━━━━━━━━━━━━━━━━━━━━━━━━━━</span><span style=\"color: #3a3a3a; text-decoration-color: #3a3a3a\">╺━━━━━</span> <span style=\"color: #800080; text-decoration-color: #800080\">  90%</span> <span style=\"color: #800000; text-decoration-color: #800000\">0 bytes/s</span> <span style=\"color: #008080; text-decoration-color: #008080\">0:00:03</span> <span style=\"color: #008000; text-decoration-color: #008000\">9/10 bytes</span>\n",
       "</pre>\n"
      ],
      "text/plain": [
       "Generating datasets... \u001b[38;2;249;38;114m━━━━━━━━━━━━━━━━━━━━━━━━━━━━━━━━━━━━━━━━━━━━━━━━━━━\u001b[0m\u001b[38;5;237m╺\u001b[0m\u001b[38;5;237m━━━━━\u001b[0m \u001b[35m  90%\u001b[0m \u001b[31m0 bytes/s\u001b[0m \u001b[36m0:00:03\u001b[0m \u001b[32m9/10 bytes\u001b[0m\n"
      ]
     },
     "metadata": {},
     "output_type": "display_data"
    },
    {
     "data": {
      "text/html": [
       "<pre style=\"white-space:pre;overflow-x:auto;line-height:normal;font-family:Menlo,'DejaVu Sans Mono',consolas,'Courier New',monospace\"><span style=\"color: #008000; text-decoration-color: #008000\">✅ Created CanESM5 ssp585: tas_Amon_CanESM5_ssp585_r1i1p1f1_gn_201501-</span><span style=\"color: #008000; text-decoration-color: #008000; font-weight: bold\">203412.</span><span style=\"color: #008000; text-decoration-color: #008000\">nc </span><span style=\"color: #008000; text-decoration-color: #008000; font-weight: bold\">(</span><span style=\"color: #008000; text-decoration-color: #008000; font-weight: bold\">11.5</span><span style=\"color: #008000; text-decoration-color: #008000\"> MB</span><span style=\"color: #008000; text-decoration-color: #008000; font-weight: bold\">)</span>\n",
       "</pre>\n"
      ],
      "text/plain": [
       "\u001b[32m✅ Created CanESM5 ssp585: tas_Amon_CanESM5_ssp585_r1i1p1f1_gn_201501-\u001b[0m\u001b[1;32m203412.\u001b[0m\u001b[32mnc \u001b[0m\u001b[1;32m(\u001b[0m\u001b[1;32m11.5\u001b[0m\u001b[32m MB\u001b[0m\u001b[1;32m)\u001b[0m\n"
      ]
     },
     "metadata": {},
     "output_type": "display_data"
    },
    {
     "data": {
      "text/html": [
       "<pre style=\"white-space:pre;overflow-x:auto;line-height:normal;font-family:Menlo,'DejaVu Sans Mono',consolas,'Courier New',monospace\"></pre>\n"
      ],
      "text/plain": []
     },
     "metadata": {},
     "output_type": "display_data"
    },
    {
     "data": {
      "text/html": [
       "<pre style=\"white-space:pre;overflow-x:auto;line-height:normal;font-family:Menlo,'DejaVu Sans Mono',consolas,'Courier New',monospace\"><span style=\"color: #008000; text-decoration-color: #008000; font-weight: bold\">🎉 Sample data generation complete!</span>\n",
       "</pre>\n"
      ],
      "text/plain": [
       "\u001b[1;32m🎉 Sample data generation complete!\u001b[0m\n"
      ]
     },
     "metadata": {},
     "output_type": "display_data"
    }
   ],
   "source": [
    "def create_realistic_climate_data(model_name, model_config, experiment, start_year, end_year):\n",
    "    \"\"\"\n",
    "    Generate realistic climate data with proper CF conventions and model-specific characteristics.\n",
    "    \"\"\"\n",
    "    # Create time coordinate with CF-compliant calendar\n",
    "    time_range = pd.date_range(\n",
    "        f'{start_year}-01-01', \n",
    "        f'{end_year}-12-31', \n",
    "        freq='MS'  # Month start\n",
    "    )\n",
    "    \n",
    "    # Convert to cftime for proper CF compliance\n",
    "    time_cf = xr.cftime_range(\n",
    "        f'{start_year}-01-01', \n",
    "        f'{end_year}-12-31', \n",
    "        freq='MS',\n",
    "        calendar='noleap'\n",
    "    )\n",
    "    \n",
    "    # Create spatial coordinates based on model resolution\n",
    "    if 'CESM2' in model_name:\n",
    "        lat = np.arange(-89.5, 90, 1.25)  # ~1.25 degree\n",
    "        lon = np.arange(0.625, 360, 1.25)\n",
    "    elif 'MPI-ESM1-2-HR' in model_name:\n",
    "        lat = np.arange(-89.5, 90, 0.9375)  # Higher resolution\n",
    "        lon = np.arange(0.46875, 360, 0.9375)\n",
    "    elif 'CanESM5' in model_name:\n",
    "        lat = np.arange(-87.14, 90, 2.8)  # Coarser resolution\n",
    "        lon = np.arange(1.4, 360, 2.8)\n",
    "    else:  # Default resolution for other models\n",
    "        lat = np.arange(-89.5, 90, 1.0)\n",
    "        lon = np.arange(0.5, 360, 1.0)\n",
    "    \n",
    "    lat_2d, lon_2d = np.meshgrid(lat, lon, indexing='ij')\n",
    "    \n",
    "    # Base temperature pattern with realistic gradients\n",
    "    base_temp = (\n",
    "        273.15 + 25 * np.cos(np.radians(lat_2d)) +  # Latitudinal gradient\n",
    "        5 * np.sin(np.radians(lon_2d / 180 * np.pi)) +  # Longitudinal variation\n",
    "        np.random.normal(0, 1, lat_2d.shape)  # Random noise\n",
    "    )\n",
    "    \n",
    "    # Model-specific climate sensitivity and bias\n",
    "    model_bias = {\n",
    "        'CESM2': 0.5,        # Slightly warm bias\n",
    "        'MPI-ESM1-2-HR': -0.3,  # Cool bias\n",
    "        'UKESM1-0-LL': 0.8,     # Warm bias\n",
    "        'GFDL-ESM4': 0.2,       # Near neutral\n",
    "        'CanESM5': 1.2          # High sensitivity\n",
    "    }.get(model_name, 0.0)\n",
    "    \n",
    "    # Climate change trend (stronger for SSP5-8.5)\n",
    "    if experiment == 'ssp585':\n",
    "        trend_per_year = model_bias * 0.05 + 0.03  # ~3-8°C per century\n",
    "    elif experiment == 'historical':\n",
    "        trend_per_year = 0.008  # ~0.8°C per century historical warming\n",
    "    else:\n",
    "        trend_per_year = 0.0\n",
    "    \n",
    "    temperatures = []\n",
    "    for i, t in enumerate(time_cf):\n",
    "        # Seasonal cycle\n",
    "        month = t.month\n",
    "        seasonal_amplitude = 20 * np.cos(np.radians(lat_2d))  # Stronger at higher latitudes\n",
    "        seasonal_cycle = seasonal_amplitude * np.cos(2 * np.pi * (month - 1) / 12)\n",
    "        \n",
    "        # Long-term trend\n",
    "        year_offset = t.year - start_year\n",
    "        climate_trend = trend_per_year * year_offset\n",
    "        \n",
    "        # Interannual variability (ENSO-like pattern)\n",
    "        enso_phase = np.sin(2 * np.pi * i / (12 * 3.5))  # ~3.5 year cycle\n",
    "        enso_pattern = (\n",
    "            enso_phase * 2 * np.exp(-((lon_2d - 200)**2 + (lat_2d + 5)**2) / 1000)\n",
    "        )\n",
    "        \n",
    "        # Random weather noise\n",
    "        weather_noise = np.random.normal(0, 1.5, base_temp.shape)\n",
    "        \n",
    "        # Combine all components\n",
    "        temp = (\n",
    "            base_temp + \n",
    "            seasonal_cycle + \n",
    "            climate_trend + \n",
    "            enso_pattern + \n",
    "            weather_noise +\n",
    "            model_bias\n",
    "        )\n",
    "        \n",
    "        temperatures.append(temp)\n",
    "    \n",
    "    # Create xarray dataset with proper CF attributes\n",
    "    ds = xr.Dataset({\n",
    "        'tas': (['time', 'lat', 'lon'], np.array(temperatures)),\n",
    "    }, coords={\n",
    "        'time': time_cf,\n",
    "        'lat': (['lat'], lat, {\n",
    "            'standard_name': 'latitude',\n",
    "            'long_name': 'Latitude',\n",
    "            'units': 'degrees_north',\n",
    "            'axis': 'Y'\n",
    "        }),\n",
    "        'lon': (['lon'], lon, {\n",
    "            'standard_name': 'longitude', \n",
    "            'long_name': 'Longitude',\n",
    "            'units': 'degrees_east',\n",
    "            'axis': 'X'\n",
    "        })\n",
    "    })\n",
    "    \n",
    "    # Add variable attributes\n",
    "    ds['tas'].attrs.update({\n",
    "        'standard_name': 'air_temperature',\n",
    "        'long_name': 'Near-Surface Air Temperature',\n",
    "        'units': 'K',\n",
    "        'cell_methods': 'time: mean',\n",
    "        'comment': 'Monthly mean near-surface air temperature'\n",
    "    })\n",
    "    \n",
    "    # Add global attributes following CMIP6 conventions\n",
    "    ds.attrs.update({\n",
    "        'title': f'{model_config[\"source_id\"]} model output prepared for CMIP6',\n",
    "        'institution': model_config['institution_id'],\n",
    "        'institution_id': model_config['institution_id'],\n",
    "        'source_id': model_config['source_id'],\n",
    "        'experiment_id': experiment,\n",
    "        'variant_label': model_config['variant_label'],\n",
    "        'grid_label': model_config['grid_label'],\n",
    "        'table_id': 'Amon',\n",
    "        'variable_id': 'tas',\n",
    "        'frequency': 'mon',\n",
    "        'realm': 'atmos',\n",
    "        'activity_id': EXPERIMENTS[experiment]['activity_id'],\n",
    "        'product': 'model-output',\n",
    "        'Conventions': 'CF-1.7 CMIP-6.2',\n",
    "        'creation_date': pd.Timestamp.now().strftime('%Y-%m-%dT%H:%M:%SZ'),\n",
    "        'history': f'Created by Tellus CMIP6 ensemble analysis notebook',\n",
    "        'comment': f'Realistic synthetic {experiment} simulation for demonstration',\n",
    "        'references': model_config['description'],\n",
    "        'source': f'{model_config[\"source_id\"]} ({model_config[\"physics\"]})'\n",
    "    })\n",
    "    \n",
    "    return ds\n",
    "\n",
    "# Generate sample data for each model and experiment\n",
    "console.print(\"[bold blue]🌡️ Generating realistic CMIP6 sample data...[/bold blue]\")\n",
    "\n",
    "with get_default_progress() as progress:\n",
    "    total_datasets = len(CMIP6_MODELS) * len(EXPERIMENTS)\n",
    "    task = progress.add_task(\"Generating datasets...\", total=total_datasets)\n",
    "    \n",
    "    for model_name, model_config in CMIP6_MODELS.items():\n",
    "        sim = simulations[model_name]\n",
    "        \n",
    "        for exp_name, exp_config in EXPERIMENTS.items():\n",
    "            # Determine time range\n",
    "            if exp_name == 'historical':\n",
    "                start_year, end_year = 1995, 2014  # Last 20 years\n",
    "            else:  # ssp585\n",
    "                start_year, end_year = 2015, 2034  # First 20 years\n",
    "            \n",
    "            # Generate dataset\n",
    "            ds = create_realistic_climate_data(\n",
    "                model_name, model_config, exp_name, start_year, end_year\n",
    "            )\n",
    "            \n",
    "            # Get the path using simulation's location context\n",
    "            esgf_path = sim.get_location_path(f\"esgf_{exp_name}\")\n",
    "            \n",
    "            # Create filename following CMIP6 conventions \n",
    "            filename = (\n",
    "                f\"tas_Amon_{model_config['source_id']}_{exp_name}_\"\n",
    "                f\"{model_config['variant_label']}_{model_config['grid_label']}_\"\n",
    "                f\"{start_year}01-{end_year}12.nc\"\n",
    "            )\n",
    "            \n",
    "            # Full file path\n",
    "            full_path = Path(esgf_path) / filename\n",
    "            full_path.parent.mkdir(parents=True, exist_ok=True)\n",
    "            \n",
    "            # Save dataset\n",
    "            encoding = {\n",
    "                'tas': {'zlib': True, 'complevel': 4},\n",
    "                'time': {'units': 'days since 1850-01-01', 'calendar': 'noleap'}\n",
    "            }\n",
    "            ds.to_netcdf(full_path, encoding=encoding)\n",
    "            \n",
    "            progress.update(task, advance=1)\n",
    "            \n",
    "            # Log file creation\n",
    "            file_size = full_path.stat().st_size / 1024 / 1024\n",
    "            progress.console.print(\n",
    "                f\"[green]✅ Created {model_name} {exp_name}: {filename} ({file_size:.1f} MB)[/green]\"\n",
    "            )\n",
    "\n",
    "console.print(\"[bold green]🎉 Sample data generation complete![/bold green]\")"
   ]
  },
  {
   "cell_type": "markdown",
   "id": "data-loading",
   "metadata": {},
   "source": [
    "## 5. Load Multi-Model Ensemble Data\n",
    "\n",
    "Load the generated data using Tellus filesystem interfaces and organize into a multi-model ensemble."
   ]
  },
  {
   "cell_type": "code",
   "execution_count": 6,
   "id": "load-ensemble-data",
   "metadata": {},
   "outputs": [
    {
     "data": {
      "text/html": [
       "<pre style=\"white-space:pre;overflow-x:auto;line-height:normal;font-family:Menlo,'DejaVu Sans Mono',consolas,'Courier New',monospace\"><span style=\"color: #000080; text-decoration-color: #000080; font-weight: bold\">📊 Loading multi-model ensemble data...</span>\n",
       "</pre>\n"
      ],
      "text/plain": [
       "\u001b[1;34m📊 Loading multi-model ensemble data\u001b[0m\u001b[1;34m...\u001b[0m\n"
      ]
     },
     "metadata": {},
     "output_type": "display_data"
    },
    {
     "data": {
      "text/html": [
       "<pre style=\"white-space:pre;overflow-x:auto;line-height:normal;font-family:Menlo,'DejaVu Sans Mono',consolas,'Courier New',monospace\">\n",
       "<span style=\"color: #008080; text-decoration-color: #008080\">Loading historical data:</span>\n",
       "</pre>\n"
      ],
      "text/plain": [
       "\n",
       "\u001b[36mLoading historical data:\u001b[0m\n"
      ]
     },
     "metadata": {},
     "output_type": "display_data"
    },
    {
     "data": {
      "text/html": [
       "<pre style=\"white-space:pre;overflow-x:auto;line-height:normal;font-family:Menlo,'DejaVu Sans Mono',consolas,'Courier New',monospace\">  <span style=\"color: #008000; text-decoration-color: #008000\">✅ CESM2: </span><span style=\"color: #008000; text-decoration-color: #008000; font-weight: bold\">1995</span><span style=\"color: #008000; text-decoration-color: #008000\">-</span><span style=\"color: #008000; text-decoration-color: #008000; font-weight: bold\">2014</span><span style=\"color: #008000; text-decoration-color: #008000\">, Temp range: </span><span style=\"color: #008000; text-decoration-color: #008000; font-weight: bold\">-7.4</span><span style=\"color: #008000; text-decoration-color: #008000\"> to </span><span style=\"color: #008000; text-decoration-color: #008000; font-weight: bold\">54.2</span><span style=\"color: #008000; text-decoration-color: #008000\">°C</span>\n",
       "</pre>\n"
      ],
      "text/plain": [
       "  \u001b[32m✅ CESM2: \u001b[0m\u001b[1;32m1995\u001b[0m\u001b[32m-\u001b[0m\u001b[1;32m2014\u001b[0m\u001b[32m, Temp range: \u001b[0m\u001b[1;32m-7.4\u001b[0m\u001b[32m to \u001b[0m\u001b[1;32m54.2\u001b[0m\u001b[32m°C\u001b[0m\n"
      ]
     },
     "metadata": {},
     "output_type": "display_data"
    },
    {
     "data": {
      "text/html": [
       "<pre style=\"white-space:pre;overflow-x:auto;line-height:normal;font-family:Menlo,'DejaVu Sans Mono',consolas,'Courier New',monospace\">  <span style=\"color: #008000; text-decoration-color: #008000\">✅ MPI-ESM1-</span><span style=\"color: #008000; text-decoration-color: #008000; font-weight: bold\">2</span><span style=\"color: #008000; text-decoration-color: #008000\">-HR: </span><span style=\"color: #008000; text-decoration-color: #008000; font-weight: bold\">1995</span><span style=\"color: #008000; text-decoration-color: #008000\">-</span><span style=\"color: #008000; text-decoration-color: #008000; font-weight: bold\">2014</span><span style=\"color: #008000; text-decoration-color: #008000\">, Temp range: </span><span style=\"color: #008000; text-decoration-color: #008000; font-weight: bold\">-8.3</span><span style=\"color: #008000; text-decoration-color: #008000\"> to </span><span style=\"color: #008000; text-decoration-color: #008000; font-weight: bold\">53.3</span><span style=\"color: #008000; text-decoration-color: #008000\">°C</span>\n",
       "</pre>\n"
      ],
      "text/plain": [
       "  \u001b[32m✅ MPI-ESM1-\u001b[0m\u001b[1;32m2\u001b[0m\u001b[32m-HR: \u001b[0m\u001b[1;32m1995\u001b[0m\u001b[32m-\u001b[0m\u001b[1;32m2014\u001b[0m\u001b[32m, Temp range: \u001b[0m\u001b[1;32m-8.3\u001b[0m\u001b[32m to \u001b[0m\u001b[1;32m53.3\u001b[0m\u001b[32m°C\u001b[0m\n"
      ]
     },
     "metadata": {},
     "output_type": "display_data"
    },
    {
     "data": {
      "text/html": [
       "<pre style=\"white-space:pre;overflow-x:auto;line-height:normal;font-family:Menlo,'DejaVu Sans Mono',consolas,'Courier New',monospace\">  <span style=\"color: #008000; text-decoration-color: #008000\">✅ UKESM1-</span><span style=\"color: #008000; text-decoration-color: #008000; font-weight: bold\">0</span><span style=\"color: #008000; text-decoration-color: #008000\">-LL: </span><span style=\"color: #008000; text-decoration-color: #008000; font-weight: bold\">1995</span><span style=\"color: #008000; text-decoration-color: #008000\">-</span><span style=\"color: #008000; text-decoration-color: #008000; font-weight: bold\">2014</span><span style=\"color: #008000; text-decoration-color: #008000\">, Temp range: </span><span style=\"color: #008000; text-decoration-color: #008000; font-weight: bold\">-7.1</span><span style=\"color: #008000; text-decoration-color: #008000\"> to </span><span style=\"color: #008000; text-decoration-color: #008000; font-weight: bold\">54.3</span><span style=\"color: #008000; text-decoration-color: #008000\">°C</span>\n",
       "</pre>\n"
      ],
      "text/plain": [
       "  \u001b[32m✅ UKESM1-\u001b[0m\u001b[1;32m0\u001b[0m\u001b[32m-LL: \u001b[0m\u001b[1;32m1995\u001b[0m\u001b[32m-\u001b[0m\u001b[1;32m2014\u001b[0m\u001b[32m, Temp range: \u001b[0m\u001b[1;32m-7.1\u001b[0m\u001b[32m to \u001b[0m\u001b[1;32m54.3\u001b[0m\u001b[32m°C\u001b[0m\n"
      ]
     },
     "metadata": {},
     "output_type": "display_data"
    },
    {
     "data": {
      "text/html": [
       "<pre style=\"white-space:pre;overflow-x:auto;line-height:normal;font-family:Menlo,'DejaVu Sans Mono',consolas,'Courier New',monospace\">  <span style=\"color: #008000; text-decoration-color: #008000\">✅ GFDL-ESM4: </span><span style=\"color: #008000; text-decoration-color: #008000; font-weight: bold\">1995</span><span style=\"color: #008000; text-decoration-color: #008000\">-</span><span style=\"color: #008000; text-decoration-color: #008000; font-weight: bold\">2014</span><span style=\"color: #008000; text-decoration-color: #008000\">, Temp range: </span><span style=\"color: #008000; text-decoration-color: #008000; font-weight: bold\">-9.2</span><span style=\"color: #008000; text-decoration-color: #008000\"> to </span><span style=\"color: #008000; text-decoration-color: #008000; font-weight: bold\">53.2</span><span style=\"color: #008000; text-decoration-color: #008000\">°C</span>\n",
       "</pre>\n"
      ],
      "text/plain": [
       "  \u001b[32m✅ GFDL-ESM4: \u001b[0m\u001b[1;32m1995\u001b[0m\u001b[32m-\u001b[0m\u001b[1;32m2014\u001b[0m\u001b[32m, Temp range: \u001b[0m\u001b[1;32m-9.2\u001b[0m\u001b[32m to \u001b[0m\u001b[1;32m53.2\u001b[0m\u001b[32m°C\u001b[0m\n"
      ]
     },
     "metadata": {},
     "output_type": "display_data"
    },
    {
     "data": {
      "text/html": [
       "<pre style=\"white-space:pre;overflow-x:auto;line-height:normal;font-family:Menlo,'DejaVu Sans Mono',consolas,'Courier New',monospace\">  <span style=\"color: #008000; text-decoration-color: #008000\">✅ CanESM5: </span><span style=\"color: #008000; text-decoration-color: #008000; font-weight: bold\">1995</span><span style=\"color: #008000; text-decoration-color: #008000\">-</span><span style=\"color: #008000; text-decoration-color: #008000; font-weight: bold\">2014</span><span style=\"color: #008000; text-decoration-color: #008000\">, Temp range: </span><span style=\"color: #008000; text-decoration-color: #008000; font-weight: bold\">-5.7</span><span style=\"color: #008000; text-decoration-color: #008000\"> to </span><span style=\"color: #008000; text-decoration-color: #008000; font-weight: bold\">54.1</span><span style=\"color: #008000; text-decoration-color: #008000\">°C</span>\n",
       "</pre>\n"
      ],
      "text/plain": [
       "  \u001b[32m✅ CanESM5: \u001b[0m\u001b[1;32m1995\u001b[0m\u001b[32m-\u001b[0m\u001b[1;32m2014\u001b[0m\u001b[32m, Temp range: \u001b[0m\u001b[1;32m-5.7\u001b[0m\u001b[32m to \u001b[0m\u001b[1;32m54.1\u001b[0m\u001b[32m°C\u001b[0m\n"
      ]
     },
     "metadata": {},
     "output_type": "display_data"
    },
    {
     "data": {
      "text/html": [
       "<pre style=\"white-space:pre;overflow-x:auto;line-height:normal;font-family:Menlo,'DejaVu Sans Mono',consolas,'Courier New',monospace\">\n",
       "<span style=\"color: #008080; text-decoration-color: #008080\">Loading ssp585 data:</span>\n",
       "</pre>\n"
      ],
      "text/plain": [
       "\n",
       "\u001b[36mLoading ssp585 data:\u001b[0m\n"
      ]
     },
     "metadata": {},
     "output_type": "display_data"
    },
    {
     "data": {
      "text/html": [
       "<pre style=\"white-space:pre;overflow-x:auto;line-height:normal;font-family:Menlo,'DejaVu Sans Mono',consolas,'Courier New',monospace\">  <span style=\"color: #008000; text-decoration-color: #008000\">✅ CESM2: </span><span style=\"color: #008000; text-decoration-color: #008000; font-weight: bold\">2015</span><span style=\"color: #008000; text-decoration-color: #008000\">-</span><span style=\"color: #008000; text-decoration-color: #008000; font-weight: bold\">2034</span><span style=\"color: #008000; text-decoration-color: #008000\">, Temp range: </span><span style=\"color: #008000; text-decoration-color: #008000; font-weight: bold\">-7.0</span><span style=\"color: #008000; text-decoration-color: #008000\"> to </span><span style=\"color: #008000; text-decoration-color: #008000; font-weight: bold\">53.7</span><span style=\"color: #008000; text-decoration-color: #008000\">°C</span>\n",
       "</pre>\n"
      ],
      "text/plain": [
       "  \u001b[32m✅ CESM2: \u001b[0m\u001b[1;32m2015\u001b[0m\u001b[32m-\u001b[0m\u001b[1;32m2034\u001b[0m\u001b[32m, Temp range: \u001b[0m\u001b[1;32m-7.0\u001b[0m\u001b[32m to \u001b[0m\u001b[1;32m53.7\u001b[0m\u001b[32m°C\u001b[0m\n"
      ]
     },
     "metadata": {},
     "output_type": "display_data"
    },
    {
     "data": {
      "text/html": [
       "<pre style=\"white-space:pre;overflow-x:auto;line-height:normal;font-family:Menlo,'DejaVu Sans Mono',consolas,'Courier New',monospace\">  <span style=\"color: #008000; text-decoration-color: #008000\">✅ MPI-ESM1-</span><span style=\"color: #008000; text-decoration-color: #008000; font-weight: bold\">2</span><span style=\"color: #008000; text-decoration-color: #008000\">-HR: </span><span style=\"color: #008000; text-decoration-color: #008000; font-weight: bold\">2015</span><span style=\"color: #008000; text-decoration-color: #008000\">-</span><span style=\"color: #008000; text-decoration-color: #008000; font-weight: bold\">2034</span><span style=\"color: #008000; text-decoration-color: #008000\">, Temp range: </span><span style=\"color: #008000; text-decoration-color: #008000; font-weight: bold\">-7.8</span><span style=\"color: #008000; text-decoration-color: #008000\"> to </span><span style=\"color: #008000; text-decoration-color: #008000; font-weight: bold\">52.6</span><span style=\"color: #008000; text-decoration-color: #008000\">°C</span>\n",
       "</pre>\n"
      ],
      "text/plain": [
       "  \u001b[32m✅ MPI-ESM1-\u001b[0m\u001b[1;32m2\u001b[0m\u001b[32m-HR: \u001b[0m\u001b[1;32m2015\u001b[0m\u001b[32m-\u001b[0m\u001b[1;32m2034\u001b[0m\u001b[32m, Temp range: \u001b[0m\u001b[1;32m-7.8\u001b[0m\u001b[32m to \u001b[0m\u001b[1;32m52.6\u001b[0m\u001b[32m°C\u001b[0m\n"
      ]
     },
     "metadata": {},
     "output_type": "display_data"
    },
    {
     "data": {
      "text/html": [
       "<pre style=\"white-space:pre;overflow-x:auto;line-height:normal;font-family:Menlo,'DejaVu Sans Mono',consolas,'Courier New',monospace\">  <span style=\"color: #008000; text-decoration-color: #008000\">✅ UKESM1-</span><span style=\"color: #008000; text-decoration-color: #008000; font-weight: bold\">0</span><span style=\"color: #008000; text-decoration-color: #008000\">-LL: </span><span style=\"color: #008000; text-decoration-color: #008000; font-weight: bold\">2015</span><span style=\"color: #008000; text-decoration-color: #008000\">-</span><span style=\"color: #008000; text-decoration-color: #008000; font-weight: bold\">2034</span><span style=\"color: #008000; text-decoration-color: #008000\">, Temp range: </span><span style=\"color: #008000; text-decoration-color: #008000; font-weight: bold\">-7.3</span><span style=\"color: #008000; text-decoration-color: #008000\"> to </span><span style=\"color: #008000; text-decoration-color: #008000; font-weight: bold\">54.7</span><span style=\"color: #008000; text-decoration-color: #008000\">°C</span>\n",
       "</pre>\n"
      ],
      "text/plain": [
       "  \u001b[32m✅ UKESM1-\u001b[0m\u001b[1;32m0\u001b[0m\u001b[32m-LL: \u001b[0m\u001b[1;32m2015\u001b[0m\u001b[32m-\u001b[0m\u001b[1;32m2034\u001b[0m\u001b[32m, Temp range: \u001b[0m\u001b[1;32m-7.3\u001b[0m\u001b[32m to \u001b[0m\u001b[1;32m54.7\u001b[0m\u001b[32m°C\u001b[0m\n"
      ]
     },
     "metadata": {},
     "output_type": "display_data"
    },
    {
     "data": {
      "text/html": [
       "<pre style=\"white-space:pre;overflow-x:auto;line-height:normal;font-family:Menlo,'DejaVu Sans Mono',consolas,'Courier New',monospace\">  <span style=\"color: #008000; text-decoration-color: #008000\">✅ GFDL-ESM4: </span><span style=\"color: #008000; text-decoration-color: #008000; font-weight: bold\">2015</span><span style=\"color: #008000; text-decoration-color: #008000\">-</span><span style=\"color: #008000; text-decoration-color: #008000; font-weight: bold\">2034</span><span style=\"color: #008000; text-decoration-color: #008000\">, Temp range: </span><span style=\"color: #008000; text-decoration-color: #008000; font-weight: bold\">-7.5</span><span style=\"color: #008000; text-decoration-color: #008000\"> to </span><span style=\"color: #008000; text-decoration-color: #008000; font-weight: bold\">54.0</span><span style=\"color: #008000; text-decoration-color: #008000\">°C</span>\n",
       "</pre>\n"
      ],
      "text/plain": [
       "  \u001b[32m✅ GFDL-ESM4: \u001b[0m\u001b[1;32m2015\u001b[0m\u001b[32m-\u001b[0m\u001b[1;32m2034\u001b[0m\u001b[32m, Temp range: \u001b[0m\u001b[1;32m-7.5\u001b[0m\u001b[32m to \u001b[0m\u001b[1;32m54.0\u001b[0m\u001b[32m°C\u001b[0m\n"
      ]
     },
     "metadata": {},
     "output_type": "display_data"
    },
    {
     "data": {
      "text/html": [
       "<pre style=\"white-space:pre;overflow-x:auto;line-height:normal;font-family:Menlo,'DejaVu Sans Mono',consolas,'Courier New',monospace\">  <span style=\"color: #008000; text-decoration-color: #008000\">✅ CanESM5: </span><span style=\"color: #008000; text-decoration-color: #008000; font-weight: bold\">2015</span><span style=\"color: #008000; text-decoration-color: #008000\">-</span><span style=\"color: #008000; text-decoration-color: #008000; font-weight: bold\">2034</span><span style=\"color: #008000; text-decoration-color: #008000\">, Temp range: </span><span style=\"color: #008000; text-decoration-color: #008000; font-weight: bold\">-4.5</span><span style=\"color: #008000; text-decoration-color: #008000\"> to </span><span style=\"color: #008000; text-decoration-color: #008000; font-weight: bold\">54.1</span><span style=\"color: #008000; text-decoration-color: #008000\">°C</span>\n",
       "</pre>\n"
      ],
      "text/plain": [
       "  \u001b[32m✅ CanESM5: \u001b[0m\u001b[1;32m2015\u001b[0m\u001b[32m-\u001b[0m\u001b[1;32m2034\u001b[0m\u001b[32m, Temp range: \u001b[0m\u001b[1;32m-4.5\u001b[0m\u001b[32m to \u001b[0m\u001b[1;32m54.1\u001b[0m\u001b[32m°C\u001b[0m\n"
      ]
     },
     "metadata": {},
     "output_type": "display_data"
    },
    {
     "data": {
      "text/html": [
       "<pre style=\"white-space:pre;overflow-x:auto;line-height:normal;font-family:Menlo,'DejaVu Sans Mono',consolas,'Courier New',monospace\">\n",
       "<span style=\"color: #008000; text-decoration-color: #008000; font-weight: bold\">✅ Created historical ensemble: </span><span style=\"color: #008000; text-decoration-color: #008000; font-weight: bold\">5</span><span style=\"color: #008000; text-decoration-color: #008000; font-weight: bold\"> models, </span><span style=\"color: #008000; text-decoration-color: #008000; font-weight: bold\">240</span><span style=\"color: #008000; text-decoration-color: #008000; font-weight: bold\"> time steps</span>\n",
       "</pre>\n"
      ],
      "text/plain": [
       "\n",
       "\u001b[1;32m✅ Created historical ensemble: \u001b[0m\u001b[1;32m5\u001b[0m\u001b[1;32m models, \u001b[0m\u001b[1;32m240\u001b[0m\u001b[1;32m time steps\u001b[0m\n"
      ]
     },
     "metadata": {},
     "output_type": "display_data"
    },
    {
     "data": {
      "text/html": [
       "<pre style=\"white-space:pre;overflow-x:auto;line-height:normal;font-family:Menlo,'DejaVu Sans Mono',consolas,'Courier New',monospace\">\n",
       "<span style=\"color: #008000; text-decoration-color: #008000; font-weight: bold\">✅ Created ssp585 ensemble: </span><span style=\"color: #008000; text-decoration-color: #008000; font-weight: bold\">5</span><span style=\"color: #008000; text-decoration-color: #008000; font-weight: bold\"> models, </span><span style=\"color: #008000; text-decoration-color: #008000; font-weight: bold\">240</span><span style=\"color: #008000; text-decoration-color: #008000; font-weight: bold\"> time steps</span>\n",
       "</pre>\n"
      ],
      "text/plain": [
       "\n",
       "\u001b[1;32m✅ Created ssp585 ensemble: \u001b[0m\u001b[1;32m5\u001b[0m\u001b[1;32m models, \u001b[0m\u001b[1;32m240\u001b[0m\u001b[1;32m time steps\u001b[0m\n"
      ]
     },
     "metadata": {},
     "output_type": "display_data"
    },
    {
     "data": {
      "text/html": [
       "<pre style=\"white-space:pre;overflow-x:auto;line-height:normal;font-family:Menlo,'DejaVu Sans Mono',consolas,'Courier New',monospace\"><span style=\"font-style: italic\">                 Multi-Model Ensemble Summary                  </span>\n",
       "┏━━━━━━━━━━━━┳━━━━━━━━┳━━━━━━━━━━━━━┳━━━━━━━━━━━━━┳━━━━━━━━━━━┓\n",
       "┃<span style=\"color: #800080; text-decoration-color: #800080; font-weight: bold\"> Experiment </span>┃<span style=\"color: #800080; text-decoration-color: #800080; font-weight: bold\"> Models </span>┃<span style=\"color: #800080; text-decoration-color: #800080; font-weight: bold\"> Time Period </span>┃<span style=\"color: #800080; text-decoration-color: #800080; font-weight: bold\"> Grid Points </span>┃<span style=\"color: #800080; text-decoration-color: #800080; font-weight: bold\"> Data Size </span>┃\n",
       "┡━━━━━━━━━━━━╇━━━━━━━━╇━━━━━━━━━━━━━╇━━━━━━━━━━━━━╇━━━━━━━━━━━┩\n",
       "│<span style=\"color: #008080; text-decoration-color: #008080\"> HISTORICAL </span>│<span style=\"color: #008000; text-decoration-color: #008000\"> 5      </span>│<span style=\"color: #808000; text-decoration-color: #808000\"> 1995-2014   </span>│<span style=\"color: #000080; text-decoration-color: #000080\"> 496 × 1161  </span>│<span style=\"color: #800000; text-decoration-color: #800000\"> 5272.1 MB </span>│\n",
       "│<span style=\"color: #008080; text-decoration-color: #008080\"> SSP585     </span>│<span style=\"color: #008000; text-decoration-color: #008000\"> 5      </span>│<span style=\"color: #808000; text-decoration-color: #808000\"> 2015-2034   </span>│<span style=\"color: #000080; text-decoration-color: #000080\"> 496 × 1161  </span>│<span style=\"color: #800000; text-decoration-color: #800000\"> 5272.1 MB </span>│\n",
       "└────────────┴────────┴─────────────┴─────────────┴───────────┘\n",
       "</pre>\n"
      ],
      "text/plain": [
       "\u001b[3m                 Multi-Model Ensemble Summary                  \u001b[0m\n",
       "┏━━━━━━━━━━━━┳━━━━━━━━┳━━━━━━━━━━━━━┳━━━━━━━━━━━━━┳━━━━━━━━━━━┓\n",
       "┃\u001b[1;35m \u001b[0m\u001b[1;35mExperiment\u001b[0m\u001b[1;35m \u001b[0m┃\u001b[1;35m \u001b[0m\u001b[1;35mModels\u001b[0m\u001b[1;35m \u001b[0m┃\u001b[1;35m \u001b[0m\u001b[1;35mTime Period\u001b[0m\u001b[1;35m \u001b[0m┃\u001b[1;35m \u001b[0m\u001b[1;35mGrid Points\u001b[0m\u001b[1;35m \u001b[0m┃\u001b[1;35m \u001b[0m\u001b[1;35mData Size\u001b[0m\u001b[1;35m \u001b[0m┃\n",
       "┡━━━━━━━━━━━━╇━━━━━━━━╇━━━━━━━━━━━━━╇━━━━━━━━━━━━━╇━━━━━━━━━━━┩\n",
       "│\u001b[36m \u001b[0m\u001b[36mHISTORICAL\u001b[0m\u001b[36m \u001b[0m│\u001b[32m \u001b[0m\u001b[32m5     \u001b[0m\u001b[32m \u001b[0m│\u001b[33m \u001b[0m\u001b[33m1995-2014  \u001b[0m\u001b[33m \u001b[0m│\u001b[34m \u001b[0m\u001b[34m496 × 1161 \u001b[0m\u001b[34m \u001b[0m│\u001b[31m \u001b[0m\u001b[31m5272.1 MB\u001b[0m\u001b[31m \u001b[0m│\n",
       "│\u001b[36m \u001b[0m\u001b[36mSSP585    \u001b[0m\u001b[36m \u001b[0m│\u001b[32m \u001b[0m\u001b[32m5     \u001b[0m\u001b[32m \u001b[0m│\u001b[33m \u001b[0m\u001b[33m2015-2034  \u001b[0m\u001b[33m \u001b[0m│\u001b[34m \u001b[0m\u001b[34m496 × 1161 \u001b[0m\u001b[34m \u001b[0m│\u001b[31m \u001b[0m\u001b[31m5272.1 MB\u001b[0m\u001b[31m \u001b[0m│\n",
       "└────────────┴────────┴─────────────┴─────────────┴───────────┘\n"
      ]
     },
     "metadata": {},
     "output_type": "display_data"
    }
   ],
   "source": [
    "def load_model_data(simulation, experiment):\n",
    "    \"\"\"\n",
    "    Load data for a specific model and experiment using Tellus filesystem interface.\n",
    "    \"\"\"\n",
    "    location = simulation.get_location(f\"esgf_{experiment}\")\n",
    "    if not location:\n",
    "        raise ValueError(f\"Location esgf_{experiment} not found\")\n",
    "    \n",
    "    fs = location.fs\n",
    "    data_path = simulation.get_location_path(f\"esgf_{experiment}\")\n",
    "    \n",
    "    # Find NetCDF files in the path\n",
    "    nc_files = list(fs.glob(f\"{data_path}/*.nc\"))\n",
    "    \n",
    "    if not nc_files:\n",
    "        raise FileNotFoundError(f\"No NetCDF files found in {data_path}\")\n",
    "    \n",
    "    # Load the first file (we only created one per model/experiment)\n",
    "    with fs.open(nc_files[0], 'rb') as f:\n",
    "        ds = xr.open_dataset(f)\n",
    "        # Load data into memory for analysis\n",
    "        ds = ds.load()\n",
    "    \n",
    "    return ds\n",
    "\n",
    "# Load ensemble data\n",
    "console.print(\"[bold blue]📊 Loading multi-model ensemble data...[/bold blue]\")\n",
    "\n",
    "ensemble_data = {}\n",
    "\n",
    "for experiment in ['historical', 'ssp585']:\n",
    "    ensemble_data[experiment] = {}\n",
    "    \n",
    "    console.print(f\"\\n[cyan]Loading {experiment} data:[/cyan]\")\n",
    "    \n",
    "    for model_name in CMIP6_MODELS.keys():\n",
    "        try:\n",
    "            sim = simulations[model_name]\n",
    "            ds = load_model_data(sim, experiment)\n",
    "            \n",
    "            # Add model identifier as coordinate\n",
    "            ds = ds.assign_coords(model=model_name)\n",
    "            ensemble_data[experiment][model_name] = ds\n",
    "            \n",
    "            # Display basic info\n",
    "            time_range = f\"{ds.time.dt.year.min().item()}-{ds.time.dt.year.max().item()}\"\n",
    "            temp_range = f\"{(ds.tas - 273.15).min().item():.1f} to {(ds.tas - 273.15).max().item():.1f}°C\"\n",
    "            console.print(f\"  [green]✅ {model_name}: {time_range}, Temp range: {temp_range}[/green]\")\n",
    "            \n",
    "        except Exception as e:\n",
    "            console.print(f\"  [red]❌ Failed to load {model_name}: {e}[/red]\")\n",
    "\n",
    "# Combine models into ensemble datasets\n",
    "ensemble_datasets = {}\n",
    "for experiment in ensemble_data.keys():\n",
    "    if ensemble_data[experiment]:\n",
    "        # Concatenate along new model dimension\n",
    "        ensemble_datasets[experiment] = xr.concat(\n",
    "            list(ensemble_data[experiment].values()),\n",
    "            dim='model'\n",
    "        )\n",
    "        ensemble_datasets[experiment]['model'] = list(ensemble_data[experiment].keys())\n",
    "        \n",
    "        console.print(f\"\\n[bold green]✅ Created {experiment} ensemble: \"\n",
    "                     f\"{len(ensemble_data[experiment])} models, \"\n",
    "                     f\"{len(ensemble_datasets[experiment].time)} time steps[/bold green]\")\n",
    "\n",
    "# Display ensemble summary\n",
    "table = Table(title=\"Multi-Model Ensemble Summary\", show_header=True, header_style=\"bold magenta\")\n",
    "table.add_column(\"Experiment\", style=\"cyan\")\n",
    "table.add_column(\"Models\", style=\"green\")\n",
    "table.add_column(\"Time Period\", style=\"yellow\")\n",
    "table.add_column(\"Grid Points\", style=\"blue\")\n",
    "table.add_column(\"Data Size\", style=\"red\")\n",
    "\n",
    "for exp_name, ds in ensemble_datasets.items():\n",
    "    time_start = ds.time.dt.year.min().item()\n",
    "    time_end = ds.time.dt.year.max().item()\n",
    "    grid_size = f\"{len(ds.lat)} × {len(ds.lon)}\"\n",
    "    data_size_mb = ds.tas.nbytes / 1024 / 1024\n",
    "    \n",
    "    table.add_row(\n",
    "        exp_name.upper(),\n",
    "        str(len(ds.model)),\n",
    "        f\"{time_start}-{time_end}\",\n",
    "        grid_size,\n",
    "        f\"{data_size_mb:.1f} MB\"\n",
    "    )\n",
    "\n",
    "console.print(table)"
   ]
  },
  {
   "cell_type": "markdown",
   "id": "ensemble-analysis",
   "metadata": {},
   "source": [
    "## 6. Ensemble Statistics and Climate Analysis\n",
    "\n",
    "Calculate ensemble statistics, model agreement, and climate change signals with proper statistical analysis."
   ]
  },
  {
   "cell_type": "code",
   "execution_count": 7,
   "id": "ensemble-statistics",
   "metadata": {},
   "outputs": [
    {
     "data": {
      "text/html": [
       "<pre style=\"white-space:pre;overflow-x:auto;line-height:normal;font-family:Menlo,'DejaVu Sans Mono',consolas,'Courier New',monospace\"><span style=\"color: #000080; text-decoration-color: #000080; font-weight: bold\">📈 Calculating ensemble statistics...</span>\n",
       "</pre>\n"
      ],
      "text/plain": [
       "\u001b[1;34m📈 Calculating ensemble statistics\u001b[0m\u001b[1;34m...\u001b[0m\n"
      ]
     },
     "metadata": {},
     "output_type": "display_data"
    },
    {
     "data": {
      "text/html": [
       "<pre style=\"white-space:pre;overflow-x:auto;line-height:normal;font-family:Menlo,'DejaVu Sans Mono',consolas,'Courier New',monospace\">\n",
       "<span style=\"color: #008080; text-decoration-color: #008080\">Processing historical ensemble...</span>\n",
       "</pre>\n"
      ],
      "text/plain": [
       "\n",
       "\u001b[36mProcessing historical ensemble\u001b[0m\u001b[36m...\u001b[0m\n"
      ]
     },
     "metadata": {},
     "output_type": "display_data"
    },
    {
     "name": "stderr",
     "output_type": "stream",
     "text": [
      "/Users/pgierz/Code/github.com/pgierz/tellus/.pixi/envs/test/lib/python3.12/site-packages/numpy/lib/nanfunctions.py:1879: RuntimeWarning: Degrees of freedom <= 0 for slice.\n",
      "  var = nanvar(a, axis=axis, dtype=dtype, out=out, ddof=ddof,\n"
     ]
    },
    {
     "data": {
      "text/html": [
       "<pre style=\"white-space:pre;overflow-x:auto;line-height:normal;font-family:Menlo,'DejaVu Sans Mono',consolas,'Courier New',monospace\">  <span style=\"color: #008000; text-decoration-color: #008000\">Global mean temperature: </span><span style=\"color: #008000; text-decoration-color: #008000; font-weight: bold\">7666.03</span><span style=\"color: #008000; text-decoration-color: #008000\">°C</span>\n",
       "</pre>\n"
      ],
      "text/plain": [
       "  \u001b[32mGlobal mean temperature: \u001b[0m\u001b[1;32m7666.03\u001b[0m\u001b[32m°C\u001b[0m\n"
      ]
     },
     "metadata": {},
     "output_type": "display_data"
    },
    {
     "data": {
      "text/html": [
       "<pre style=\"white-space:pre;overflow-x:auto;line-height:normal;font-family:Menlo,'DejaVu Sans Mono',consolas,'Courier New',monospace\">  <span style=\"color: #008000; text-decoration-color: #008000\">Temperature trend: </span><span style=\"color: #008000; text-decoration-color: #008000; font-weight: bold\">-0.000</span><span style=\"color: #008000; text-decoration-color: #008000\">°C/decade</span>\n",
       "</pre>\n"
      ],
      "text/plain": [
       "  \u001b[32mTemperature trend: \u001b[0m\u001b[1;32m-0.000\u001b[0m\u001b[32m°C/decade\u001b[0m\n"
      ]
     },
     "metadata": {},
     "output_type": "display_data"
    },
    {
     "data": {
      "text/html": [
       "<pre style=\"white-space:pre;overflow-x:auto;line-height:normal;font-family:Menlo,'DejaVu Sans Mono',consolas,'Courier New',monospace\">  <span style=\"color: #008000; text-decoration-color: #008000\">Inter-model spread: </span><span style=\"color: #008000; text-decoration-color: #008000; font-weight: bold\">136.42</span><span style=\"color: #008000; text-decoration-color: #008000\">°C</span>\n",
       "</pre>\n"
      ],
      "text/plain": [
       "  \u001b[32mInter-model spread: \u001b[0m\u001b[1;32m136.42\u001b[0m\u001b[32m°C\u001b[0m\n"
      ]
     },
     "metadata": {},
     "output_type": "display_data"
    },
    {
     "data": {
      "text/html": [
       "<pre style=\"white-space:pre;overflow-x:auto;line-height:normal;font-family:Menlo,'DejaVu Sans Mono',consolas,'Courier New',monospace\">\n",
       "<span style=\"color: #008080; text-decoration-color: #008080\">Processing ssp585 ensemble...</span>\n",
       "</pre>\n"
      ],
      "text/plain": [
       "\n",
       "\u001b[36mProcessing ssp585 ensemble\u001b[0m\u001b[36m...\u001b[0m\n"
      ]
     },
     "metadata": {},
     "output_type": "display_data"
    },
    {
     "name": "stderr",
     "output_type": "stream",
     "text": [
      "/Users/pgierz/Code/github.com/pgierz/tellus/.pixi/envs/test/lib/python3.12/site-packages/numpy/lib/nanfunctions.py:1879: RuntimeWarning: Degrees of freedom <= 0 for slice.\n",
      "  var = nanvar(a, axis=axis, dtype=dtype, out=out, ddof=ddof,\n"
     ]
    },
    {
     "data": {
      "text/html": [
       "<pre style=\"white-space:pre;overflow-x:auto;line-height:normal;font-family:Menlo,'DejaVu Sans Mono',consolas,'Courier New',monospace\">  <span style=\"color: #008000; text-decoration-color: #008000\">Global mean temperature: </span><span style=\"color: #008000; text-decoration-color: #008000; font-weight: bold\">7783.50</span><span style=\"color: #008000; text-decoration-color: #008000\">°C</span>\n",
       "</pre>\n"
      ],
      "text/plain": [
       "  \u001b[32mGlobal mean temperature: \u001b[0m\u001b[1;32m7783.50\u001b[0m\u001b[32m°C\u001b[0m\n"
      ]
     },
     "metadata": {},
     "output_type": "display_data"
    },
    {
     "data": {
      "text/html": [
       "<pre style=\"white-space:pre;overflow-x:auto;line-height:normal;font-family:Menlo,'DejaVu Sans Mono',consolas,'Courier New',monospace\">  <span style=\"color: #008000; text-decoration-color: #008000\">Temperature trend: </span><span style=\"color: #008000; text-decoration-color: #008000; font-weight: bold\">0.000</span><span style=\"color: #008000; text-decoration-color: #008000\">°C/decade</span>\n",
       "</pre>\n"
      ],
      "text/plain": [
       "  \u001b[32mTemperature trend: \u001b[0m\u001b[1;32m0.000\u001b[0m\u001b[32m°C/decade\u001b[0m\n"
      ]
     },
     "metadata": {},
     "output_type": "display_data"
    },
    {
     "data": {
      "text/html": [
       "<pre style=\"white-space:pre;overflow-x:auto;line-height:normal;font-family:Menlo,'DejaVu Sans Mono',consolas,'Courier New',monospace\">  <span style=\"color: #008000; text-decoration-color: #008000\">Inter-model spread: </span><span style=\"color: #008000; text-decoration-color: #008000; font-weight: bold\">140.86</span><span style=\"color: #008000; text-decoration-color: #008000\">°C</span>\n",
       "</pre>\n"
      ],
      "text/plain": [
       "  \u001b[32mInter-model spread: \u001b[0m\u001b[1;32m140.86\u001b[0m\u001b[32m°C\u001b[0m\n"
      ]
     },
     "metadata": {},
     "output_type": "display_data"
    },
    {
     "data": {
      "text/html": [
       "<pre style=\"white-space:pre;overflow-x:auto;line-height:normal;font-family:Menlo,'DejaVu Sans Mono',consolas,'Courier New',monospace\">\n",
       "<span style=\"color: #000080; text-decoration-color: #000080; font-weight: bold\">🌡️ Calculating climate change signal...</span>\n",
       "</pre>\n"
      ],
      "text/plain": [
       "\n",
       "\u001b[1;34m🌡️ Calculating climate change signal\u001b[0m\u001b[1;34m...\u001b[0m\n"
      ]
     },
     "metadata": {},
     "output_type": "display_data"
    },
    {
     "data": {
      "text/html": [
       "<pre style=\"white-space:pre;overflow-x:auto;line-height:normal;font-family:Menlo,'DejaVu Sans Mono',consolas,'Courier New',monospace\"><span style=\"color: #008000; text-decoration-color: #008000; font-weight: bold\">🌍 Global mean temperature change: </span><span style=\"color: #008000; text-decoration-color: #008000; font-weight: bold\">179.86</span><span style=\"color: #008000; text-decoration-color: #008000; font-weight: bold\">°C</span>\n",
       "</pre>\n"
      ],
      "text/plain": [
       "\u001b[1;32m🌍 Global mean temperature change: \u001b[0m\u001b[1;32m179.86\u001b[0m\u001b[1;32m°C\u001b[0m\n"
      ]
     },
     "metadata": {},
     "output_type": "display_data"
    },
    {
     "data": {
      "text/html": [
       "<pre style=\"white-space:pre;overflow-x:auto;line-height:normal;font-family:Menlo,'DejaVu Sans Mono',consolas,'Courier New',monospace\"><span style=\"color: #008000; text-decoration-color: #008000\">Significant change over </span><span style=\"color: #008000; text-decoration-color: #008000; font-weight: bold\">141463</span><span style=\"color: #008000; text-decoration-color: #008000\">/</span><span style=\"color: #008000; text-decoration-color: #008000; font-weight: bold\">575856</span><span style=\"color: #008000; text-decoration-color: #008000\"> grid points</span>\n",
       "</pre>\n"
      ],
      "text/plain": [
       "\u001b[32mSignificant change over \u001b[0m\u001b[1;32m141463\u001b[0m\u001b[32m/\u001b[0m\u001b[1;32m575856\u001b[0m\u001b[32m grid points\u001b[0m\n"
      ]
     },
     "metadata": {},
     "output_type": "display_data"
    },
    {
     "data": {
      "text/html": [
       "<pre style=\"white-space:pre;overflow-x:auto;line-height:normal;font-family:Menlo,'DejaVu Sans Mono',consolas,'Courier New',monospace\">\n",
       "<span style=\"color: #008000; text-decoration-color: #008000; font-weight: bold\">✅ Ensemble analysis complete!</span>\n",
       "</pre>\n"
      ],
      "text/plain": [
       "\n",
       "\u001b[1;32m✅ Ensemble analysis complete!\u001b[0m\n"
      ]
     },
     "metadata": {},
     "output_type": "display_data"
    }
   ],
   "source": [
    "def calculate_ensemble_statistics(ensemble_ds):\n",
    "    \"\"\"\n",
    "    Calculate comprehensive ensemble statistics with proper weighting.\n",
    "    \"\"\"\n",
    "    # Convert to Celsius for analysis\n",
    "    tas_celsius = ensemble_ds.tas - 273.15\n",
    "    \n",
    "    # Calculate cosine latitude weights for proper global averaging\n",
    "    weights = np.cos(np.deg2rad(ensemble_ds.lat))\n",
    "    weights = weights / weights.sum()\n",
    "    \n",
    "    stats = {}\n",
    "    \n",
    "    # Ensemble mean\n",
    "    stats['mean'] = tas_celsius.mean(dim='model')\n",
    "    \n",
    "    # Ensemble standard deviation (inter-model spread)\n",
    "    stats['std'] = tas_celsius.std(dim='model')\n",
    "    \n",
    "    # Model agreement (fraction of models agreeing on sign of change)\n",
    "    # For this, we need a reference (use first time period)\n",
    "    reference_period = tas_celsius.isel(time=slice(0, 60))  # First 5 years\n",
    "    reference_mean = reference_period.mean(dim='time')\n",
    "    \n",
    "    # Calculate change from reference for each model - fix the groupby operation\n",
    "    annual_mean = tas_celsius.groupby('time.year').mean(dim='time')\n",
    "    changes = annual_mean - reference_mean\n",
    "    \n",
    "    # Model agreement: fraction of models with same sign of change  \n",
    "    # Use a simpler approach to avoid dimension issues\n",
    "    positive_changes = (changes > 0).astype(float)\n",
    "    negative_changes = (changes < 0).astype(float)\n",
    "    \n",
    "    # Calculate agreement as max of positive or negative fraction\n",
    "    agreement = np.maximum(\n",
    "        positive_changes.mean(dim='model'),\n",
    "        negative_changes.mean(dim='model')\n",
    "    )\n",
    "    \n",
    "    stats['agreement'] = agreement\n",
    "    \n",
    "    # Ensemble range (min-max spread)\n",
    "    stats['min'] = tas_celsius.min(dim='model')\n",
    "    stats['max'] = tas_celsius.max(dim='model')\n",
    "    stats['range'] = stats['max'] - stats['min']\n",
    "    \n",
    "    # Global mean time series for each statistic\n",
    "    global_stats = {}\n",
    "    for key, data in stats.items():\n",
    "        if key != 'agreement':  # Agreement already processed\n",
    "            global_stats[f'global_{key}'] = (data * weights).sum(dim=['lat', 'lon'])\n",
    "    \n",
    "    # Add original data for reference\n",
    "    stats['data'] = tas_celsius\n",
    "    stats.update(global_stats)\n",
    "    \n",
    "    return stats\n",
    "\n",
    "# Calculate statistics for both experiments\n",
    "console.print(\"[bold blue]📈 Calculating ensemble statistics...[/bold blue]\")\n",
    "\n",
    "ensemble_stats = {}\n",
    "for exp_name, ds in ensemble_datasets.items():\n",
    "    console.print(f\"\\n[cyan]Processing {exp_name} ensemble...[/cyan]\")\n",
    "    \n",
    "    stats = calculate_ensemble_statistics(ds)\n",
    "    ensemble_stats[exp_name] = stats\n",
    "    \n",
    "    # Report key statistics\n",
    "    global_mean_temp = stats['global_mean'].mean().item()\n",
    "    global_temp_trend = (\n",
    "        stats['global_mean'].polyfit(dim='time', deg=1)\n",
    "        .polyfit_coefficients[0].item() * 365.25 * 10  # per decade\n",
    "    )\n",
    "    inter_model_spread = stats['global_std'].mean().item()\n",
    "    \n",
    "    console.print(f\"  [green]Global mean temperature: {global_mean_temp:.2f}°C[/green]\")\n",
    "    console.print(f\"  [green]Temperature trend: {global_temp_trend:.3f}°C/decade[/green]\")\n",
    "    console.print(f\"  [green]Inter-model spread: {inter_model_spread:.2f}°C[/green]\")\n",
    "\n",
    "# Calculate climate change signal (SSP5-8.5 vs Historical)\n",
    "if 'historical' in ensemble_stats and 'ssp585' in ensemble_stats:\n",
    "    console.print(\"\\n[bold blue]🌡️ Calculating climate change signal...[/bold blue]\")\n",
    "    \n",
    "    # Use last 10 years of each period for comparison\n",
    "    hist_recent = ensemble_stats['historical']['mean'].isel(time=slice(-120, None))  # Last 10 years\n",
    "    ssp_early = ensemble_stats['ssp585']['mean'].isel(time=slice(-120, None))  # Last 10 years of 2015-2034\n",
    "    \n",
    "    # Calculate change\n",
    "    climate_change_signal = ssp_early.mean(dim='time') - hist_recent.mean(dim='time')\n",
    "    \n",
    "    # Statistical significance test (simple t-test approximation)\n",
    "    hist_std = ensemble_stats['historical']['std'].isel(time=slice(-120, None)).mean(dim='time')\n",
    "    ssp_std = ensemble_stats['ssp585']['std'].isel(time=slice(-120, None)).mean(dim='time')\n",
    "    \n",
    "    # Combined standard error\n",
    "    combined_std = np.sqrt(hist_std**2 + ssp_std**2) / np.sqrt(len(ensemble_datasets['historical'].model))\n",
    "    \n",
    "    # Simple significance mask (|signal| > 2 * uncertainty)\n",
    "    significance_mask = np.abs(climate_change_signal) > (2 * combined_std)\n",
    "    \n",
    "    # Global mean change\n",
    "    weights = np.cos(np.deg2rad(climate_change_signal.lat))\n",
    "    weights = weights / weights.sum()\n",
    "    global_change = (climate_change_signal * weights).sum()\n",
    "    \n",
    "    console.print(f\"[bold green]🌍 Global mean temperature change: {global_change.item():.2f}°C[/bold green]\")\n",
    "    console.print(f\"[green]Significant change over {significance_mask.sum().item()}/{significance_mask.size} grid points[/green]\")\n",
    "    \n",
    "    # Store for visualization\n",
    "    ensemble_stats['climate_change'] = {\n",
    "        'signal': climate_change_signal,\n",
    "        'significance': significance_mask,\n",
    "        'global_change': global_change\n",
    "    }\n",
    "\n",
    "console.print(\"\\n[bold green]✅ Ensemble analysis complete![/bold green]\")"
   ]
  },
  {
   "cell_type": "markdown",
   "id": "visualization",
   "metadata": {},
   "source": [
    "## 7. Publication-Quality Visualizations\n",
    "\n",
    "Create comprehensive visualizations showing ensemble statistics, climate change patterns, and model agreement using cartopy for proper map projections."
   ]
  },
  {
   "cell_type": "code",
   "execution_count": 8,
   "id": "create-visualizations",
   "metadata": {},
   "outputs": [
    {
     "data": {
      "text/html": [
       "<pre style=\"white-space:pre;overflow-x:auto;line-height:normal;font-family:Menlo,'DejaVu Sans Mono',consolas,'Courier New',monospace\"><span style=\"color: #000080; text-decoration-color: #000080; font-weight: bold\">🎨 Creating publication-quality visualizations...</span>\n",
       "</pre>\n"
      ],
      "text/plain": [
       "\u001b[1;34m🎨 Creating publication-quality visualizations\u001b[0m\u001b[1;34m...\u001b[0m\n"
      ]
     },
     "metadata": {},
     "output_type": "display_data"
    },
    {
     "ename": "ValueError",
     "evalue": "The coordinate must be equally spaced.",
     "output_type": "error",
     "traceback": [
      "\u001b[31m---------------------------------------------------------------------------\u001b[39m",
      "\u001b[31mValueError\u001b[39m                                Traceback (most recent call last)",
      "\u001b[36mCell\u001b[39m\u001b[36m \u001b[39m\u001b[32mIn[8]\u001b[39m\u001b[32m, line 238\u001b[39m\n\u001b[32m    235\u001b[39m \u001b[38;5;66;03m# Create the comprehensive visualization\u001b[39;00m\n\u001b[32m    236\u001b[39m console.print(\u001b[33m\"\u001b[39m\u001b[33m[bold blue]🎨 Creating publication-quality visualizations...[/bold blue]\u001b[39m\u001b[33m\"\u001b[39m)\n\u001b[32m--> \u001b[39m\u001b[32m238\u001b[39m fig = \u001b[43mplot_ensemble_analysis\u001b[49m\u001b[43m(\u001b[49m\u001b[43m)\u001b[49m\n\u001b[32m    239\u001b[39m plt.show()\n\u001b[32m    241\u001b[39m \u001b[38;5;66;03m# Save to workspace\u001b[39;00m\n",
      "\u001b[36mCell\u001b[39m\u001b[36m \u001b[39m\u001b[32mIn[8]\u001b[39m\u001b[32m, line 78\u001b[39m, in \u001b[36mplot_ensemble_analysis\u001b[39m\u001b[34m()\u001b[39m\n\u001b[32m     75\u001b[39m significance = ensemble_stats[\u001b[33m'\u001b[39m\u001b[33mclimate_change\u001b[39m\u001b[33m'\u001b[39m][\u001b[33m'\u001b[39m\u001b[33msignificance\u001b[39m\u001b[33m'\u001b[39m]\n\u001b[32m     77\u001b[39m \u001b[38;5;66;03m# Add cyclic point for proper global plotting\u001b[39;00m\n\u001b[32m---> \u001b[39m\u001b[32m78\u001b[39m signal_cyclic, lon_cyclic = \u001b[43madd_cyclic_point\u001b[49m\u001b[43m(\u001b[49m\n\u001b[32m     79\u001b[39m \u001b[43m    \u001b[49m\u001b[43mchange_signal\u001b[49m\u001b[43m.\u001b[49m\u001b[43mvalues\u001b[49m\u001b[43m,\u001b[49m\u001b[43m \u001b[49m\u001b[43mcoord\u001b[49m\u001b[43m=\u001b[49m\u001b[43mchange_signal\u001b[49m\u001b[43m.\u001b[49m\u001b[43mlon\u001b[49m\u001b[43m.\u001b[49m\u001b[43mvalues\u001b[49m\n\u001b[32m     80\u001b[39m \u001b[43m\u001b[49m\u001b[43m)\u001b[49m\n\u001b[32m     81\u001b[39m sig_cyclic, _ = add_cyclic_point(\n\u001b[32m     82\u001b[39m     significance.values.astype(\u001b[38;5;28mfloat\u001b[39m), coord=significance.lon.values\n\u001b[32m     83\u001b[39m )\n\u001b[32m     85\u001b[39m \u001b[38;5;66;03m# Create meshgrid\u001b[39;00m\n",
      "\u001b[36mFile \u001b[39m\u001b[32m~/Code/github.com/pgierz/tellus/.pixi/envs/test/lib/python3.12/site-packages/cartopy/util.py:77\u001b[39m, in \u001b[36madd_cyclic_point\u001b[39m\u001b[34m(data, coord, axis)\u001b[39m\n\u001b[32m     75\u001b[39m     delta_coord = np.diff(coord)\n\u001b[32m     76\u001b[39m     \u001b[38;5;28;01mif\u001b[39;00m \u001b[38;5;129;01mnot\u001b[39;00m np.allclose(delta_coord, delta_coord[\u001b[32m0\u001b[39m]):\n\u001b[32m---> \u001b[39m\u001b[32m77\u001b[39m         \u001b[38;5;28;01mraise\u001b[39;00m \u001b[38;5;167;01mValueError\u001b[39;00m(\u001b[33m'\u001b[39m\u001b[33mThe coordinate must be equally spaced.\u001b[39m\u001b[33m'\u001b[39m)\n\u001b[32m     78\u001b[39m     new_coord = ma.concatenate((coord, coord[-\u001b[32m1\u001b[39m:] + delta_coord[\u001b[32m0\u001b[39m]))\n\u001b[32m     79\u001b[39m slicer = [\u001b[38;5;28mslice\u001b[39m(\u001b[38;5;28;01mNone\u001b[39;00m)] * data.ndim\n",
      "\u001b[31mValueError\u001b[39m: The coordinate must be equally spaced."
     ]
    },
    {
     "data": {
      "image/png": "[encoded data removed]",
      "text/plain": [
       "<Figure size 2000x1600 with 2 Axes>"
      ]
     },
     "metadata": {},
     "output_type": "display_data"
    }
   ],
   "source": [
    "# Set up publication-quality plotting style\n",
    "plt.style.use('seaborn-v0_8-whitegrid')\n",
    "plt.rcParams.update({\n",
    "    'figure.figsize': (16, 12),\n",
    "    'font.size': 11,\n",
    "    'axes.titlesize': 14,\n",
    "    'axes.labelsize': 12,\n",
    "    'xtick.labelsize': 10,\n",
    "    'ytick.labelsize': 10,\n",
    "    'legend.fontsize': 10,\n",
    "    'figure.titlesize': 16\n",
    "})\n",
    "\n",
    "def plot_ensemble_analysis():\n",
    "    \"\"\"\n",
    "    Create comprehensive ensemble analysis visualization.\n",
    "    \"\"\"\n",
    "    fig = plt.figure(figsize=(20, 16))\n",
    "    \n",
    "    # Create subplot layout\n",
    "    gs = fig.add_gridspec(3, 3, hspace=0.3, wspace=0.3, height_ratios=[1, 1, 1.2])\n",
    "    \n",
    "    # 1. Global mean temperature time series\n",
    "    ax1 = fig.add_subplot(gs[0, :])\n",
    "    \n",
    "    colors = ['#1f77b4', '#ff7f0e', '#2ca02c', '#d62728', '#9467bd']\n",
    "    \n",
    "    # Plot individual model time series\n",
    "    for i, (exp_name, stats) in enumerate(ensemble_stats.items()):\n",
    "        if exp_name == 'climate_change':\n",
    "            continue\n",
    "            \n",
    "        time_years = stats['data'].time.dt.year\n",
    "        \n",
    "        # Plot individual models (thin lines)\n",
    "        for j, model in enumerate(stats['data'].model.values):\n",
    "            model_data = stats['data'].sel(model=model)\n",
    "            weights = np.cos(np.deg2rad(model_data.lat))\n",
    "            weights = weights / weights.sum()\n",
    "            global_ts = (model_data * weights).sum(dim=['lat', 'lon'])\n",
    "            \n",
    "            ax1.plot(\n",
    "                time_years, global_ts,\n",
    "                color=colors[i], alpha=0.3, linewidth=0.8,\n",
    "                label=model if i == 0 else None\n",
    "            )\n",
    "        \n",
    "        # Plot ensemble mean (thick line)\n",
    "        ax1.plot(\n",
    "            time_years, stats['global_mean'],\n",
    "            color=colors[i], linewidth=3,\n",
    "            label=f'{exp_name.upper()} Ensemble Mean'\n",
    "        )\n",
    "        \n",
    "        # Add uncertainty bands\n",
    "        ax1.fill_between(\n",
    "            time_years,\n",
    "            stats['global_mean'] - stats['global_std'],\n",
    "            stats['global_mean'] + stats['global_std'],\n",
    "            color=colors[i], alpha=0.2,\n",
    "            label=f'{exp_name.upper()} ±1σ'\n",
    "        )\n",
    "    \n",
    "    ax1.set_xlabel('Year')\n",
    "    ax1.set_ylabel('Global Mean Temperature (°C)')\n",
    "    ax1.set_title('CMIP6 Multi-Model Ensemble: Global Mean Temperature Evolution', fontweight='bold')\n",
    "    ax1.legend(bbox_to_anchor=(1.05, 1), loc='upper left')\n",
    "    ax1.grid(True, alpha=0.3)\n",
    "    \n",
    "    # 2. Climate change signal map\n",
    "    if 'climate_change' in ensemble_stats:\n",
    "        ax2 = fig.add_subplot(gs[1, :], projection=ccrs.PlateCarree(central_longitude=180))\n",
    "        \n",
    "        change_signal = ensemble_stats['climate_change']['signal']\n",
    "        significance = ensemble_stats['climate_change']['significance']\n",
    "        \n",
    "        # Add cyclic point for proper global plotting\n",
    "        signal_cyclic, lon_cyclic = add_cyclic_point(\n",
    "            change_signal.values, coord=change_signal.lon.values\n",
    "        )\n",
    "        sig_cyclic, _ = add_cyclic_point(\n",
    "            significance.values.astype(float), coord=significance.lon.values\n",
    "        )\n",
    "        \n",
    "        # Create meshgrid\n",
    "        lon_mesh, lat_mesh = np.meshgrid(lon_cyclic, change_signal.lat.values)\n",
    "        \n",
    "        # Contour plot for temperature change\n",
    "        levels = np.arange(-3, 3.5, 0.5)\n",
    "        cs = ax2.contourf(\n",
    "            lon_mesh, lat_mesh, signal_cyclic,\n",
    "            levels=levels, cmap='RdBu_r', extend='both',\n",
    "            transform=ccrs.PlateCarree()\n",
    "        )\n",
    "        \n",
    "        # Add significance hatching\n",
    "        ax2.contourf(\n",
    "            lon_mesh, lat_mesh, sig_cyclic,\n",
    "            levels=[0.5, 1.5], colors='none', hatches=['...'],\n",
    "            transform=ccrs.PlateCarree()\n",
    "        )\n",
    "        \n",
    "        # Add geographic features\n",
    "        ax2.add_feature(cfeature.COASTLINE, linewidth=0.5)\n",
    "        ax2.add_feature(cfeature.BORDERS, linewidth=0.3, alpha=0.7)\n",
    "        ax2.add_feature(cfeature.OCEAN, color='lightblue', alpha=0.3)\n",
    "        ax2.add_feature(cfeature.LAND, color='lightgray', alpha=0.3)\n",
    "        \n",
    "        # Add gridlines\n",
    "        gl = ax2.gridlines(\n",
    "            draw_labels=True, linewidth=0.5, alpha=0.5,\n",
    "            xlocs=range(-180, 181, 60), ylocs=range(-90, 91, 30)\n",
    "        )\n",
    "        gl.top_labels = False\n",
    "        gl.right_labels = False\n",
    "        \n",
    "        ax2.set_global()\n",
    "        ax2.set_title(\n",
    "            'Temperature Change: Early SSP5-8.5 vs Late Historical\\n'\n",
    "            '(Dotted areas indicate statistical significance)',\n",
    "            fontweight='bold'\n",
    "        )\n",
    "        \n",
    "        # Add colorbar\n",
    "        cbar = plt.colorbar(cs, ax=ax2, orientation='horizontal', pad=0.05, shrink=0.8)\n",
    "        cbar.set_label('Temperature Change (°C)', fontweight='bold')\n",
    "    \n",
    "    # 3. Model comparison statistics\n",
    "    ax3 = fig.add_subplot(gs[2, 0])\n",
    "    \n",
    "    # Calculate model statistics for comparison\n",
    "    model_stats = []\n",
    "    for exp_name in ['historical', 'ssp585']:\n",
    "        if exp_name in ensemble_stats:\n",
    "            for model in ensemble_datasets[exp_name].model.values:\n",
    "                model_data = ensemble_datasets[exp_name].tas.sel(model=model) - 273.15\n",
    "                weights = np.cos(np.deg2rad(model_data.lat))\n",
    "                weights = weights / weights.sum()\n",
    "                global_mean = (model_data * weights).sum(dim=['lat', 'lon']).mean().item()\n",
    "                \n",
    "                model_stats.append({\n",
    "                    'Model': model,\n",
    "                    'Experiment': exp_name.upper(),\n",
    "                    'Global_Mean_Temp': global_mean\n",
    "                })\n",
    "    \n",
    "    df_stats = pd.DataFrame(model_stats)\n",
    "    \n",
    "    # Box plot of model temperatures by experiment\n",
    "    sns.boxplot(data=df_stats, x='Experiment', y='Global_Mean_Temp', ax=ax3)\n",
    "    sns.stripplot(data=df_stats, x='Experiment', y='Global_Mean_Temp', ax=ax3, size=8, alpha=0.7)\n",
    "    \n",
    "    ax3.set_ylabel('Global Mean Temperature (°C)')\n",
    "    ax3.set_title('Inter-Model Spread\\nby Experiment', fontweight='bold')\n",
    "    ax3.grid(True, alpha=0.3)\n",
    "    \n",
    "    # 4. Ensemble spread evolution\n",
    "    ax4 = fig.add_subplot(gs[2, 1])\n",
    "    \n",
    "    for i, (exp_name, stats) in enumerate(ensemble_stats.items()):\n",
    "        if exp_name == 'climate_change':\n",
    "            continue\n",
    "            \n",
    "        time_years = stats['data'].time.dt.year\n",
    "        \n",
    "        ax4.plot(\n",
    "            time_years, stats['global_std'],\n",
    "            color=colors[i], linewidth=2,\n",
    "            label=f'{exp_name.upper()}'\n",
    "        )\n",
    "    \n",
    "    ax4.set_xlabel('Year')\n",
    "    ax4.set_ylabel('Inter-Model Spread (°C)')\n",
    "    ax4.set_title('Evolution of\\nEnsemble Spread', fontweight='bold')\n",
    "    ax4.legend()\n",
    "    ax4.grid(True, alpha=0.3)\n",
    "    \n",
    "    # 5. Regional analysis\n",
    "    ax5 = fig.add_subplot(gs[2, 2])\n",
    "    \n",
    "    if 'climate_change' in ensemble_stats:\n",
    "        # Define regions for analysis\n",
    "        regions = {\n",
    "            'Arctic': {'lat_min': 60, 'lat_max': 90, 'lon_min': 0, 'lon_max': 360},\n",
    "            'Tropics': {'lat_min': -23.5, 'lat_max': 23.5, 'lon_min': 0, 'lon_max': 360},\n",
    "            'Northern Mid-lat': {'lat_min': 23.5, 'lat_max': 60, 'lon_min': 0, 'lon_max': 360},\n",
    "            'Southern Mid-lat': {'lat_min': -60, 'lat_max': -23.5, 'lon_min': 0, 'lon_max': 360}\n",
    "        }\n",
    "        \n",
    "        regional_changes = []\n",
    "        change_data = ensemble_stats['climate_change']['signal']\n",
    "        \n",
    "        for region_name, bounds in regions.items():\n",
    "            # Select regional data\n",
    "            regional_data = change_data.sel(\n",
    "                lat=slice(bounds['lat_min'], bounds['lat_max'])\n",
    "            )\n",
    "            \n",
    "            # Calculate area-weighted mean\n",
    "            weights = np.cos(np.deg2rad(regional_data.lat))\n",
    "            regional_mean = (regional_data * weights).sum() / weights.sum()\n",
    "            \n",
    "            regional_changes.append({\n",
    "                'Region': region_name,\n",
    "                'Change': regional_mean.item()\n",
    "            })\n",
    "        \n",
    "        df_regional = pd.DataFrame(regional_changes)\n",
    "        \n",
    "        # Bar plot of regional changes\n",
    "        bars = ax5.bar(df_regional['Region'], df_regional['Change'], \n",
    "                      color=['red' if x > 0 else 'blue' for x in df_regional['Change']],\n",
    "                      alpha=0.7)\n",
    "        \n",
    "        ax5.set_ylabel('Temperature Change (°C)')\n",
    "        ax5.set_title('Regional Climate\\nChange Signal', fontweight='bold')\n",
    "        ax5.tick_params(axis='x', rotation=45)\n",
    "        ax5.grid(True, alpha=0.3)\n",
    "        ax5.axhline(y=0, color='black', linestyle='-', alpha=0.3)\n",
    "        \n",
    "        # Add value labels on bars\n",
    "        for bar, value in zip(bars, df_regional['Change']):\n",
    "            ax5.text(bar.get_x() + bar.get_width()/2, bar.get_height() + 0.05,\n",
    "                    f'{value:.2f}', ha='center', va='bottom', fontweight='bold')\n",
    "    \n",
    "    plt.suptitle(\n",
    "        'CMIP6 Multi-Model Ensemble Analysis: Temperature Projections\\n'\n",
    "        'Historical (1995-2014) vs SSP5-8.5 (2015-2034) Comparison',\n",
    "        fontsize=18, fontweight='bold', y=0.98\n",
    "    )\n",
    "    \n",
    "    plt.tight_layout()\n",
    "    return fig\n",
    "\n",
    "# Create the comprehensive visualization\n",
    "console.print(\"[bold blue]🎨 Creating publication-quality visualizations...[/bold blue]\")\n",
    "\n",
    "fig = plot_ensemble_analysis()\n",
    "plt.show()\n",
    "\n",
    "# Save to workspace\n",
    "if simulations:\n",
    "    # Use first simulation's workspace to save results\n",
    "    first_sim = next(iter(simulations.values()))\n",
    "    workspace_path = first_sim.get_location_path(\"workspace_historical\")\n",
    "    \n",
    "    # Create output directory\n",
    "    output_dir = Path(workspace_path) / \"figures\"\n",
    "    output_dir.mkdir(parents=True, exist_ok=True)\n",
    "    \n",
    "    # Save figure\n",
    "    figure_path = output_dir / \"cmip6_ensemble_analysis.png\"\n",
    "    fig.savefig(figure_path, dpi=300, bbox_inches='tight', \n",
    "               facecolor='white', edgecolor='none')\n",
    "    \n",
    "    console.print(f\"[green]✅ Saved analysis figure to: {figure_path}[/green]\")\n",
    "\n",
    "console.print(\"[bold green]🎉 Visualization complete![/bold green]\")"
   ]
  },
  {
   "cell_type": "markdown",
   "id": "advanced-analysis",
   "metadata": {},
   "source": [
    "## 8. Advanced Earth Science Analysis\n",
    "\n",
    "Demonstrate additional Earth science capabilities: data processing, uncertainty quantification, and climate index calculations."
   ]
  },
  {
   "cell_type": "code",
   "execution_count": null,
   "id": "advanced-earth-science",
   "metadata": {},
   "outputs": [],
   "source": [
    "def calculate_climate_indices(ensemble_ds):\n",
    "    \"\"\"\n",
    "    Calculate important climate indices from temperature data.\n",
    "    \"\"\"\n",
    "    tas_celsius = ensemble_ds.tas - 273.15\n",
    "    \n",
    "    indices = {}\n",
    "    \n",
    "    # 1. Global Mean Temperature Anomaly\n",
    "    reference_period = tas_celsius.isel(time=slice(0, 60))  # First 5 years\n",
    "    reference_mean = reference_period.mean(dim='time')\n",
    "    \n",
    "    weights = np.cos(np.deg2rad(tas_celsius.lat))\n",
    "    weights = weights / weights.sum()\n",
    "    \n",
    "    global_anomaly = ((tas_celsius - reference_mean) * weights).sum(dim=['lat', 'lon'])\n",
    "    indices['global_temperature_anomaly'] = global_anomaly\n",
    "    \n",
    "    # 2. Arctic Amplification Index (Arctic vs Global warming ratio)\n",
    "    arctic_data = tas_celsius.sel(lat=slice(60, 90))\n",
    "    arctic_weights = np.cos(np.deg2rad(arctic_data.lat))\n",
    "    arctic_weights = arctic_weights / arctic_weights.sum()\n",
    "    \n",
    "    arctic_mean = (arctic_data * arctic_weights).sum(dim=['lat', 'lon'])\n",
    "    arctic_anomaly = arctic_mean - arctic_mean.isel(time=slice(0, 60)).mean(dim='time')\n",
    "    \n",
    "    # Avoid division by zero\n",
    "    amplification_index = xr.where(\n",
    "        np.abs(global_anomaly) > 0.1,\n",
    "        arctic_anomaly / global_anomaly,\n",
    "        np.nan\n",
    "    )\n",
    "    indices['arctic_amplification'] = amplification_index\n",
    "    \n",
    "    # 3. Land-Ocean Temperature Contrast\n",
    "    # Simple land/ocean mask based on climatological temperature patterns\n",
    "    annual_temp = tas_celsius.groupby('time.year').mean()\n",
    "    temp_range = annual_temp.std(dim='year')\n",
    "    \n",
    "    # Approximate land mask (higher temperature variability over land)\n",
    "    land_mask = temp_range > temp_range.quantile(0.7)\n",
    "    ocean_mask = ~land_mask\n",
    "    \n",
    "    land_temp = tas_celsius.where(land_mask).mean(dim=['lat', 'lon'])\n",
    "    ocean_temp = tas_celsius.where(ocean_mask).mean(dim=['lat', 'lon'])\n",
    "    \n",
    "    indices['land_ocean_contrast'] = land_temp - ocean_temp\n",
    "    \n",
    "    # 4. Temperature Extremes (90th percentile)\n",
    "    temp_90th = tas_celsius.quantile(0.9, dim='time')\n",
    "    indices['temperature_90th_percentile'] = temp_90th\n",
    "    \n",
    "    return indices\n",
    "\n",
    "def uncertainty_analysis(ensemble_stats):\n",
    "    \"\"\"\n",
    "    Perform comprehensive uncertainty analysis.\n",
    "    \"\"\"\n",
    "    uncertainty = {}\n",
    "    \n",
    "    for exp_name, stats in ensemble_stats.items():\n",
    "        if exp_name == 'climate_change':\n",
    "            continue\n",
    "            \n",
    "        # Total uncertainty (temporal + spatial + model)\n",
    "        temporal_var = stats['global_mean'].var(dim='time')\n",
    "        model_var = stats['global_std'].mean()**2\n",
    "        \n",
    "        total_uncertainty = np.sqrt(temporal_var + model_var)\n",
    "        \n",
    "        uncertainty[exp_name] = {\n",
    "            'temporal_uncertainty': np.sqrt(temporal_var).item(),\n",
    "            'model_uncertainty': np.sqrt(model_var).item(),\n",
    "            'total_uncertainty': total_uncertainty.item(),\n",
    "            'signal_to_noise': (stats['global_mean'].std(dim='time') / np.sqrt(model_var)).item()\n",
    "        }\n",
    "    \n",
    "    return uncertainty\n",
    "\n",
    "# Calculate advanced climate indices\n",
    "console.print(\"[bold blue]🌍 Calculating climate indices and uncertainty analysis...[/bold blue]\")\n",
    "\n",
    "climate_indices = {}\n",
    "for exp_name, ds in ensemble_datasets.items():\n",
    "    console.print(f\"\\n[cyan]Processing {exp_name} climate indices...[/cyan]\")\n",
    "    \n",
    "    indices = calculate_climate_indices(ds)\n",
    "    climate_indices[exp_name] = indices\n",
    "    \n",
    "    # Report key indices\n",
    "    global_warming = indices['global_temperature_anomaly'].mean().item()\n",
    "    arctic_amp = indices['arctic_amplification'].mean().item()\n",
    "    land_ocean_contrast = indices['land_ocean_contrast'].mean().item()\n",
    "    \n",
    "    console.print(f\"  [green]Global temperature anomaly: {global_warming:.3f}°C[/green]\")\n",
    "    console.print(f\"  [green]Arctic amplification factor: {arctic_amp:.2f}[/green]\")\n",
    "    console.print(f\"  [green]Land-ocean contrast: {land_ocean_contrast:.3f}°C[/green]\")\n",
    "\n",
    "# Uncertainty analysis\n",
    "uncertainty_results = uncertainty_analysis(ensemble_stats)\n",
    "\n",
    "console.print(\"\\n[bold blue]📊 Uncertainty Analysis Results:[/bold blue]\")\n",
    "uncertainty_table = Table(title=\"Uncertainty Components\", show_header=True, header_style=\"bold magenta\")\n",
    "uncertainty_table.add_column(\"Experiment\", style=\"cyan\")\n",
    "uncertainty_table.add_column(\"Temporal (°C)\", style=\"green\")\n",
    "uncertainty_table.add_column(\"Model (°C)\", style=\"yellow\")\n",
    "uncertainty_table.add_column(\"Total (°C)\", style=\"red\")\n",
    "uncertainty_table.add_column(\"S/N Ratio\", style=\"blue\")\n",
    "\n",
    "for exp_name, unc in uncertainty_results.items():\n",
    "    uncertainty_table.add_row(\n",
    "        exp_name.upper(),\n",
    "        f\"{unc['temporal_uncertainty']:.3f}\",\n",
    "        f\"{unc['model_uncertainty']:.3f}\",\n",
    "        f\"{unc['total_uncertainty']:.3f}\",\n",
    "        f\"{unc['signal_to_noise']:.2f}\"\n",
    "    )\n",
    "\n",
    "console.print(uncertainty_table)\n",
    "\n",
    "# Create climate indices visualization\n",
    "def plot_climate_indices():\n",
    "    fig, axes = plt.subplots(2, 2, figsize=(16, 12))\n",
    "    fig.suptitle('CMIP6 Climate Indices Analysis', fontsize=16, fontweight='bold')\n",
    "    \n",
    "    colors = ['#1f77b4', '#ff7f0e']\n",
    "    \n",
    "    # 1. Global Temperature Anomaly\n",
    "    ax = axes[0, 0]\n",
    "    for i, (exp_name, indices) in enumerate(climate_indices.items()):\n",
    "        time_years = ensemble_datasets[exp_name].time.dt.year\n",
    "        \n",
    "        # Plot ensemble mean\n",
    "        anomaly_mean = indices['global_temperature_anomaly'].mean(dim='model')\n",
    "        anomaly_std = indices['global_temperature_anomaly'].std(dim='model')\n",
    "        \n",
    "        ax.plot(time_years, anomaly_mean, color=colors[i], linewidth=2, \n",
    "               label=f'{exp_name.upper()}')\n",
    "        ax.fill_between(time_years, anomaly_mean - anomaly_std, anomaly_mean + anomaly_std,\n",
    "                       color=colors[i], alpha=0.2)\n",
    "    \n",
    "    ax.set_xlabel('Year')\n",
    "    ax.set_ylabel('Temperature Anomaly (°C)')\n",
    "    ax.set_title('Global Temperature Anomaly')\n",
    "    ax.legend()\n",
    "    ax.grid(True, alpha=0.3)\n",
    "    ax.axhline(y=0, color='black', linestyle='--', alpha=0.5)\n",
    "    \n",
    "    # 2. Arctic Amplification\n",
    "    ax = axes[0, 1]\n",
    "    for i, (exp_name, indices) in enumerate(climate_indices.items()):\n",
    "        time_years = ensemble_datasets[exp_name].time.dt.year\n",
    "        \n",
    "        # Use rolling mean to smooth noisy amplification signal\n",
    "        amp_mean = indices['arctic_amplification'].mean(dim='model').rolling(time=12, center=True).mean()\n",
    "        ax.plot(time_years, amp_mean, color=colors[i], linewidth=2, \n",
    "               label=f'{exp_name.upper()}')\n",
    "    \n",
    "    ax.set_xlabel('Year')\n",
    "    ax.set_ylabel('Amplification Factor')\n",
    "    ax.set_title('Arctic Amplification Index\\n(Arctic/Global warming ratio)')\n",
    "    ax.legend()\n",
    "    ax.grid(True, alpha=0.3)\n",
    "    ax.axhline(y=1, color='black', linestyle='--', alpha=0.5, label='No Amplification')\n",
    "    \n",
    "    # 3. Land-Ocean Temperature Contrast\n",
    "    ax = axes[1, 0]\n",
    "    for i, (exp_name, indices) in enumerate(climate_indices.items()):\n",
    "        time_years = ensemble_datasets[exp_name].time.dt.year\n",
    "        \n",
    "        contrast_mean = indices['land_ocean_contrast'].mean(dim='model')\n",
    "        contrast_std = indices['land_ocean_contrast'].std(dim='model')\n",
    "        \n",
    "        ax.plot(time_years, contrast_mean, color=colors[i], linewidth=2,\n",
    "               label=f'{exp_name.upper()}')\n",
    "        ax.fill_between(time_years, contrast_mean - contrast_std, contrast_mean + contrast_std,\n",
    "                       color=colors[i], alpha=0.2)\n",
    "    \n",
    "    ax.set_xlabel('Year')\n",
    "    ax.set_ylabel('Temperature Difference (°C)')\n",
    "    ax.set_title('Land-Ocean Temperature Contrast')\n",
    "    ax.legend()\n",
    "    ax.grid(True, alpha=0.3)\n",
    "    \n",
    "    # 4. Uncertainty Evolution\n",
    "    ax = axes[1, 1]\n",
    "    for i, (exp_name, stats) in enumerate(ensemble_stats.items()):\n",
    "        if exp_name == 'climate_change':\n",
    "            continue\n",
    "            \n",
    "        time_years = ensemble_datasets[exp_name].time.dt.year\n",
    "        \n",
    "        # Calculate rolling uncertainty\n",
    "        rolling_std = stats['global_std'].rolling(time=60, center=True).mean()\n",
    "        \n",
    "        ax.plot(time_years, rolling_std, color=colors[i], linewidth=2,\n",
    "               label=f'{exp_name.upper()} Model Spread')\n",
    "    \n",
    "    ax.set_xlabel('Year')\n",
    "    ax.set_ylabel('Temperature Uncertainty (°C)')\n",
    "    ax.set_title('Evolution of Model Uncertainty\\n(5-year rolling mean)')\n",
    "    ax.legend()\n",
    "    ax.grid(True, alpha=0.3)\n",
    "    \n",
    "    plt.tight_layout()\n",
    "    return fig\n",
    "\n",
    "# Create and display climate indices plot\n",
    "indices_fig = plot_climate_indices()\n",
    "plt.show()\n",
    "\n",
    "# Save climate indices analysis\n",
    "if simulations:\n",
    "    first_sim = next(iter(simulations.values()))\n",
    "    workspace_path = first_sim.get_location_path(\"workspace_historical\")\n",
    "    \n",
    "    # Create output directory\n",
    "    output_dir = Path(workspace_path) / \"figures\"\n",
    "    output_dir.mkdir(parents=True, exist_ok=True)\n",
    "    \n",
    "    # Save indices figure\n",
    "    indices_path = output_dir / \"cmip6_climate_indices.png\"\n",
    "    indices_fig.savefig(indices_path, dpi=300, bbox_inches='tight',\n",
    "                       facecolor='white', edgecolor='none')\n",
    "    \n",
    "    console.print(f\"[green]✅ Saved climate indices figure to: {indices_path}[/green]\")\n",
    "\n",
    "console.print(\"[bold green]🎯 Advanced climate analysis complete![/bold green]\")"
   ]
  },
  {
   "cell_type": "markdown",
   "id": "data-export",
   "metadata": {},
   "source": [
    "## 9. Data Export and Workflow Integration\n",
    "\n",
    "Export processed results and demonstrate integration with Earth science workflows."
   ]
  },
  {
   "cell_type": "code",
   "execution_count": null,
   "id": "export-results",
   "metadata": {},
   "outputs": [],
   "source": [
    "def export_analysis_results():\n",
    "    \"\"\"\n",
    "    Export analysis results in standard formats for further use.\n",
    "    \"\"\"\n",
    "    if not simulations:\n",
    "        console.print(\"[red]No simulations available for export[/red]\")\n",
    "        return\n",
    "    \n",
    "    first_sim = next(iter(simulations.values()))\n",
    "    workspace_path = first_sim.get_location_path(\"workspace_historical\")\n",
    "    output_dir = Path(workspace_path) / \"processed_data\"\n",
    "    output_dir.mkdir(parents=True, exist_ok=True)\n",
    "    \n",
    "    exports = []\n",
    "    \n",
    "    # 1. Export ensemble statistics as NetCDF\n",
    "    for exp_name, stats in ensemble_stats.items():\n",
    "        if exp_name == 'climate_change':\n",
    "            continue\n",
    "            \n",
    "        # Create dataset with ensemble statistics\n",
    "        stats_ds = xr.Dataset({\n",
    "            'ensemble_mean': stats['mean'],\n",
    "            'ensemble_std': stats['std'],\n",
    "            'ensemble_min': stats['min'],\n",
    "            'ensemble_max': stats['max'],\n",
    "            'global_mean_timeseries': stats['global_mean'],\n",
    "            'global_std_timeseries': stats['global_std']\n",
    "        })\n",
    "        \n",
    "        # Add metadata\n",
    "        stats_ds.attrs.update({\n",
    "            'title': f'CMIP6 Multi-Model Ensemble Statistics - {exp_name.upper()}',\n",
    "            'description': f'Ensemble statistics from {len(ensemble_datasets[exp_name].model)} CMIP6 models',\n",
    "            'experiment': exp_name,\n",
    "            'models': ', '.join(ensemble_datasets[exp_name].model.values),\n",
    "            'variable': 'near-surface air temperature',\n",
    "            'units': 'degrees Celsius',\n",
    "            'created_by': 'Tellus CMIP6 ensemble analysis',\n",
    "            'creation_date': pd.Timestamp.now().isoformat(),\n",
    "            'Conventions': 'CF-1.7'\n",
    "        })\n",
    "        \n",
    "        # Export to NetCDF\n",
    "        output_file = output_dir / f\"cmip6_ensemble_statistics_{exp_name}.nc\"\n",
    "        encoding = {\n",
    "            var: {'zlib': True, 'complevel': 4} \n",
    "            for var in stats_ds.data_vars\n",
    "        }\n",
    "        stats_ds.to_netcdf(output_file, encoding=encoding)\n",
    "        \n",
    "        file_size = output_file.stat().st_size / 1024 / 1024\n",
    "        exports.append(f\"{output_file.name} ({file_size:.1f} MB)\")\n",
    "        console.print(f\"[green]✅ Exported {exp_name} ensemble statistics: {file_size:.1f} MB[/green]\")\n",
    "    \n",
    "    # 2. Export climate change signal\n",
    "    if 'climate_change' in ensemble_stats:\n",
    "        change_ds = xr.Dataset({\n",
    "            'temperature_change': ensemble_stats['climate_change']['signal'],\n",
    "            'significance_mask': ensemble_stats['climate_change']['significance']\n",
    "        })\n",
    "        \n",
    "        change_ds.attrs.update({\n",
    "            'title': 'CMIP6 Climate Change Signal: Early SSP5-8.5 vs Late Historical',\n",
    "            'description': 'Temperature change between 2025-2034 and 2005-2014 periods',\n",
    "            'global_mean_change': f\"{ensemble_stats['climate_change']['global_change'].item():.3f} degrees Celsius\",\n",
    "            'significance_test': '2-sigma threshold based on inter-model spread',\n",
    "            'created_by': 'Tellus CMIP6 ensemble analysis',\n",
    "            'creation_date': pd.Timestamp.now().isoformat()\n",
    "        })\n",
    "        \n",
    "        change_file = output_dir / \"cmip6_climate_change_signal.nc\"\n",
    "        change_ds.to_netcdf(change_file, encoding={'temperature_change': {'zlib': True, 'complevel': 4}})\n",
    "        \n",
    "        file_size = change_file.stat().st_size / 1024 / 1024\n",
    "        exports.append(f\"{change_file.name} ({file_size:.1f} MB)\")\n",
    "        console.print(f\"[green]✅ Exported climate change signal: {file_size:.1f} MB[/green]\")\n",
    "    \n",
    "    # 3. Export climate indices as CSV\n",
    "    indices_data = []\n",
    "    for exp_name, indices in climate_indices.items():\n",
    "        time_values = ensemble_datasets[exp_name].time.dt.year.values\n",
    "        \n",
    "        for i, year in enumerate(time_values):\n",
    "            # Global temperature anomaly (ensemble mean)\n",
    "            global_anom = indices['global_temperature_anomaly'].isel(time=i).mean(dim='model').item()\n",
    "            \n",
    "            # Arctic amplification (ensemble mean, with smoothing to handle noise)\n",
    "            arctic_amp = indices['arctic_amplification'].isel(time=i).mean(dim='model')\n",
    "            if not np.isnan(arctic_amp):\n",
    "                arctic_amp = arctic_amp.item()\n",
    "            else:\n",
    "                arctic_amp = None\n",
    "            \n",
    "            # Land-ocean contrast (ensemble mean)\n",
    "            land_ocean = indices['land_ocean_contrast'].isel(time=i).mean(dim='model').item()\n",
    "            \n",
    "            indices_data.append({\n",
    "                'year': int(year),\n",
    "                'experiment': exp_name,\n",
    "                'global_temperature_anomaly': global_anom,\n",
    "                'arctic_amplification': arctic_amp,\n",
    "                'land_ocean_contrast': land_ocean\n",
    "            })\n",
    "    \n",
    "    indices_df = pd.DataFrame(indices_data)\n",
    "    indices_file = output_dir / \"cmip6_climate_indices.csv\"\n",
    "    indices_df.to_csv(indices_file, index=False)\n",
    "    \n",
    "    file_size = indices_file.stat().st_size / 1024\n",
    "    exports.append(f\"{indices_file.name} ({file_size:.1f} KB)\")\n",
    "    console.print(f\"[green]✅ Exported climate indices CSV: {file_size:.1f} KB[/green]\")\n",
    "    \n",
    "    # 4. Export model metadata as JSON\n",
    "    metadata = {\n",
    "        'analysis_info': {\n",
    "            'title': 'CMIP6 Multi-Model Ensemble Analysis',\n",
    "            'created_date': pd.Timestamp.now().isoformat(),\n",
    "            'software': 'Tellus Earth Science Data Management System',\n",
    "            'variable': 'Near-Surface Air Temperature (tas)',\n",
    "            'experiments': list(EXPERIMENTS.keys()),\n",
    "            'time_periods': {\n",
    "                'historical': '1995-2014',\n",
    "                'ssp585': '2015-2034'\n",
    "            }\n",
    "        },\n",
    "        'models': CMIP6_MODELS,\n",
    "        'uncertainty_analysis': uncertainty_results,\n",
    "        'key_findings': {\n",
    "            'global_warming': (\n",
    "                ensemble_stats['climate_change']['global_change'].item() \n",
    "                if 'climate_change' in ensemble_stats else None\n",
    "            ),\n",
    "            'models_analyzed': len(CMIP6_MODELS),\n",
    "            'grid_points': ensemble_datasets[next(iter(ensemble_datasets))].tas.size,\n",
    "            'analysis_period': '20 years per experiment'\n",
    "        }\n",
    "    }\n",
    "    \n",
    "    metadata_file = output_dir / \"cmip6_analysis_metadata.json\"\n",
    "    with open(metadata_file, 'w') as f:\n",
    "        import json\n",
    "        json.dump(metadata, f, indent=2, default=str)\n",
    "    \n",
    "    file_size = metadata_file.stat().st_size / 1024\n",
    "    exports.append(f\"{metadata_file.name} ({file_size:.1f} KB)\")\n",
    "    console.print(f\"[green]✅ Exported analysis metadata: {file_size:.1f} KB[/green]\")\n",
    "    \n",
    "    return output_dir, exports\n",
    "\n",
    "# Export all results\n",
    "console.print(\"[bold blue]💾 Exporting analysis results...[/bold blue]\")\n",
    "\n",
    "output_directory, exported_files = export_analysis_results()\n",
    "\n",
    "# Summary of exports\n",
    "export_table = Table(title=\"Exported Analysis Products\", show_header=True, header_style=\"bold magenta\")\n",
    "export_table.add_column(\"File\", style=\"cyan\")\n",
    "export_table.add_column(\"Format\", style=\"green\")\n",
    "export_table.add_column(\"Description\", style=\"yellow\")\n",
    "\n",
    "file_descriptions = {\n",
    "    'ensemble_statistics': ('NetCDF', 'Multi-model ensemble statistics (mean, std, min, max)'),\n",
    "    'climate_change_signal': ('NetCDF', 'Spatial pattern of temperature change with significance'),\n",
    "    'climate_indices': ('CSV', 'Time series of key climate indices'),\n",
    "    'analysis_metadata': ('JSON', 'Complete analysis metadata and model information')\n",
    "}\n",
    "\n",
    "for exported_file in exported_files:\n",
    "    file_name = exported_file.split(' (')[0]\n",
    "    \n",
    "    # Match file type\n",
    "    file_type = None\n",
    "    description = \"Analysis output\"\n",
    "    \n",
    "    for key, (fmt, desc) in file_descriptions.items():\n",
    "        if key in file_name:\n",
    "            file_type = fmt\n",
    "            description = desc\n",
    "            break\n",
    "    \n",
    "    if file_type is None:\n",
    "        if file_name.endswith('.nc'):\n",
    "            file_type = 'NetCDF'\n",
    "        elif file_name.endswith('.csv'):\n",
    "            file_type = 'CSV'\n",
    "        elif file_name.endswith('.json'):\n",
    "            file_type = 'JSON'\n",
    "        else:\n",
    "            file_type = 'Unknown'\n",
    "    \n",
    "    export_table.add_row(exported_file, file_type, description)\n",
    "\n",
    "console.print(export_table)\n",
    "console.print(f\"\\n[bold green]📁 All files exported to: {output_directory}[/bold green]\")\n",
    "\n",
    "console.print(\"[bold green]🎉 CMIP6 ensemble analysis workflow complete![/bold green]\")"
   ]
  },
  {
   "cell_type": "markdown",
   "id": "summary-conclusions",
   "metadata": {},
   "source": [
    "## 🎯 Summary and Key Findings\n",
    "\n",
    "This notebook demonstrated a complete CMIP6 multi-model ensemble analysis workflow using Tellus, showcasing:\n",
    "\n",
    "### Technical Accomplishments\n",
    "\n",
    "✅ **Template-based Data Organization**: Implemented ESGF-standard directory structures using Tellus location contexts  \n",
    "✅ **Multi-Location Data Management**: Configured ESGF mirror, local cache, and analysis workspace  \n",
    "✅ **Realistic Sample Data**: Generated CF-compliant CMIP6-like datasets with model-specific characteristics  \n",
    "✅ **Ensemble Statistics**: Calculated comprehensive multi-model statistics with proper uncertainty quantification  \n",
    "✅ **Climate Change Analysis**: Quantified temperature change signals with statistical significance testing  \n",
    "✅ **Earth Science Integration**: Demonstrated xarray, cartopy, and CF conventions integration  \n",
    "✅ **Publication-Quality Output**: Created professional visualizations and exported standardized data products  \n",
    "\n",
    "### Scientific Results\n",
    "\n",
    "**Models Analyzed**: CESM2, MPI-ESM1.2-HR, UKESM1-0-LL, GFDL-ESM4, CanESM5  \n",
    "**Experiments**: Historical (1995-2014) vs SSP5-8.5 (2015-2034)  \n",
    "**Key Findings**: \n",
    "- Early 21st century warming signal across all models\n",
    "- Arctic amplification patterns consistent with observations\n",
    "- Inter-model spread quantified for uncertainty assessment\n",
    "- Land-ocean temperature contrast evolution\n",
    "\n",
    "### Tellus Integration Benefits\n",
    "\n",
    "🔗 **Unified Storage Interface**: Seamless access across local, remote, and cloud storage  \n",
    "📊 **Progress Tracking**: Real-time feedback for large data operations  \n",
    "🗂️ **Template System**: Automatic path resolution for complex data hierarchies  \n",
    "🔍 **Metadata Management**: Comprehensive simulation and location tracking  \n",
    "⚡ **Performance**: Memory-efficient processing with lazy evaluation  \n",
    "🔄 **Workflow Integration**: Ready for Snakemake and HPC scaling  \n",
    "\n",
    "### Next Steps for Your Research\n",
    "\n",
    "- **Scale Analysis**: Extend to full CMIP6 archive with 50+ models\n",
    "- **Add Variables**: Include precipitation, sea ice, ocean variables\n",
    "- **Regional Focus**: Zoom into specific regions or climate phenomena\n",
    "- **Cloud Integration**: Connect to ESGF nodes and cloud storage\n",
    "- **HPC Deployment**: Use Dask for distributed computing\n",
    "- **Reproducible Workflows**: Integrate with Snakemake pipelines\n",
    "\n",
    "This workflow provides a foundation for production Earth science research using Tellus's distributed data management capabilities."
   ]
  },
  {
   "cell_type": "code",
   "execution_count": null,
   "id": "c06cb1ad-48d6-47bf-b2ca-9d56433083b4",
   "metadata": {},
   "outputs": [],
   "source": []
  }
 ],
 "metadata": {
  "kernelspec": {
   "display_name": "Tellus Development",
   "language": "python",
   "name": "tellus-dev"
  },
  "language_info": {
   "codemirror_mode": {
    "name": "ipython",
    "version": 3
   },
   "file_extension": ".py",
   "mimetype": "text/x-python",
   "name": "python",
   "nbconvert_exporter": "python",
   "pygments_lexer": "ipython3",
   "version": "3.12.11"
  }
 },
 "nbformat": 4,
 "nbformat_minor": 5
}
