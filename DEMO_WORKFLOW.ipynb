{
 "cells": [
  {
   "cell_type": "markdown",
   "metadata": {},
   "source": [
    "# 🌊 Tellus Demo: Your First Earth System Model Workflow\n",
    "\n",
    "*A hands-on interactive walkthrough using the real CLI commands that actually exist*\n",
    "\n",
    "## 🎯 What You'll Learn\n",
    "In 10 minutes, you'll create simulations, set up storage locations, and explore the actual Tellus workflow using both traditional CLI and modern REST API approaches.\n",
    "\n",
    "---"
   ]
  },
  {
   "cell_type": "markdown",
   "metadata": {},
   "source": [
    "## 🚀 **Quick Setup**\n",
    "\n",
    "First, let's make sure we're in the right environment and have everything set up:"
   ]
  },
  {
   "cell_type": "code",
   "execution_count": null,
   "metadata": {
    "execution": {
     "iopub.execute_input": "2025-09-09T07:05:27.195404Z",
     "iopub.status.busy": "2025-09-09T07:05:27.195106Z",
     "iopub.status.idle": "2025-09-09T07:05:27.724506Z",
     "shell.execute_reply": "2025-09-09T07:05:27.723942Z"
    }
   },
   "outputs": [],
   "source": [
    "# Check we're in the right directory\n",
    "!pwd\n",
    "!ls -la | head -5"
   ]
  },
  {
   "cell_type": "code",
   "execution_count": null,
   "metadata": {
    "execution": {
     "iopub.execute_input": "2025-09-09T07:05:27.727106Z",
     "iopub.status.busy": "2025-09-09T07:05:27.726908Z",
     "iopub.status.idle": "2025-09-09T07:05:27.981967Z",
     "shell.execute_reply": "2025-09-09T07:05:27.981453Z"
    }
   },
   "outputs": [],
   "source": [
    "# Clean up any previous test data for a fresh start\n",
    "!rm -f simulations.json locations.json\n",
    "print(\"✅ Clean slate ready!\")"
   ]
  },
  {
   "cell_type": "markdown",
   "metadata": {},
   "source": [
    "## 🧪 **Workflow 1: Traditional CLI Mode**"
   ]
  },
  {
   "cell_type": "markdown",
   "metadata": {},
   "source": [
    "### Step 1: Create Your First Simulation"
   ]
  },
  {
   "cell_type": "code",
   "execution_count": null,
   "metadata": {
    "execution": {
     "iopub.execute_input": "2025-09-09T07:05:27.984349Z",
     "iopub.status.busy": "2025-09-09T07:05:27.984190Z",
     "iopub.status.idle": "2025-09-09T07:05:29.105559Z",
     "shell.execute_reply": "2025-09-09T07:05:29.104897Z"
    }
   },
   "outputs": [],
   "source": [
    "# Create a new FESOM ocean model simulation\n",
    "!pixi run tellus simulation create my-fesom-run --model-id FESOM2\n",
    "print(\"\\n✅ Created: my-fesom-run simulation\")"
   ]
  },
  {
   "cell_type": "markdown",
   "metadata": {},
   "source": [
    "### Step 2: Add Storage Locations"
   ]
  },
  {
   "cell_type": "code",
   "execution_count": null,
   "metadata": {
    "execution": {
     "iopub.execute_input": "2025-09-09T07:05:29.108179Z",
     "iopub.status.busy": "2025-09-09T07:05:29.107994Z",
     "iopub.status.idle": "2025-09-09T07:05:30.088162Z",
     "shell.execute_reply": "2025-09-09T07:05:30.087710Z"
    }
   },
   "outputs": [],
   "source": [
    "# Add a local development location\n",
    "!pixi run tellus location create dev-local --protocol=file --kind=disk --path=/tmp/dev-storage\n",
    "print(\"\\n✅ Created dev-local location\")"
   ]
  },
  {
   "cell_type": "code",
   "execution_count": null,
   "metadata": {
    "execution": {
     "iopub.execute_input": "2025-09-09T07:05:30.090115Z",
     "iopub.status.busy": "2025-09-09T07:05:30.089793Z",
     "iopub.status.idle": "2025-09-09T07:05:31.060864Z",
     "shell.execute_reply": "2025-09-09T07:05:31.060345Z"
    }
   },
   "outputs": [],
   "source": [
    "# Add an HPC cluster location  \n",
    "!pixi run tellus location create hpc-cluster --protocol=ssh --kind=compute --host=login.hpc.example.com --path=/work/username/simulations\n",
    "print(\"\\n✅ Created hpc-cluster location\")"
   ]
  },
  {
   "cell_type": "markdown",
   "metadata": {},
   "source": [
    "### Step 3: Connect Simulation to Locations"
   ]
  },
  {
   "cell_type": "code",
   "execution_count": null,
   "metadata": {
    "execution": {
     "iopub.execute_input": "2025-09-09T07:05:31.063360Z",
     "iopub.status.busy": "2025-09-09T07:05:31.063172Z",
     "iopub.status.idle": "2025-09-09T07:05:32.018086Z",
     "shell.execute_reply": "2025-09-09T07:05:32.017483Z"
    }
   },
   "outputs": [],
   "source": [
    "# Associate your simulation with storage locations\n",
    "!pixi run tellus simulation location add my-fesom-run dev-local\n",
    "print(\"\\n✅ Associated dev-local with my-fesom-run\")"
   ]
  },
  {
   "cell_type": "code",
   "execution_count": null,
   "metadata": {
    "execution": {
     "iopub.execute_input": "2025-09-09T07:05:32.020672Z",
     "iopub.status.busy": "2025-09-09T07:05:32.020467Z",
     "iopub.status.idle": "2025-09-09T07:05:32.967769Z",
     "shell.execute_reply": "2025-09-09T07:05:32.967235Z"
    }
   },
   "outputs": [],
   "source": [
    "!pixi run tellus simulation location add my-fesom-run hpc-cluster\n",
    "print(\"\\n✅ Associated hpc-cluster with my-fesom-run\")"
   ]
  },
  {
   "cell_type": "markdown",
   "metadata": {},
   "source": [
    "### Step 4: Explore Your Setup"
   ]
  },
  {
   "cell_type": "code",
   "execution_count": null,
   "metadata": {
    "execution": {
     "iopub.execute_input": "2025-09-09T07:05:32.970199Z",
     "iopub.status.busy": "2025-09-09T07:05:32.969906Z",
     "iopub.status.idle": "2025-09-09T07:05:33.932005Z",
     "shell.execute_reply": "2025-09-09T07:05:33.931631Z"
    }
   },
   "outputs": [],
   "source": [
    "# List all simulations\n",
    "!pixi run tellus simulation list"
   ]
  },
  {
   "cell_type": "code",
   "execution_count": null,
   "metadata": {
    "execution": {
     "iopub.execute_input": "2025-09-09T07:05:33.934013Z",
     "iopub.status.busy": "2025-09-09T07:05:33.933804Z",
     "iopub.status.idle": "2025-09-09T07:05:34.888953Z",
     "shell.execute_reply": "2025-09-09T07:05:34.888401Z"
    }
   },
   "outputs": [],
   "source": [
    "# View simulation details\n",
    "!pixi run tellus simulation show my-fesom-run"
   ]
  },
  {
   "cell_type": "code",
   "execution_count": null,
   "metadata": {
    "execution": {
     "iopub.execute_input": "2025-09-09T07:05:34.891346Z",
     "iopub.status.busy": "2025-09-09T07:05:34.891066Z",
     "iopub.status.idle": "2025-09-09T07:05:35.837783Z",
     "shell.execute_reply": "2025-09-09T07:05:35.837108Z"
    }
   },
   "outputs": [],
   "source": [
    "# List available storage locations\n",
    "!pixi run tellus location list"
   ]
  },
  {
   "cell_type": "code",
   "execution_count": null,
   "metadata": {
    "execution": {
     "iopub.execute_input": "2025-09-09T07:05:35.840637Z",
     "iopub.status.busy": "2025-09-09T07:05:35.840213Z",
     "iopub.status.idle": "2025-09-09T07:05:36.858629Z",
     "shell.execute_reply": "2025-09-09T07:05:36.858003Z"
    }
   },
   "outputs": [],
   "source": [
    "# Test location connectivity\n",
    "!pixi run tellus location test dev-local"
   ]
  },
  {
   "cell_type": "code",
   "execution_count": null,
   "metadata": {
    "execution": {
     "iopub.execute_input": "2025-09-09T07:05:36.860694Z",
     "iopub.status.busy": "2025-09-09T07:05:36.860426Z",
     "iopub.status.idle": "2025-09-09T07:05:37.905997Z",
     "shell.execute_reply": "2025-09-09T07:05:37.905602Z"
    }
   },
   "outputs": [],
   "source": [
    "# List simulation-location associations\n",
    "!pixi run tellus simulation location list my-fesom-run"
   ]
  },
  {
   "cell_type": "markdown",
   "metadata": {},
   "source": [
    "### Step 5: Work with Simulation Data"
   ]
  },
  {
   "cell_type": "code",
   "execution_count": null,
   "metadata": {
    "execution": {
     "iopub.execute_input": "2025-09-09T07:05:37.908008Z",
     "iopub.status.busy": "2025-09-09T07:05:37.907856Z",
     "iopub.status.idle": "2025-09-09T07:05:38.968198Z",
     "shell.execute_reply": "2025-09-09T07:05:38.967706Z"
    }
   },
   "outputs": [],
   "source": [
    "# List contents at a simulation location\n",
    "!pixi run tellus simulation location ls my-fesom-run dev-local"
   ]
  },
  {
   "cell_type": "markdown",
   "metadata": {},
   "source": [
    "---\n",
    "\n",
    "## 🌐 **Workflow 2: Modern REST API Mode**\n",
    "\n",
    "Now let's switch to the powerful REST API backend:\n"
   ]
  },
  {
   "cell_type": "code",
   "execution_count": null,
   "metadata": {
    "execution": {
     "iopub.execute_input": "2025-09-09T07:05:38.970587Z",
     "iopub.status.busy": "2025-09-09T07:05:38.970402Z",
     "iopub.status.idle": "2025-09-09T07:05:38.973185Z",
     "shell.execute_reply": "2025-09-09T07:05:38.972766Z"
    }
   },
   "outputs": [],
   "source": [
    "# Enable REST API mode\n",
    "import os\n",
    "os.environ['TELLUS_CLI_USE_REST_API'] = 'true'\n",
    "print(\"✅ REST API mode enabled!\")\n",
    "print(\"🔍 All subsequent CLI commands will go through the REST API\")"
   ]
  },
  {
   "cell_type": "markdown",
   "metadata": {},
   "source": [
    "**Important Note**: For the REST API to work, you need the API server running. In a separate terminal, run:\n",
    "```bash\n",
    "pixi run api\n",
    "```\n",
    "\n",
    "The server should start on http://localhost:1968"
   ]
  },
  {
   "cell_type": "markdown",
   "metadata": {},
   "source": [
    "### Step 6: Create Another Simulation (via REST)"
   ]
  },
  {
   "cell_type": "code",
   "execution_count": null,
   "metadata": {
    "execution": {
     "iopub.execute_input": "2025-09-09T07:05:38.975400Z",
     "iopub.status.busy": "2025-09-09T07:05:38.975100Z",
     "iopub.status.idle": "2025-09-09T07:05:41.017377Z",
     "shell.execute_reply": "2025-09-09T07:05:41.016740Z"
    }
   },
   "outputs": [],
   "source": [
    "# Same commands, now powered by REST API! ✨\n",
    "!pixi run tellus simulation create my-icon-run --model-id ICON\n",
    "print(\"\\n🔍 Behind the scenes: CLI → REST API → Response\")"
   ]
  },
  {
   "cell_type": "markdown",
   "metadata": {},
   "source": [
    "### Step 7: Verify with Direct API Calls"
   ]
  },
  {
   "cell_type": "code",
   "execution_count": null,
   "metadata": {
    "execution": {
     "iopub.execute_input": "2025-09-09T07:05:41.019742Z",
     "iopub.status.busy": "2025-09-09T07:05:41.019555Z",
     "iopub.status.idle": "2025-09-09T07:05:41.300157Z",
     "shell.execute_reply": "2025-09-09T07:05:41.299433Z"
    }
   },
   "outputs": [],
   "source": [
    "# Check the API health\n",
    "!curl -s http://localhost:1968/api/v0a3/health"
   ]
  },
  {
   "cell_type": "code",
   "execution_count": null,
   "metadata": {
    "execution": {
     "iopub.execute_input": "2025-09-09T07:05:41.302822Z",
     "iopub.status.busy": "2025-09-09T07:05:41.302650Z",
     "iopub.status.idle": "2025-09-09T07:05:41.585011Z",
     "shell.execute_reply": "2025-09-09T07:05:41.584303Z"
    }
   },
   "outputs": [],
   "source": [
    "# List simulations via REST\n",
    "!curl -s http://localhost:1968/api/v0a3/simulations/ | python -m json.tool"
   ]
  },
  {
   "cell_type": "code",
   "execution_count": null,
   "metadata": {
    "execution": {
     "iopub.execute_input": "2025-09-09T07:05:41.587854Z",
     "iopub.status.busy": "2025-09-09T07:05:41.587624Z",
     "iopub.status.idle": "2025-09-09T07:05:41.874954Z",
     "shell.execute_reply": "2025-09-09T07:05:41.874233Z"
    }
   },
   "outputs": [],
   "source": [
    "# Get specific simulation\n",
    "!curl -s http://localhost:1968/api/v0a3/simulations/my-icon-run | python -m json.tool"
   ]
  },
  {
   "cell_type": "code",
   "execution_count": null,
   "metadata": {
    "execution": {
     "iopub.execute_input": "2025-09-09T07:05:41.877772Z",
     "iopub.status.busy": "2025-09-09T07:05:41.877549Z",
     "iopub.status.idle": "2025-09-09T07:05:42.162606Z",
     "shell.execute_reply": "2025-09-09T07:05:42.162121Z"
    }
   },
   "outputs": [],
   "source": [
    "# List storage locations\n",
    "!curl -s http://localhost:1968/api/v0a3/locations/ | python -m json.tool"
   ]
  },
  {
   "cell_type": "markdown",
   "metadata": {},
   "source": [
    "---\n",
    "\n",
    "## 📊 **What You Just Built**\n",
    "\n",
    "### **Your Data Architecture:**\n",
    "```\n",
    "📁 Simulations\n",
    "├── 🌊 my-fesom-run (FESOM2)\n",
    "│   ├── 💻 dev-local (associated)\n",
    "│   └── 🖥️ hpc-cluster (associated)\n",
    "│\n",
    "└── 🌍 my-icon-run (ICON)\n",
    "    └── 📍 (ready for location associations)\n",
    "\n",
    "📍 Locations\n",
    "├── dev-local (local development)\n",
    "└── hpc-cluster (HPC compute)\n",
    "```"
   ]
  },
  {
   "cell_type": "markdown",
   "metadata": {},
   "source": [
    "### **Real Commands You Can Use:**\n",
    "- ✅ **Simulation Management**: `create`, `list`, `show`, `update`, `delete`\n",
    "- ✅ **Location Management**: `create`, `list`, `show`, `test`, `update`, `delete`\n",
    "- ✅ **Location Associations**: `simulation location add/remove/list`\n",
    "- ✅ **File Operations**: `simulation location ls/get/put/mget/mput`\n",
    "- ✅ **Dual Interface**: Traditional CLI + Modern REST API"
   ]
  },
  {
   "cell_type": "markdown",
   "metadata": {},
   "source": [
    "---\n",
    "\n",
    "## 🔍 **Explore Further**"
   ]
  },
  {
   "cell_type": "code",
   "execution_count": null,
   "metadata": {
    "execution": {
     "iopub.execute_input": "2025-09-09T07:05:42.164871Z",
     "iopub.status.busy": "2025-09-09T07:05:42.164683Z",
     "iopub.status.idle": "2025-09-09T07:05:43.783035Z",
     "shell.execute_reply": "2025-09-09T07:05:43.782406Z"
    }
   },
   "outputs": [],
   "source": [
    "# Manage simulation attributes\n",
    "!pixi run tellus simulation attrs my-fesom-run"
   ]
  },
  {
   "cell_type": "code",
   "execution_count": null,
   "metadata": {
    "execution": {
     "iopub.execute_input": "2025-09-09T07:05:43.785463Z",
     "iopub.status.busy": "2025-09-09T07:05:43.785287Z",
     "iopub.status.idle": "2025-09-09T07:05:44.847486Z",
     "shell.execute_reply": "2025-09-09T07:05:44.846862Z"
    }
   },
   "outputs": [],
   "source": [
    "# Work with simulation files\n",
    "!pixi run tellus simulation files my-fesom-run"
   ]
  },
  {
   "cell_type": "markdown",
   "metadata": {},
   "source": [
    "---\n",
    "\n",
    "## 🎉 **Congratulations!**\n",
    "\n",
    "You've just experienced the **real Tellus CLI** - the modern way to manage Earth System Model data:\n",
    "\n",
    "- 🏗️ **Clean Architecture**: CLI and REST API working in harmony\n",
    "- 🌐 **Multi-Location**: Support for various storage backends\n",
    "- 🎯 **Git-like Operations**: Familiar file management commands\n",
    "- 📈 **Scalable**: Ready for small experiments or large model intercomparisons"
   ]
  },
  {
   "cell_type": "markdown",
   "metadata": {},
   "source": [
    "### **Key Features Demonstrated:**\n",
    "- **Direct Parameter Commands**: All operations work with explicit parameters\n",
    "- **Location Associations**: Connect simulations to storage locations\n",
    "- **File Operations**: Upload, download, and list files at remote locations\n",
    "- **REST API Integration**: Same functionality via HTTP endpoints\n",
    "- **Dual Mode**: Switch between direct service calls and REST API backend\n",
    "\n",
    "### **Known Issues:**\n",
    "- **Interactive Wizards**: Currently affected by VSplit compatibility issue ([Issue #54](https://github.com/pgierz/tellus/issues/54)). Use direct parameter commands as shown above.\n",
    "\n",
    "### **Next Steps:**\n",
    "- Upload actual simulation data using `put` commands\n",
    "- Explore the REST API endpoints directly\n",
    "- Set up automated workflows with the API\n",
    "- Try the locations with real remote hosts (SSH keys required)\n",
    "\n",
    "**Welcome to modern climate model data management!** 🌊✨"
   ]
  },
  {
   "cell_type": "code",
   "execution_count": null,
   "metadata": {
    "execution": {
     "iopub.execute_input": "2025-09-09T07:05:44.849722Z",
     "iopub.status.busy": "2025-09-09T07:05:44.849588Z",
     "iopub.status.idle": "2025-09-09T07:05:44.852263Z",
     "shell.execute_reply": "2025-09-09T07:05:44.851969Z"
    }
   },
   "outputs": [],
   "source": [
    "# Final cleanup - disable REST API mode\n",
    "import os\n",
    "if 'TELLUS_CLI_USE_REST_API' in os.environ:\n",
    "    del os.environ['TELLUS_CLI_USE_REST_API']\n",
    "print(\"✅ Demo completed successfully!\")\n",
    "print(\"🧹 REST API mode disabled - back to direct service calls\")"
   ]
  }
 ],
 "metadata": {
  "kernelspec": {
   "display_name": "Python 3",
   "language": "python",
   "name": "python3"
  },
  "language_info": {
   "codemirror_mode": {
    "name": "ipython",
    "version": 3
   },
   "file_extension": ".py",
   "mimetype": "text/x-python",
   "name": "python",
   "nbconvert_exporter": "python",
   "pygments_lexer": "ipython3",
   "version": "3.9.16"
  }
 },
 "nbformat": 4,
 "nbformat_minor": 4
}
